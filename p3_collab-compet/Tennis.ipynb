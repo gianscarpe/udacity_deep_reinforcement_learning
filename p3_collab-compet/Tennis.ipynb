{
 "cells": [
  {
   "cell_type": "markdown",
   "metadata": {
    "collapsed": false
   },
   "source": [
    "\n",
    "\n",
    "---\n",
    "\n",
    "In this notebook, you will learn how to use the Unity ML-Agents environment for the third project of the [Deep Reinforcement Learning Nanodegree](https://www.udacity.com/course/deep-reinforcement-learning-nanodegree--nd893) program.\n",
    "\n",
    "### 1. Start the Environment\n",
    "\n",
    "We begin by importing the necessary packages.  If the code cell below returns an error, please revisit the project instructions to double-check that you have installed [Unity ML-Agents](https://github.com/Unity-Technologies/ml-agents/blob/master/docs/Installation.md) and [NumPy](http://www.numpy.org/)."
   ]
  },
  {
   "cell_type": "code",
   "execution_count": 1,
   "metadata": {
    "collapsed": false
   },
   "outputs": [],
   "source": [
    "from unityagents import UnityEnvironment\n",
    "import numpy as np"
   ]
  },
  {
   "cell_type": "markdown",
   "metadata": {
    "collapsed": false
   },
   "source": [
    "Next, we will start the environment!  **_Before running the code cell below_**, change the `file_name` parameter to match the location of the Unity environment that you downloaded.\n",
    "\n",
    "- **Mac**: `\"path/to/Tennis.app\"`\n",
    "- **Windows** (x86): `\"path/to/Tennis_Windows_x86/Tennis.exe\"`\n",
    "- **Windows** (x86_64): `\"path/to/Tennis_Windows_x86_64/Tennis.exe\"`\n",
    "- **Linux** (x86): `\"path/to/Tennis_Linux/Tennis.x86\"`\n",
    "- **Linux** (x86_64): `\"path/to/Tennis_Linux/Tennis.x86_64\"`\n",
    "- **Linux** (x86, headless): `\"path/to/Tennis_Linux_NoVis/Tennis.x86\"`\n",
    "- **Linux** (x86_64, headless): `\"path/to/Tennis_Linux_NoVis/Tennis.x86_64\"`\n",
    "\n",
    "For instance, if you are using a Mac, then you downloaded `Tennis.app`.  If this file is in the same folder as the notebook, then the line below should appear as follows:\n",
    "```\n",
    "env = UnityEnvironment(file_name=\"Tennis.app\")\n",
    "```"
   ]
  },
  {
   "cell_type": "code",
   "execution_count": 2,
   "metadata": {
    "collapsed": false
   },
   "outputs": [
    {
     "name": "stderr",
     "output_type": "stream",
     "text": [
      "INFO:unityagents:\n",
      "'Academy' started successfully!\n",
      "Unity Academy name: Academy\n",
      "        Number of Brains: 1\n",
      "        Number of External Brains : 1\n",
      "        Lesson number : 0\n",
      "        Reset Parameters :\n",
      "\t\t\n",
      "Unity brain name: TennisBrain\n",
      "        Number of Visual Observations (per agent): 0\n",
      "        Vector Observation space type: continuous\n",
      "        Vector Observation space size (per agent): 8\n",
      "        Number of stacked Vector Observation: 3\n",
      "        Vector Action space type: continuous\n",
      "        Vector Action space size (per agent): 2\n",
      "        Vector Action descriptions: , \n"
     ]
    }
   ],
   "source": [
    "env = UnityEnvironment(file_name=\"env/Tennis.app\")\n",
    "debug = False\n",
    "load = False"
   ]
  },
  {
   "cell_type": "markdown",
   "metadata": {
    "collapsed": false
   },
   "source": [
    "Environments contain **_brains_** which are responsible for deciding the actions of their associated agents. Here we check for the first brain available, and set it as the default brain we will be controlling from Python."
   ]
  },
  {
   "cell_type": "code",
   "execution_count": 3,
   "metadata": {
    "collapsed": false
   },
   "outputs": [],
   "source": [
    "from ddpg_agent import Agent\n",
    "from collections import deque\n",
    "import torch\n",
    "\n",
    "\n",
    "# get the default brain\n",
    "brain_name = env.brain_names[0]\n",
    "brain = env.brains[brain_name]"
   ]
  },
  {
   "cell_type": "markdown",
   "metadata": {
    "collapsed": false
   },
   "source": [
    "### 2. Examine the State and Action Spaces\n",
    "\n",
    "In this environment, two agents control rackets to bounce a ball over a net. If an agent hits the ball over the net, it receives a reward of +0.1.  If an agent lets a ball hit the ground or hits the ball out of bounds, it receives a reward of -0.01.  Thus, the goal of each agent is to keep the ball in play.\n",
    "\n",
    "The observation space consists of 8 variables corresponding to the position and velocity of the ball and racket. Two continuous actions are available, corresponding to movement toward (or away from) the net, and jumping. \n",
    "\n",
    "Run the code cell below to print some information about the environment."
   ]
  },
  {
   "cell_type": "code",
   "execution_count": 4,
   "metadata": {
    "collapsed": false
   },
   "outputs": [
    {
     "name": "stdout",
     "output_type": "stream",
     "text": [
      "Number of agents: 2\n",
      "Size of each action: 2\n",
      "There are 2 agents. Each observes a state with length: 24\n",
      "The state for the first agent looks like: [ 0.          0.          0.          0.          0.          0.\n",
      "  0.          0.          0.          0.          0.          0.\n",
      "  0.          0.          0.          0.         -6.65278625 -1.5\n",
      " -0.          0.          6.83172083  6.         -0.          0.        ]\n"
     ]
    }
   ],
   "source": [
    "# reset the environment\n",
    "env_info = env.reset(train_mode=True)[brain_name]\n",
    "\n",
    "# number of agents \n",
    "num_agents = len(env_info.agents)\n",
    "print('Number of agents:', num_agents)\n",
    "\n",
    "# size of each action\n",
    "action_size = brain.vector_action_space_size\n",
    "print('Size of each action:', action_size)\n",
    "\n",
    "# examine the state space \n",
    "states = env_info.vector_observations\n",
    "state_size = states.shape[1]\n",
    "print('There are {} agents. Each observes a state with length: {}'.format(states.shape[0], state_size))\n",
    "print('The state for the first agent looks like:', states[0])\n",
    "\n",
    "agent = Agent(state_size=state_size, action_size=action_size, n_agents=num_agents, seed=42)\n",
    "\n",
    "if load:\n",
    "    agent.actor_local.load_state_dict(torch.load('checkpoint_actor.pth'))\n",
    "    agent.critic_local.load_state_dict(torch.load('checkpoint_critic.pth'))\n",
    "\n"
   ]
  },
  {
   "cell_type": "markdown",
   "metadata": {
    "collapsed": false
   },
   "source": [
    "### 3. Take Random Actions in the Environment\n",
    "\n",
    "In the next code cell, you will learn how to use the Python API to control the agents and receive feedback from the environment.\n",
    "\n",
    "Once this cell is executed, you will watch the agents' performance, if they select actions at random with each time step.  A window should pop up that allows you to observe the agents.\n",
    "\n",
    "Of course, as part of the project, you'll have to change the code so that the agents are able to use their experiences to gradually choose better actions when interacting with the environment!"
   ]
  },
  {
   "cell_type": "code",
   "execution_count": 5,
   "metadata": {
    "collapsed": false
   },
   "outputs": [],
   "source": [
    "if debug:\n",
    "    for i in range(1, 6):                                      # play game for 5 episodes\n",
    "        env_info = env.reset(train_mode=False)[brain_name]     # reset the environment    \n",
    "        states = env_info.vector_observations                  # get the current state (for each agent)\n",
    "        scores = np.zeros(num_agents)                          # initialize the score (for each agent)\n",
    "        while True:\n",
    "            actions = np.random.randn(num_agents, action_size) # select an action (for each agent)\n",
    "            actions = np.clip(actions, -1, 1)                  # all actions between -1 and 1\n",
    "            env_info = env.step(actions)[brain_name]           # send all actions to tne environment\n",
    "            next_states = env_info.vector_observations         # get next state (for each agent)\n",
    "            rewards = env_info.rewards                         # get reward (for each agent)\n",
    "            dones = env_info.local_done                        # see if episode finished\n",
    "            scores += env_info.rewards                         # update the score (for each agent)\n",
    "            states = next_states                               # roll over states to next time step\n",
    "            if np.any(dones):                                  # exit loop if episode finished\n",
    "                break\n",
    "    print('Score (max over agents) from episode {}: {}'.format(i, np.max(scores)))"
   ]
  },
  {
   "cell_type": "markdown",
   "metadata": {
    "collapsed": false
   },
   "source": [
    "When finished, you can close the environment."
   ]
  },
  {
   "cell_type": "markdown",
   "metadata": {
    "collapsed": false
   },
   "source": [
    "\n",
    "Now it's your turn to train your own agent to solve the environment!  When training the environment, set `train_mode=True`, so that the line for resetting the environment looks like the following:\n",
    "```python\n",
    "env_info = env.reset(train_mode=True)[brain_name]\n",
    "```"
   ]
  },
  {
   "cell_type": "code",
   "execution_count": null,
   "metadata": {
    "collapsed": false
   },
   "outputs": [
    {
     "name": "stdout",
     "output_type": "stream",
     "text": [
      "Training on cpu started...\n",
      "\r",
      "Episode: 1\tAverage Score: 0.00\tCurrent Score: 0.00"
     ]
    },
    {
     "name": "stdout",
     "output_type": "stream",
     "text": [
      "\r",
      "Episode: 2\tAverage Score: 0.00\tCurrent Score: 0.00\r",
      "Episode: 3\tAverage Score: 0.00\tCurrent Score: 0.00\r",
      "Episode: 4\tAverage Score: 0.00\tCurrent Score: 0.00"
     ]
    },
    {
     "name": "stdout",
     "output_type": "stream",
     "text": [
      "\r",
      "Episode: 5\tAverage Score: 0.00\tCurrent Score: 0.00\r",
      "Episode: 6\tAverage Score: 0.00\tCurrent Score: 0.00\r",
      "Episode: 7\tAverage Score: 0.01\tCurrent Score: 0.10\r",
      "Episode: 8\tAverage Score: 0.01\tCurrent Score: 0.00"
     ]
    },
    {
     "name": "stdout",
     "output_type": "stream",
     "text": [
      "\r",
      "Episode: 9\tAverage Score: 0.01\tCurrent Score: 0.00\r",
      "Episode: 10\tAverage Score: 0.01\tCurrent Score: 0.00\r",
      "Episode: 10\tAverage Score: 0.01\tCurrent Score: 0.00\n",
      "\r",
      "Episode: 11\tAverage Score: 0.02\tCurrent Score: 0.10"
     ]
    },
    {
     "name": "stdout",
     "output_type": "stream",
     "text": [
      "\r",
      "Episode: 12\tAverage Score: 0.02\tCurrent Score: 0.00\r",
      "Episode: 13\tAverage Score: 0.02\tCurrent Score: 0.00\r",
      "Episode: 14\tAverage Score: 0.02\tCurrent Score: 0.09\r",
      "Episode: 15\tAverage Score: 0.02\tCurrent Score: 0.00"
     ]
    },
    {
     "name": "stdout",
     "output_type": "stream",
     "text": [
      "\r",
      "Episode: 16\tAverage Score: 0.02\tCurrent Score: 0.00\r",
      "Episode: 17\tAverage Score: 0.02\tCurrent Score: 0.00\r",
      "Episode: 18\tAverage Score: 0.02\tCurrent Score: 0.00\r",
      "Episode: 19\tAverage Score: 0.02\tCurrent Score: 0.00"
     ]
    },
    {
     "name": "stdout",
     "output_type": "stream",
     "text": [
      "\r",
      "Episode: 20\tAverage Score: 0.01\tCurrent Score: 0.00\r",
      "Episode: 20\tAverage Score: 0.01\tCurrent Score: 0.00\n",
      "\r",
      "Episode: 21\tAverage Score: 0.01\tCurrent Score: 0.00\r",
      "Episode: 22\tAverage Score: 0.01\tCurrent Score: 0.00\r",
      "Episode: 23\tAverage Score: 0.01\tCurrent Score: 0.00"
     ]
    },
    {
     "name": "stdout",
     "output_type": "stream",
     "text": [
      "\r",
      "Episode: 24\tAverage Score: 0.01\tCurrent Score: 0.00\r",
      "Episode: 25\tAverage Score: 0.01\tCurrent Score: 0.00\r",
      "Episode: 26\tAverage Score: 0.02\tCurrent Score: 0.10"
     ]
    },
    {
     "name": "stdout",
     "output_type": "stream",
     "text": [
      "\r",
      "Episode: 27\tAverage Score: 0.02\tCurrent Score: 0.20\r",
      "Episode: 28\tAverage Score: 0.02\tCurrent Score: 0.00"
     ]
    },
    {
     "name": "stdout",
     "output_type": "stream",
     "text": [
      "\r",
      "Episode: 29\tAverage Score: 0.02\tCurrent Score: 0.00"
     ]
    },
    {
     "name": "stdout",
     "output_type": "stream",
     "text": [
      "\r",
      "Episode: 30\tAverage Score: 0.02\tCurrent Score: 0.00\r",
      "Episode: 30\tAverage Score: 0.02\tCurrent Score: 0.00\n"
     ]
    },
    {
     "name": "stdout",
     "output_type": "stream",
     "text": [
      "\r",
      "Episode: 31\tAverage Score: 0.02\tCurrent Score: 0.00\r",
      "Episode: 32\tAverage Score: 0.02\tCurrent Score: 0.00"
     ]
    },
    {
     "name": "stdout",
     "output_type": "stream",
     "text": [
      "\r",
      "Episode: 33\tAverage Score: 0.02\tCurrent Score: 0.00"
     ]
    },
    {
     "name": "stdout",
     "output_type": "stream",
     "text": [
      "\r",
      "Episode: 34\tAverage Score: 0.02\tCurrent Score: 0.00"
     ]
    },
    {
     "name": "stdout",
     "output_type": "stream",
     "text": [
      "\r",
      "Episode: 35\tAverage Score: 0.02\tCurrent Score: 0.00\r",
      "Episode: 36\tAverage Score: 0.02\tCurrent Score: 0.00"
     ]
    },
    {
     "name": "stdout",
     "output_type": "stream",
     "text": [
      "\r",
      "Episode: 37\tAverage Score: 0.02\tCurrent Score: 0.00"
     ]
    },
    {
     "name": "stdout",
     "output_type": "stream",
     "text": [
      "\r",
      "Episode: 38\tAverage Score: 0.02\tCurrent Score: 0.00\r",
      "Episode: 39\tAverage Score: 0.02\tCurrent Score: 0.00"
     ]
    },
    {
     "name": "stdout",
     "output_type": "stream",
     "text": [
      "\r",
      "Episode: 40\tAverage Score: 0.01\tCurrent Score: 0.00\r",
      "Episode: 40\tAverage Score: 0.01\tCurrent Score: 0.00\n"
     ]
    },
    {
     "name": "stdout",
     "output_type": "stream",
     "text": [
      "\r",
      "Episode: 41\tAverage Score: 0.01\tCurrent Score: 0.00"
     ]
    },
    {
     "name": "stdout",
     "output_type": "stream",
     "text": [
      "\r",
      "Episode: 42\tAverage Score: 0.01\tCurrent Score: 0.00\r",
      "Episode: 43\tAverage Score: 0.01\tCurrent Score: 0.00"
     ]
    },
    {
     "name": "stdout",
     "output_type": "stream",
     "text": [
      "\r",
      "Episode: 44\tAverage Score: 0.01\tCurrent Score: 0.00"
     ]
    },
    {
     "name": "stdout",
     "output_type": "stream",
     "text": [
      "\r",
      "Episode: 45\tAverage Score: 0.01\tCurrent Score: 0.00\r",
      "Episode: 46\tAverage Score: 0.01\tCurrent Score: 0.00"
     ]
    },
    {
     "name": "stdout",
     "output_type": "stream",
     "text": [
      "\r",
      "Episode: 47\tAverage Score: 0.01\tCurrent Score: 0.00"
     ]
    },
    {
     "name": "stdout",
     "output_type": "stream",
     "text": [
      "\r",
      "Episode: 48\tAverage Score: 0.01\tCurrent Score: 0.00\r",
      "Episode: 49\tAverage Score: 0.01\tCurrent Score: 0.00"
     ]
    },
    {
     "name": "stdout",
     "output_type": "stream",
     "text": [
      "\r",
      "Episode: 50\tAverage Score: 0.01\tCurrent Score: 0.00\r",
      "Episode: 50\tAverage Score: 0.01\tCurrent Score: 0.00\n"
     ]
    },
    {
     "name": "stdout",
     "output_type": "stream",
     "text": [
      "\r",
      "Episode: 51\tAverage Score: 0.01\tCurrent Score: 0.00"
     ]
    },
    {
     "name": "stdout",
     "output_type": "stream",
     "text": [
      "\r",
      "Episode: 52\tAverage Score: 0.01\tCurrent Score: 0.00\r",
      "Episode: 53\tAverage Score: 0.01\tCurrent Score: 0.00"
     ]
    },
    {
     "name": "stdout",
     "output_type": "stream",
     "text": [
      "\r",
      "Episode: 54\tAverage Score: 0.01\tCurrent Score: 0.00"
     ]
    },
    {
     "name": "stdout",
     "output_type": "stream",
     "text": [
      "\r",
      "Episode: 55\tAverage Score: 0.01\tCurrent Score: 0.00\r",
      "Episode: 56\tAverage Score: 0.01\tCurrent Score: 0.00"
     ]
    },
    {
     "name": "stdout",
     "output_type": "stream",
     "text": [
      "\r",
      "Episode: 57\tAverage Score: 0.01\tCurrent Score: 0.00"
     ]
    },
    {
     "name": "stdout",
     "output_type": "stream",
     "text": [
      "\r",
      "Episode: 58\tAverage Score: 0.01\tCurrent Score: 0.00"
     ]
    },
    {
     "name": "stdout",
     "output_type": "stream",
     "text": [
      "\r",
      "Episode: 59\tAverage Score: 0.01\tCurrent Score: 0.00\r",
      "Episode: 60\tAverage Score: 0.01\tCurrent Score: 0.00\r",
      "Episode: 60\tAverage Score: 0.01\tCurrent Score: 0.00\n"
     ]
    },
    {
     "name": "stdout",
     "output_type": "stream",
     "text": [
      "\r",
      "Episode: 61\tAverage Score: 0.01\tCurrent Score: 0.00"
     ]
    },
    {
     "name": "stdout",
     "output_type": "stream",
     "text": [
      "\r",
      "Episode: 62\tAverage Score: 0.01\tCurrent Score: 0.00\r",
      "Episode: 63\tAverage Score: 0.01\tCurrent Score: 0.00"
     ]
    },
    {
     "name": "stdout",
     "output_type": "stream",
     "text": [
      "\r",
      "Episode: 64\tAverage Score: 0.01\tCurrent Score: 0.00"
     ]
    },
    {
     "name": "stdout",
     "output_type": "stream",
     "text": [
      "\r",
      "Episode: 65\tAverage Score: 0.01\tCurrent Score: 0.00"
     ]
    },
    {
     "name": "stdout",
     "output_type": "stream",
     "text": [
      "\r",
      "Episode: 66\tAverage Score: 0.01\tCurrent Score: 0.00\r",
      "Episode: 67\tAverage Score: 0.01\tCurrent Score: 0.00"
     ]
    },
    {
     "name": "stdout",
     "output_type": "stream",
     "text": [
      "\r",
      "Episode: 68\tAverage Score: 0.01\tCurrent Score: 0.00"
     ]
    },
    {
     "name": "stdout",
     "output_type": "stream",
     "text": [
      "\r",
      "Episode: 69\tAverage Score: 0.01\tCurrent Score: 0.00\r",
      "Episode: 70\tAverage Score: 0.01\tCurrent Score: 0.00\r",
      "Episode: 70\tAverage Score: 0.01\tCurrent Score: 0.00\n"
     ]
    },
    {
     "name": "stdout",
     "output_type": "stream",
     "text": [
      "\r",
      "Episode: 71\tAverage Score: 0.01\tCurrent Score: 0.00"
     ]
    },
    {
     "name": "stdout",
     "output_type": "stream",
     "text": [
      "\r",
      "Episode: 72\tAverage Score: 0.01\tCurrent Score: 0.00"
     ]
    },
    {
     "name": "stdout",
     "output_type": "stream",
     "text": [
      "\r",
      "Episode: 73\tAverage Score: 0.01\tCurrent Score: 0.00\r",
      "Episode: 74\tAverage Score: 0.01\tCurrent Score: 0.00"
     ]
    },
    {
     "name": "stdout",
     "output_type": "stream",
     "text": [
      "\r",
      "Episode: 75\tAverage Score: 0.01\tCurrent Score: 0.00"
     ]
    },
    {
     "name": "stdout",
     "output_type": "stream",
     "text": [
      "\r",
      "Episode: 76\tAverage Score: 0.01\tCurrent Score: 0.00\r",
      "Episode: 77\tAverage Score: 0.01\tCurrent Score: 0.00"
     ]
    },
    {
     "name": "stdout",
     "output_type": "stream",
     "text": [
      "\r",
      "Episode: 78\tAverage Score: 0.01\tCurrent Score: 0.00"
     ]
    },
    {
     "name": "stdout",
     "output_type": "stream",
     "text": [
      "\r",
      "Episode: 79\tAverage Score: 0.01\tCurrent Score: 0.00\r",
      "Episode: 80\tAverage Score: 0.01\tCurrent Score: 0.00\r",
      "Episode: 80\tAverage Score: 0.01\tCurrent Score: 0.00\n"
     ]
    },
    {
     "name": "stdout",
     "output_type": "stream",
     "text": [
      "\r",
      "Episode: 81\tAverage Score: 0.01\tCurrent Score: 0.00"
     ]
    },
    {
     "name": "stdout",
     "output_type": "stream",
     "text": [
      "\r",
      "Episode: 82\tAverage Score: 0.01\tCurrent Score: 0.00"
     ]
    },
    {
     "name": "stdout",
     "output_type": "stream",
     "text": [
      "\r",
      "Episode: 83\tAverage Score: 0.01\tCurrent Score: 0.00\r",
      "Episode: 84\tAverage Score: 0.01\tCurrent Score: 0.00"
     ]
    },
    {
     "name": "stdout",
     "output_type": "stream",
     "text": [
      "\r",
      "Episode: 85\tAverage Score: 0.01\tCurrent Score: 0.00"
     ]
    },
    {
     "name": "stdout",
     "output_type": "stream",
     "text": [
      "\r",
      "Episode: 86\tAverage Score: 0.01\tCurrent Score: 0.00\r",
      "Episode: 87\tAverage Score: 0.01\tCurrent Score: 0.00"
     ]
    },
    {
     "name": "stdout",
     "output_type": "stream",
     "text": [
      "\r",
      "Episode: 88\tAverage Score: 0.01\tCurrent Score: 0.00"
     ]
    },
    {
     "name": "stdout",
     "output_type": "stream",
     "text": [
      "\r",
      "Episode: 89\tAverage Score: 0.01\tCurrent Score: 0.00"
     ]
    },
    {
     "name": "stdout",
     "output_type": "stream",
     "text": [
      "\r",
      "Episode: 90\tAverage Score: 0.01\tCurrent Score: 0.00\r",
      "Episode: 90\tAverage Score: 0.01\tCurrent Score: 0.00\n",
      "\r",
      "Episode: 91\tAverage Score: 0.01\tCurrent Score: 0.00"
     ]
    },
    {
     "name": "stdout",
     "output_type": "stream",
     "text": [
      "\r",
      "Episode: 92\tAverage Score: 0.01\tCurrent Score: 0.00"
     ]
    },
    {
     "name": "stdout",
     "output_type": "stream",
     "text": [
      "\r",
      "Episode: 93\tAverage Score: 0.01\tCurrent Score: 0.00\r",
      "Episode: 94\tAverage Score: 0.01\tCurrent Score: 0.00"
     ]
    },
    {
     "name": "stdout",
     "output_type": "stream",
     "text": [
      "\r",
      "Episode: 95\tAverage Score: 0.01\tCurrent Score: 0.00"
     ]
    },
    {
     "name": "stdout",
     "output_type": "stream",
     "text": [
      "\r",
      "Episode: 96\tAverage Score: 0.01\tCurrent Score: 0.00"
     ]
    },
    {
     "name": "stdout",
     "output_type": "stream",
     "text": [
      "\r",
      "Episode: 97\tAverage Score: 0.01\tCurrent Score: 0.00\r",
      "Episode: 98\tAverage Score: 0.01\tCurrent Score: 0.00"
     ]
    },
    {
     "name": "stdout",
     "output_type": "stream",
     "text": [
      "\r",
      "Episode: 99\tAverage Score: 0.01\tCurrent Score: 0.00"
     ]
    },
    {
     "name": "stdout",
     "output_type": "stream",
     "text": [
      "\r",
      "Episode: 100\tAverage Score: 0.01\tCurrent Score: 0.00\r",
      "Episode: 100\tAverage Score: 0.01\tCurrent Score: 0.00\n",
      "\r",
      "Episode: 101\tAverage Score: 0.01\tCurrent Score: 0.00"
     ]
    },
    {
     "name": "stdout",
     "output_type": "stream",
     "text": [
      "\r",
      "Episode: 102\tAverage Score: 0.01\tCurrent Score: 0.00"
     ]
    },
    {
     "name": "stdout",
     "output_type": "stream",
     "text": [
      "\r",
      "Episode: 103\tAverage Score: 0.01\tCurrent Score: 0.00"
     ]
    },
    {
     "name": "stdout",
     "output_type": "stream",
     "text": [
      "\r",
      "Episode: 104\tAverage Score: 0.01\tCurrent Score: 0.00\r",
      "Episode: 105\tAverage Score: 0.01\tCurrent Score: 0.00"
     ]
    },
    {
     "name": "stdout",
     "output_type": "stream",
     "text": [
      "\r",
      "Episode: 106\tAverage Score: 0.01\tCurrent Score: 0.00"
     ]
    },
    {
     "name": "stdout",
     "output_type": "stream",
     "text": [
      "\r",
      "Episode: 107\tAverage Score: 0.00\tCurrent Score: 0.00\r",
      "Episode: 108\tAverage Score: 0.00\tCurrent Score: 0.00"
     ]
    },
    {
     "name": "stdout",
     "output_type": "stream",
     "text": [
      "\r",
      "Episode: 109\tAverage Score: 0.00\tCurrent Score: 0.00"
     ]
    },
    {
     "name": "stdout",
     "output_type": "stream",
     "text": [
      "\r",
      "Episode: 110\tAverage Score: 0.00\tCurrent Score: 0.00\r",
      "Episode: 110\tAverage Score: 0.00\tCurrent Score: 0.00\n"
     ]
    },
    {
     "name": "stdout",
     "output_type": "stream",
     "text": [
      "\r",
      "Episode: 111\tAverage Score: 0.00\tCurrent Score: 0.00\r",
      "Episode: 112\tAverage Score: 0.00\tCurrent Score: 0.00"
     ]
    },
    {
     "name": "stdout",
     "output_type": "stream",
     "text": [
      "\r",
      "Episode: 113\tAverage Score: 0.00\tCurrent Score: 0.00"
     ]
    },
    {
     "name": "stdout",
     "output_type": "stream",
     "text": [
      "\r",
      "Episode: 114\tAverage Score: 0.00\tCurrent Score: 0.00\r",
      "Episode: 115\tAverage Score: 0.00\tCurrent Score: 0.00"
     ]
    },
    {
     "name": "stdout",
     "output_type": "stream",
     "text": [
      "\r",
      "Episode: 116\tAverage Score: 0.00\tCurrent Score: 0.00"
     ]
    },
    {
     "name": "stdout",
     "output_type": "stream",
     "text": [
      "\r",
      "Episode: 117\tAverage Score: 0.00\tCurrent Score: 0.00\r",
      "Episode: 118\tAverage Score: 0.00\tCurrent Score: 0.00"
     ]
    },
    {
     "name": "stdout",
     "output_type": "stream",
     "text": [
      "\r",
      "Episode: 119\tAverage Score: 0.00\tCurrent Score: 0.00"
     ]
    },
    {
     "name": "stdout",
     "output_type": "stream",
     "text": [
      "\r",
      "Episode: 120\tAverage Score: 0.00\tCurrent Score: 0.00\r",
      "Episode: 120\tAverage Score: 0.00\tCurrent Score: 0.00\n"
     ]
    },
    {
     "name": "stdout",
     "output_type": "stream",
     "text": [
      "\r",
      "Episode: 121\tAverage Score: 0.00\tCurrent Score: 0.00\r",
      "Episode: 122\tAverage Score: 0.00\tCurrent Score: 0.00"
     ]
    },
    {
     "name": "stdout",
     "output_type": "stream",
     "text": [
      "\r",
      "Episode: 123\tAverage Score: 0.00\tCurrent Score: 0.00"
     ]
    },
    {
     "name": "stdout",
     "output_type": "stream",
     "text": [
      "\r",
      "Episode: 124\tAverage Score: 0.00\tCurrent Score: 0.00\r",
      "Episode: 125\tAverage Score: 0.00\tCurrent Score: 0.00"
     ]
    },
    {
     "name": "stdout",
     "output_type": "stream",
     "text": [
      "\r",
      "Episode: 126\tAverage Score: 0.00\tCurrent Score: 0.00"
     ]
    },
    {
     "name": "stdout",
     "output_type": "stream",
     "text": [
      "\r",
      "Episode: 127\tAverage Score: 0.00\tCurrent Score: 0.00"
     ]
    },
    {
     "name": "stdout",
     "output_type": "stream",
     "text": [
      "\r",
      "Episode: 128\tAverage Score: 0.00\tCurrent Score: 0.00\r",
      "Episode: 129\tAverage Score: 0.00\tCurrent Score: 0.00"
     ]
    },
    {
     "name": "stdout",
     "output_type": "stream",
     "text": [
      "\r",
      "Episode: 130\tAverage Score: 0.00\tCurrent Score: 0.00\r",
      "Episode: 130\tAverage Score: 0.00\tCurrent Score: 0.00\n"
     ]
    },
    {
     "name": "stdout",
     "output_type": "stream",
     "text": [
      "\r",
      "Episode: 131\tAverage Score: 0.00\tCurrent Score: 0.00\r",
      "Episode: 132\tAverage Score: 0.00\tCurrent Score: 0.00"
     ]
    },
    {
     "name": "stdout",
     "output_type": "stream",
     "text": [
      "\r",
      "Episode: 133\tAverage Score: 0.00\tCurrent Score: 0.00"
     ]
    },
    {
     "name": "stdout",
     "output_type": "stream",
     "text": [
      "\r",
      "Episode: 134\tAverage Score: 0.00\tCurrent Score: 0.00"
     ]
    },
    {
     "name": "stdout",
     "output_type": "stream",
     "text": [
      "\r",
      "Episode: 135\tAverage Score: 0.00\tCurrent Score: 0.00\r",
      "Episode: 136\tAverage Score: 0.00\tCurrent Score: 0.00"
     ]
    },
    {
     "name": "stdout",
     "output_type": "stream",
     "text": [
      "\r",
      "Episode: 137\tAverage Score: 0.00\tCurrent Score: 0.00"
     ]
    },
    {
     "name": "stdout",
     "output_type": "stream",
     "text": [
      "\r",
      "Episode: 138\tAverage Score: 0.00\tCurrent Score: 0.00\r",
      "Episode: 139\tAverage Score: 0.00\tCurrent Score: 0.00"
     ]
    },
    {
     "name": "stdout",
     "output_type": "stream",
     "text": [
      "\r",
      "Episode: 140\tAverage Score: 0.00\tCurrent Score: 0.00\r",
      "Episode: 140\tAverage Score: 0.00\tCurrent Score: 0.00\n"
     ]
    },
    {
     "name": "stdout",
     "output_type": "stream",
     "text": [
      "\r",
      "Episode: 141\tAverage Score: 0.00\tCurrent Score: 0.00"
     ]
    },
    {
     "name": "stdout",
     "output_type": "stream",
     "text": [
      "\r",
      "Episode: 142\tAverage Score: 0.00\tCurrent Score: 0.00\r",
      "Episode: 143\tAverage Score: 0.00\tCurrent Score: 0.00"
     ]
    },
    {
     "name": "stdout",
     "output_type": "stream",
     "text": [
      "\r",
      "Episode: 144\tAverage Score: 0.00\tCurrent Score: 0.00"
     ]
    },
    {
     "name": "stdout",
     "output_type": "stream",
     "text": [
      "\r",
      "Episode: 145\tAverage Score: 0.00\tCurrent Score: 0.00\r",
      "Episode: 146\tAverage Score: 0.00\tCurrent Score: 0.00"
     ]
    },
    {
     "name": "stdout",
     "output_type": "stream",
     "text": [
      "\r",
      "Episode: 147\tAverage Score: 0.00\tCurrent Score: 0.00"
     ]
    },
    {
     "name": "stdout",
     "output_type": "stream",
     "text": [
      "\r",
      "Episode: 148\tAverage Score: 0.00\tCurrent Score: 0.00\r",
      "Episode: 149\tAverage Score: 0.00\tCurrent Score: 0.00"
     ]
    },
    {
     "name": "stdout",
     "output_type": "stream",
     "text": [
      "\r",
      "Episode: 150\tAverage Score: 0.00\tCurrent Score: 0.00\r",
      "Episode: 150\tAverage Score: 0.00\tCurrent Score: 0.00\n"
     ]
    },
    {
     "name": "stdout",
     "output_type": "stream",
     "text": [
      "\r",
      "Episode: 151\tAverage Score: 0.00\tCurrent Score: 0.00"
     ]
    },
    {
     "name": "stdout",
     "output_type": "stream",
     "text": [
      "\r",
      "Episode: 152\tAverage Score: 0.00\tCurrent Score: 0.00\r",
      "Episode: 153\tAverage Score: 0.00\tCurrent Score: 0.00"
     ]
    },
    {
     "name": "stdout",
     "output_type": "stream",
     "text": [
      "\r",
      "Episode: 154\tAverage Score: 0.00\tCurrent Score: 0.00"
     ]
    },
    {
     "name": "stdout",
     "output_type": "stream",
     "text": [
      "\r",
      "Episode: 155\tAverage Score: 0.00\tCurrent Score: 0.00\r",
      "Episode: 156\tAverage Score: 0.00\tCurrent Score: 0.00"
     ]
    },
    {
     "name": "stdout",
     "output_type": "stream",
     "text": [
      "\r",
      "Episode: 157\tAverage Score: 0.00\tCurrent Score: 0.00"
     ]
    },
    {
     "name": "stdout",
     "output_type": "stream",
     "text": [
      "\r",
      "Episode: 158\tAverage Score: 0.00\tCurrent Score: 0.00"
     ]
    },
    {
     "name": "stdout",
     "output_type": "stream",
     "text": [
      "\r",
      "Episode: 159\tAverage Score: 0.00\tCurrent Score: 0.00\r",
      "Episode: 160\tAverage Score: 0.00\tCurrent Score: 0.00\r",
      "Episode: 160\tAverage Score: 0.00\tCurrent Score: 0.00\n"
     ]
    },
    {
     "name": "stdout",
     "output_type": "stream",
     "text": [
      "\r",
      "Episode: 161\tAverage Score: 0.00\tCurrent Score: 0.00"
     ]
    },
    {
     "name": "stdout",
     "output_type": "stream",
     "text": [
      "\r",
      "Episode: 162\tAverage Score: 0.00\tCurrent Score: 0.00\r",
      "Episode: 163\tAverage Score: 0.00\tCurrent Score: 0.00"
     ]
    },
    {
     "name": "stdout",
     "output_type": "stream",
     "text": [
      "\r",
      "Episode: 164\tAverage Score: 0.00\tCurrent Score: 0.00"
     ]
    },
    {
     "name": "stdout",
     "output_type": "stream",
     "text": [
      "\r",
      "Episode: 165\tAverage Score: 0.00\tCurrent Score: 0.00"
     ]
    },
    {
     "name": "stdout",
     "output_type": "stream",
     "text": [
      "\r",
      "Episode: 166\tAverage Score: 0.00\tCurrent Score: 0.00\r",
      "Episode: 167\tAverage Score: 0.00\tCurrent Score: 0.00"
     ]
    },
    {
     "name": "stdout",
     "output_type": "stream",
     "text": [
      "\r",
      "Episode: 168\tAverage Score: 0.00\tCurrent Score: 0.00"
     ]
    },
    {
     "name": "stdout",
     "output_type": "stream",
     "text": [
      "\r",
      "Episode: 169\tAverage Score: 0.00\tCurrent Score: 0.00\r",
      "Episode: 170\tAverage Score: 0.00\tCurrent Score: 0.00\r",
      "Episode: 170\tAverage Score: 0.00\tCurrent Score: 0.00\n"
     ]
    },
    {
     "name": "stdout",
     "output_type": "stream",
     "text": [
      "\r",
      "Episode: 171\tAverage Score: 0.00\tCurrent Score: 0.00"
     ]
    },
    {
     "name": "stdout",
     "output_type": "stream",
     "text": [
      "\r",
      "Episode: 172\tAverage Score: 0.00\tCurrent Score: 0.00"
     ]
    },
    {
     "name": "stdout",
     "output_type": "stream",
     "text": [
      "\r",
      "Episode: 173\tAverage Score: 0.00\tCurrent Score: 0.00\r",
      "Episode: 174\tAverage Score: 0.00\tCurrent Score: 0.00"
     ]
    },
    {
     "name": "stdout",
     "output_type": "stream",
     "text": [
      "\r",
      "Episode: 175\tAverage Score: 0.00\tCurrent Score: 0.00"
     ]
    },
    {
     "name": "stdout",
     "output_type": "stream",
     "text": [
      "\r",
      "Episode: 176\tAverage Score: 0.00\tCurrent Score: 0.00\r",
      "Episode: 177\tAverage Score: 0.00\tCurrent Score: 0.00"
     ]
    },
    {
     "name": "stdout",
     "output_type": "stream",
     "text": [
      "\r",
      "Episode: 178\tAverage Score: 0.00\tCurrent Score: 0.00"
     ]
    },
    {
     "name": "stdout",
     "output_type": "stream",
     "text": [
      "\r",
      "Episode: 179\tAverage Score: 0.00\tCurrent Score: 0.00\r",
      "Episode: 180\tAverage Score: 0.00\tCurrent Score: 0.00\r",
      "Episode: 180\tAverage Score: 0.00\tCurrent Score: 0.00\n"
     ]
    },
    {
     "name": "stdout",
     "output_type": "stream",
     "text": [
      "\r",
      "Episode: 181\tAverage Score: 0.00\tCurrent Score: 0.00"
     ]
    },
    {
     "name": "stdout",
     "output_type": "stream",
     "text": [
      "\r",
      "Episode: 182\tAverage Score: 0.00\tCurrent Score: 0.00"
     ]
    },
    {
     "name": "stdout",
     "output_type": "stream",
     "text": [
      "\r",
      "Episode: 183\tAverage Score: 0.00\tCurrent Score: 0.00\r",
      "Episode: 184\tAverage Score: 0.00\tCurrent Score: 0.00"
     ]
    },
    {
     "name": "stdout",
     "output_type": "stream",
     "text": [
      "\r",
      "Episode: 185\tAverage Score: 0.00\tCurrent Score: 0.00"
     ]
    },
    {
     "name": "stdout",
     "output_type": "stream",
     "text": [
      "\r",
      "Episode: 186\tAverage Score: 0.00\tCurrent Score: 0.00\r",
      "Episode: 187\tAverage Score: 0.00\tCurrent Score: 0.00"
     ]
    },
    {
     "name": "stdout",
     "output_type": "stream",
     "text": [
      "\r",
      "Episode: 188\tAverage Score: 0.00\tCurrent Score: 0.00"
     ]
    },
    {
     "name": "stdout",
     "output_type": "stream",
     "text": [
      "\r",
      "Episode: 189\tAverage Score: 0.00\tCurrent Score: 0.00"
     ]
    },
    {
     "name": "stdout",
     "output_type": "stream",
     "text": [
      "\r",
      "Episode: 190\tAverage Score: 0.00\tCurrent Score: 0.00\r",
      "Episode: 190\tAverage Score: 0.00\tCurrent Score: 0.00\n",
      "\r",
      "Episode: 191\tAverage Score: 0.00\tCurrent Score: 0.00"
     ]
    },
    {
     "name": "stdout",
     "output_type": "stream",
     "text": [
      "\r",
      "Episode: 192\tAverage Score: 0.00\tCurrent Score: 0.00"
     ]
    },
    {
     "name": "stdout",
     "output_type": "stream",
     "text": [
      "\r",
      "Episode: 193\tAverage Score: 0.00\tCurrent Score: 0.00\r",
      "Episode: 194\tAverage Score: 0.00\tCurrent Score: 0.00"
     ]
    },
    {
     "name": "stdout",
     "output_type": "stream",
     "text": [
      "\r",
      "Episode: 195\tAverage Score: 0.00\tCurrent Score: 0.00"
     ]
    },
    {
     "name": "stdout",
     "output_type": "stream",
     "text": [
      "\r",
      "Episode: 196\tAverage Score: 0.00\tCurrent Score: 0.00"
     ]
    },
    {
     "name": "stdout",
     "output_type": "stream",
     "text": [
      "\r",
      "Episode: 197\tAverage Score: 0.00\tCurrent Score: 0.00\r",
      "Episode: 198\tAverage Score: 0.00\tCurrent Score: 0.00"
     ]
    },
    {
     "name": "stdout",
     "output_type": "stream",
     "text": [
      "\r",
      "Episode: 199\tAverage Score: 0.00\tCurrent Score: 0.00"
     ]
    },
    {
     "name": "stdout",
     "output_type": "stream",
     "text": [
      "\r",
      "Episode: 200\tAverage Score: 0.00\tCurrent Score: 0.00\r",
      "Episode: 200\tAverage Score: 0.00\tCurrent Score: 0.00\n",
      "\r",
      "Episode: 201\tAverage Score: 0.00\tCurrent Score: 0.00"
     ]
    },
    {
     "name": "stdout",
     "output_type": "stream",
     "text": [
      "\r",
      "Episode: 202\tAverage Score: 0.00\tCurrent Score: 0.00"
     ]
    },
    {
     "name": "stdout",
     "output_type": "stream",
     "text": [
      "\r",
      "Episode: 203\tAverage Score: 0.00\tCurrent Score: 0.00"
     ]
    },
    {
     "name": "stdout",
     "output_type": "stream",
     "text": [
      "\r",
      "Episode: 204\tAverage Score: 0.00\tCurrent Score: 0.00\r",
      "Episode: 205\tAverage Score: 0.00\tCurrent Score: 0.00"
     ]
    },
    {
     "name": "stdout",
     "output_type": "stream",
     "text": [
      "\r",
      "Episode: 206\tAverage Score: 0.00\tCurrent Score: 0.00"
     ]
    },
    {
     "name": "stdout",
     "output_type": "stream",
     "text": [
      "\r",
      "Episode: 207\tAverage Score: 0.00\tCurrent Score: 0.00\r",
      "Episode: 208\tAverage Score: 0.00\tCurrent Score: 0.00"
     ]
    },
    {
     "name": "stdout",
     "output_type": "stream",
     "text": [
      "\r",
      "Episode: 209\tAverage Score: 0.00\tCurrent Score: 0.00"
     ]
    },
    {
     "name": "stdout",
     "output_type": "stream",
     "text": [
      "\r",
      "Episode: 210\tAverage Score: 0.00\tCurrent Score: 0.00\r",
      "Episode: 210\tAverage Score: 0.00\tCurrent Score: 0.00\n"
     ]
    },
    {
     "name": "stdout",
     "output_type": "stream",
     "text": [
      "\r",
      "Episode: 211\tAverage Score: 0.00\tCurrent Score: 0.00\r",
      "Episode: 212\tAverage Score: 0.00\tCurrent Score: 0.00"
     ]
    },
    {
     "name": "stdout",
     "output_type": "stream",
     "text": [
      "\r",
      "Episode: 213\tAverage Score: 0.00\tCurrent Score: 0.00"
     ]
    },
    {
     "name": "stdout",
     "output_type": "stream",
     "text": [
      "\r",
      "Episode: 214\tAverage Score: 0.00\tCurrent Score: 0.00\r",
      "Episode: 215\tAverage Score: 0.00\tCurrent Score: 0.00"
     ]
    },
    {
     "name": "stdout",
     "output_type": "stream",
     "text": [
      "\r",
      "Episode: 216\tAverage Score: 0.00\tCurrent Score: 0.00"
     ]
    },
    {
     "name": "stdout",
     "output_type": "stream",
     "text": [
      "\r",
      "Episode: 217\tAverage Score: 0.00\tCurrent Score: 0.00\r",
      "Episode: 218\tAverage Score: 0.00\tCurrent Score: 0.00"
     ]
    },
    {
     "name": "stdout",
     "output_type": "stream",
     "text": [
      "\r",
      "Episode: 219\tAverage Score: 0.00\tCurrent Score: 0.00"
     ]
    },
    {
     "name": "stdout",
     "output_type": "stream",
     "text": [
      "\r",
      "Episode: 220\tAverage Score: 0.00\tCurrent Score: 0.00\r",
      "Episode: 220\tAverage Score: 0.00\tCurrent Score: 0.00\n"
     ]
    },
    {
     "name": "stdout",
     "output_type": "stream",
     "text": [
      "\r",
      "Episode: 221\tAverage Score: 0.00\tCurrent Score: 0.00\r",
      "Episode: 222\tAverage Score: 0.00\tCurrent Score: 0.00"
     ]
    },
    {
     "name": "stdout",
     "output_type": "stream",
     "text": [
      "\r",
      "Episode: 223\tAverage Score: 0.00\tCurrent Score: 0.00"
     ]
    },
    {
     "name": "stdout",
     "output_type": "stream",
     "text": [
      "\r",
      "Episode: 224\tAverage Score: 0.00\tCurrent Score: 0.00\r",
      "Episode: 225\tAverage Score: 0.00\tCurrent Score: 0.00"
     ]
    },
    {
     "name": "stdout",
     "output_type": "stream",
     "text": [
      "\r",
      "Episode: 226\tAverage Score: 0.00\tCurrent Score: 0.00"
     ]
    },
    {
     "name": "stdout",
     "output_type": "stream",
     "text": [
      "\r",
      "Episode: 227\tAverage Score: 0.00\tCurrent Score: 0.00"
     ]
    },
    {
     "name": "stdout",
     "output_type": "stream",
     "text": [
      "\r",
      "Episode: 228\tAverage Score: 0.00\tCurrent Score: 0.00\r",
      "Episode: 229\tAverage Score: 0.00\tCurrent Score: 0.00"
     ]
    },
    {
     "name": "stdout",
     "output_type": "stream",
     "text": [
      "\r",
      "Episode: 230\tAverage Score: 0.00\tCurrent Score: 0.00\r",
      "Episode: 230\tAverage Score: 0.00\tCurrent Score: 0.00\n"
     ]
    },
    {
     "name": "stdout",
     "output_type": "stream",
     "text": [
      "\r",
      "Episode: 231\tAverage Score: 0.00\tCurrent Score: 0.00\r",
      "Episode: 232\tAverage Score: 0.00\tCurrent Score: 0.00"
     ]
    },
    {
     "name": "stdout",
     "output_type": "stream",
     "text": [
      "\r",
      "Episode: 233\tAverage Score: 0.00\tCurrent Score: 0.00"
     ]
    },
    {
     "name": "stdout",
     "output_type": "stream",
     "text": [
      "\r",
      "Episode: 234\tAverage Score: 0.00\tCurrent Score: 0.00"
     ]
    },
    {
     "name": "stdout",
     "output_type": "stream",
     "text": [
      "\r",
      "Episode: 235\tAverage Score: 0.00\tCurrent Score: 0.00\r",
      "Episode: 236\tAverage Score: 0.00\tCurrent Score: 0.00"
     ]
    },
    {
     "name": "stdout",
     "output_type": "stream",
     "text": [
      "\r",
      "Episode: 237\tAverage Score: 0.00\tCurrent Score: 0.00"
     ]
    },
    {
     "name": "stdout",
     "output_type": "stream",
     "text": [
      "\r",
      "Episode: 238\tAverage Score: 0.00\tCurrent Score: 0.00\r",
      "Episode: 239\tAverage Score: 0.00\tCurrent Score: 0.00"
     ]
    },
    {
     "name": "stdout",
     "output_type": "stream",
     "text": [
      "\r",
      "Episode: 240\tAverage Score: 0.00\tCurrent Score: 0.00\r",
      "Episode: 240\tAverage Score: 0.00\tCurrent Score: 0.00\n"
     ]
    },
    {
     "name": "stdout",
     "output_type": "stream",
     "text": [
      "\r",
      "Episode: 241\tAverage Score: 0.00\tCurrent Score: 0.00"
     ]
    },
    {
     "name": "stdout",
     "output_type": "stream",
     "text": [
      "\r",
      "Episode: 242\tAverage Score: 0.00\tCurrent Score: 0.00\r",
      "Episode: 243\tAverage Score: 0.00\tCurrent Score: 0.00"
     ]
    },
    {
     "name": "stdout",
     "output_type": "stream",
     "text": [
      "\r",
      "Episode: 244\tAverage Score: 0.00\tCurrent Score: 0.00"
     ]
    },
    {
     "name": "stdout",
     "output_type": "stream",
     "text": [
      "\r",
      "Episode: 245\tAverage Score: 0.00\tCurrent Score: 0.00\r",
      "Episode: 246\tAverage Score: 0.00\tCurrent Score: 0.00"
     ]
    },
    {
     "name": "stdout",
     "output_type": "stream",
     "text": [
      "\r",
      "Episode: 247\tAverage Score: 0.00\tCurrent Score: 0.00"
     ]
    },
    {
     "name": "stdout",
     "output_type": "stream",
     "text": [
      "\r",
      "Episode: 248\tAverage Score: 0.00\tCurrent Score: 0.00\r",
      "Episode: 249\tAverage Score: 0.00\tCurrent Score: 0.00"
     ]
    },
    {
     "name": "stdout",
     "output_type": "stream",
     "text": [
      "\r",
      "Episode: 250\tAverage Score: 0.00\tCurrent Score: 0.00\r",
      "Episode: 250\tAverage Score: 0.00\tCurrent Score: 0.00\n"
     ]
    },
    {
     "name": "stdout",
     "output_type": "stream",
     "text": [
      "\r",
      "Episode: 251\tAverage Score: 0.00\tCurrent Score: 0.00"
     ]
    },
    {
     "name": "stdout",
     "output_type": "stream",
     "text": [
      "\r",
      "Episode: 252\tAverage Score: 0.00\tCurrent Score: 0.00\r",
      "Episode: 253\tAverage Score: 0.00\tCurrent Score: 0.00"
     ]
    },
    {
     "name": "stdout",
     "output_type": "stream",
     "text": [
      "\r",
      "Episode: 254\tAverage Score: 0.00\tCurrent Score: 0.00"
     ]
    },
    {
     "name": "stdout",
     "output_type": "stream",
     "text": [
      "\r",
      "Episode: 255\tAverage Score: 0.00\tCurrent Score: 0.00\r",
      "Episode: 256\tAverage Score: 0.00\tCurrent Score: 0.00"
     ]
    },
    {
     "name": "stdout",
     "output_type": "stream",
     "text": [
      "\r",
      "Episode: 257\tAverage Score: 0.00\tCurrent Score: 0.00"
     ]
    },
    {
     "name": "stdout",
     "output_type": "stream",
     "text": [
      "\r",
      "Episode: 258\tAverage Score: 0.00\tCurrent Score: 0.00"
     ]
    },
    {
     "name": "stdout",
     "output_type": "stream",
     "text": [
      "\r",
      "Episode: 259\tAverage Score: 0.00\tCurrent Score: 0.00\r",
      "Episode: 260\tAverage Score: 0.00\tCurrent Score: 0.00\r",
      "Episode: 260\tAverage Score: 0.00\tCurrent Score: 0.00\n"
     ]
    },
    {
     "name": "stdout",
     "output_type": "stream",
     "text": [
      "\r",
      "Episode: 261\tAverage Score: 0.00\tCurrent Score: 0.00"
     ]
    },
    {
     "name": "stdout",
     "output_type": "stream",
     "text": [
      "\r",
      "Episode: 262\tAverage Score: 0.00\tCurrent Score: 0.00\r",
      "Episode: 263\tAverage Score: 0.00\tCurrent Score: 0.00"
     ]
    },
    {
     "name": "stdout",
     "output_type": "stream",
     "text": [
      "\r",
      "Episode: 264\tAverage Score: 0.00\tCurrent Score: 0.00"
     ]
    },
    {
     "name": "stdout",
     "output_type": "stream",
     "text": [
      "\r",
      "Episode: 265\tAverage Score: 0.00\tCurrent Score: 0.00"
     ]
    },
    {
     "name": "stdout",
     "output_type": "stream",
     "text": [
      "\r",
      "Episode: 266\tAverage Score: 0.00\tCurrent Score: 0.00\r",
      "Episode: 267\tAverage Score: 0.00\tCurrent Score: 0.00"
     ]
    },
    {
     "name": "stdout",
     "output_type": "stream",
     "text": [
      "\r",
      "Episode: 268\tAverage Score: 0.00\tCurrent Score: 0.00"
     ]
    },
    {
     "name": "stdout",
     "output_type": "stream",
     "text": [
      "\r",
      "Episode: 269\tAverage Score: 0.00\tCurrent Score: 0.00\r",
      "Episode: 270\tAverage Score: 0.00\tCurrent Score: 0.00\r",
      "Episode: 270\tAverage Score: 0.00\tCurrent Score: 0.00\n"
     ]
    },
    {
     "name": "stdout",
     "output_type": "stream",
     "text": [
      "\r",
      "Episode: 271\tAverage Score: 0.00\tCurrent Score: 0.00"
     ]
    },
    {
     "name": "stdout",
     "output_type": "stream",
     "text": [
      "\r",
      "Episode: 272\tAverage Score: 0.00\tCurrent Score: 0.00"
     ]
    },
    {
     "name": "stdout",
     "output_type": "stream",
     "text": [
      "\r",
      "Episode: 273\tAverage Score: 0.00\tCurrent Score: 0.00\r",
      "Episode: 274\tAverage Score: 0.00\tCurrent Score: 0.00"
     ]
    },
    {
     "name": "stdout",
     "output_type": "stream",
     "text": [
      "\r",
      "Episode: 275\tAverage Score: 0.00\tCurrent Score: 0.00"
     ]
    },
    {
     "name": "stdout",
     "output_type": "stream",
     "text": [
      "\r",
      "Episode: 276\tAverage Score: 0.00\tCurrent Score: 0.00\r",
      "Episode: 277\tAverage Score: 0.00\tCurrent Score: 0.00"
     ]
    },
    {
     "name": "stdout",
     "output_type": "stream",
     "text": [
      "\r",
      "Episode: 278\tAverage Score: 0.00\tCurrent Score: 0.00"
     ]
    },
    {
     "name": "stdout",
     "output_type": "stream",
     "text": [
      "\r",
      "Episode: 279\tAverage Score: 0.00\tCurrent Score: 0.00\r",
      "Episode: 280\tAverage Score: 0.00\tCurrent Score: 0.00\r",
      "Episode: 280\tAverage Score: 0.00\tCurrent Score: 0.00\n"
     ]
    },
    {
     "name": "stdout",
     "output_type": "stream",
     "text": [
      "\r",
      "Episode: 281\tAverage Score: 0.00\tCurrent Score: 0.00"
     ]
    },
    {
     "name": "stdout",
     "output_type": "stream",
     "text": [
      "\r",
      "Episode: 282\tAverage Score: 0.00\tCurrent Score: 0.00"
     ]
    },
    {
     "name": "stdout",
     "output_type": "stream",
     "text": [
      "\r",
      "Episode: 283\tAverage Score: 0.00\tCurrent Score: 0.00\r",
      "Episode: 284\tAverage Score: 0.00\tCurrent Score: 0.00"
     ]
    },
    {
     "name": "stdout",
     "output_type": "stream",
     "text": [
      "\r",
      "Episode: 285\tAverage Score: 0.00\tCurrent Score: 0.00"
     ]
    },
    {
     "name": "stdout",
     "output_type": "stream",
     "text": [
      "\r",
      "Episode: 286\tAverage Score: 0.00\tCurrent Score: 0.00\r",
      "Episode: 287\tAverage Score: 0.00\tCurrent Score: 0.00"
     ]
    },
    {
     "name": "stdout",
     "output_type": "stream",
     "text": [
      "\r",
      "Episode: 288\tAverage Score: 0.00\tCurrent Score: 0.00"
     ]
    },
    {
     "name": "stdout",
     "output_type": "stream",
     "text": [
      "\r",
      "Episode: 289\tAverage Score: 0.00\tCurrent Score: 0.00"
     ]
    },
    {
     "name": "stdout",
     "output_type": "stream",
     "text": [
      "\r",
      "Episode: 290\tAverage Score: 0.00\tCurrent Score: 0.00\r",
      "Episode: 290\tAverage Score: 0.00\tCurrent Score: 0.00\n",
      "\r",
      "Episode: 291\tAverage Score: 0.00\tCurrent Score: 0.00"
     ]
    },
    {
     "name": "stdout",
     "output_type": "stream",
     "text": [
      "\r",
      "Episode: 292\tAverage Score: 0.00\tCurrent Score: 0.00"
     ]
    },
    {
     "name": "stdout",
     "output_type": "stream",
     "text": [
      "\r",
      "Episode: 293\tAverage Score: 0.00\tCurrent Score: 0.00\r",
      "Episode: 294\tAverage Score: 0.00\tCurrent Score: 0.00"
     ]
    },
    {
     "name": "stdout",
     "output_type": "stream",
     "text": [
      "\r",
      "Episode: 295\tAverage Score: 0.00\tCurrent Score: 0.00"
     ]
    },
    {
     "name": "stdout",
     "output_type": "stream",
     "text": [
      "\r",
      "Episode: 296\tAverage Score: 0.00\tCurrent Score: 0.00"
     ]
    },
    {
     "name": "stdout",
     "output_type": "stream",
     "text": [
      "\r",
      "Episode: 297\tAverage Score: 0.00\tCurrent Score: 0.00\r",
      "Episode: 298\tAverage Score: 0.00\tCurrent Score: 0.00"
     ]
    },
    {
     "name": "stdout",
     "output_type": "stream",
     "text": [
      "\r",
      "Episode: 299\tAverage Score: 0.00\tCurrent Score: 0.00"
     ]
    },
    {
     "name": "stdout",
     "output_type": "stream",
     "text": [
      "\r",
      "Episode: 300\tAverage Score: 0.00\tCurrent Score: 0.00\r",
      "Episode: 300\tAverage Score: 0.00\tCurrent Score: 0.00\n",
      "\r",
      "Episode: 301\tAverage Score: 0.00\tCurrent Score: 0.00"
     ]
    },
    {
     "name": "stdout",
     "output_type": "stream",
     "text": [
      "\r",
      "Episode: 302\tAverage Score: 0.00\tCurrent Score: 0.00"
     ]
    },
    {
     "name": "stdout",
     "output_type": "stream",
     "text": [
      "\r",
      "Episode: 303\tAverage Score: 0.00\tCurrent Score: 0.00"
     ]
    },
    {
     "name": "stdout",
     "output_type": "stream",
     "text": [
      "\r",
      "Episode: 304\tAverage Score: 0.00\tCurrent Score: 0.00\r",
      "Episode: 305\tAverage Score: 0.00\tCurrent Score: 0.00"
     ]
    },
    {
     "name": "stdout",
     "output_type": "stream",
     "text": [
      "\r",
      "Episode: 306\tAverage Score: 0.00\tCurrent Score: 0.00"
     ]
    },
    {
     "name": "stdout",
     "output_type": "stream",
     "text": [
      "\r",
      "Episode: 307\tAverage Score: 0.00\tCurrent Score: 0.00\r",
      "Episode: 308\tAverage Score: 0.00\tCurrent Score: 0.00"
     ]
    },
    {
     "name": "stdout",
     "output_type": "stream",
     "text": [
      "\r",
      "Episode: 309\tAverage Score: 0.00\tCurrent Score: 0.00"
     ]
    },
    {
     "name": "stdout",
     "output_type": "stream",
     "text": [
      "\r",
      "Episode: 310\tAverage Score: 0.00\tCurrent Score: 0.00\r",
      "Episode: 310\tAverage Score: 0.00\tCurrent Score: 0.00\n"
     ]
    },
    {
     "name": "stdout",
     "output_type": "stream",
     "text": [
      "\r",
      "Episode: 311\tAverage Score: 0.00\tCurrent Score: 0.00\r",
      "Episode: 312\tAverage Score: 0.00\tCurrent Score: 0.00"
     ]
    },
    {
     "name": "stdout",
     "output_type": "stream",
     "text": [
      "\r",
      "Episode: 313\tAverage Score: 0.00\tCurrent Score: 0.00"
     ]
    },
    {
     "name": "stdout",
     "output_type": "stream",
     "text": [
      "\r",
      "Episode: 314\tAverage Score: 0.00\tCurrent Score: 0.00\r",
      "Episode: 315\tAverage Score: 0.00\tCurrent Score: 0.00"
     ]
    },
    {
     "name": "stdout",
     "output_type": "stream",
     "text": [
      "\r",
      "Episode: 316\tAverage Score: 0.00\tCurrent Score: 0.00"
     ]
    },
    {
     "name": "stdout",
     "output_type": "stream",
     "text": [
      "\r",
      "Episode: 317\tAverage Score: 0.00\tCurrent Score: 0.00\r",
      "Episode: 318\tAverage Score: 0.00\tCurrent Score: 0.00"
     ]
    },
    {
     "name": "stdout",
     "output_type": "stream",
     "text": [
      "\r",
      "Episode: 319\tAverage Score: 0.00\tCurrent Score: 0.00"
     ]
    },
    {
     "name": "stdout",
     "output_type": "stream",
     "text": [
      "\r",
      "Episode: 320\tAverage Score: 0.00\tCurrent Score: 0.00\r",
      "Episode: 320\tAverage Score: 0.00\tCurrent Score: 0.00\n"
     ]
    },
    {
     "name": "stdout",
     "output_type": "stream",
     "text": [
      "\r",
      "Episode: 321\tAverage Score: 0.00\tCurrent Score: 0.00\r",
      "Episode: 322\tAverage Score: 0.00\tCurrent Score: 0.00"
     ]
    },
    {
     "name": "stdout",
     "output_type": "stream",
     "text": [
      "\r",
      "Episode: 323\tAverage Score: 0.00\tCurrent Score: 0.00"
     ]
    },
    {
     "name": "stdout",
     "output_type": "stream",
     "text": [
      "\r",
      "Episode: 324\tAverage Score: 0.00\tCurrent Score: 0.00\r",
      "Episode: 325\tAverage Score: 0.00\tCurrent Score: 0.00"
     ]
    },
    {
     "name": "stdout",
     "output_type": "stream",
     "text": [
      "\r",
      "Episode: 326\tAverage Score: 0.00\tCurrent Score: 0.00"
     ]
    },
    {
     "name": "stdout",
     "output_type": "stream",
     "text": [
      "\r",
      "Episode: 327\tAverage Score: 0.00\tCurrent Score: 0.00"
     ]
    },
    {
     "name": "stdout",
     "output_type": "stream",
     "text": [
      "\r",
      "Episode: 328\tAverage Score: 0.00\tCurrent Score: 0.00\r",
      "Episode: 329\tAverage Score: 0.00\tCurrent Score: 0.00"
     ]
    },
    {
     "name": "stdout",
     "output_type": "stream",
     "text": [
      "\r",
      "Episode: 330\tAverage Score: 0.00\tCurrent Score: 0.00\r",
      "Episode: 330\tAverage Score: 0.00\tCurrent Score: 0.00\n"
     ]
    },
    {
     "name": "stdout",
     "output_type": "stream",
     "text": [
      "\r",
      "Episode: 331\tAverage Score: 0.00\tCurrent Score: 0.00\r",
      "Episode: 332\tAverage Score: 0.00\tCurrent Score: 0.00"
     ]
    },
    {
     "name": "stdout",
     "output_type": "stream",
     "text": [
      "\r",
      "Episode: 333\tAverage Score: 0.00\tCurrent Score: 0.00"
     ]
    },
    {
     "name": "stdout",
     "output_type": "stream",
     "text": [
      "\r",
      "Episode: 334\tAverage Score: 0.00\tCurrent Score: 0.00"
     ]
    },
    {
     "name": "stdout",
     "output_type": "stream",
     "text": [
      "\r",
      "Episode: 335\tAverage Score: 0.00\tCurrent Score: 0.00\r",
      "Episode: 336\tAverage Score: 0.00\tCurrent Score: 0.00"
     ]
    },
    {
     "name": "stdout",
     "output_type": "stream",
     "text": [
      "\r",
      "Episode: 337\tAverage Score: 0.00\tCurrent Score: 0.00"
     ]
    },
    {
     "name": "stdout",
     "output_type": "stream",
     "text": [
      "\r",
      "Episode: 338\tAverage Score: 0.00\tCurrent Score: 0.00\r",
      "Episode: 339\tAverage Score: 0.00\tCurrent Score: 0.00"
     ]
    },
    {
     "name": "stdout",
     "output_type": "stream",
     "text": [
      "\r",
      "Episode: 340\tAverage Score: 0.00\tCurrent Score: 0.00\r",
      "Episode: 340\tAverage Score: 0.00\tCurrent Score: 0.00\n"
     ]
    },
    {
     "name": "stdout",
     "output_type": "stream",
     "text": [
      "\r",
      "Episode: 341\tAverage Score: 0.00\tCurrent Score: 0.00"
     ]
    },
    {
     "name": "stdout",
     "output_type": "stream",
     "text": [
      "\r",
      "Episode: 342\tAverage Score: 0.00\tCurrent Score: 0.00\r",
      "Episode: 343\tAverage Score: 0.00\tCurrent Score: 0.00"
     ]
    },
    {
     "name": "stdout",
     "output_type": "stream",
     "text": [
      "\r",
      "Episode: 344\tAverage Score: 0.00\tCurrent Score: 0.00"
     ]
    },
    {
     "name": "stdout",
     "output_type": "stream",
     "text": [
      "\r",
      "Episode: 345\tAverage Score: 0.00\tCurrent Score: 0.00\r",
      "Episode: 346\tAverage Score: 0.00\tCurrent Score: 0.00"
     ]
    },
    {
     "name": "stdout",
     "output_type": "stream",
     "text": [
      "\r",
      "Episode: 347\tAverage Score: 0.00\tCurrent Score: 0.00"
     ]
    },
    {
     "name": "stdout",
     "output_type": "stream",
     "text": [
      "\r",
      "Episode: 348\tAverage Score: 0.00\tCurrent Score: 0.00\r",
      "Episode: 349\tAverage Score: 0.00\tCurrent Score: 0.00"
     ]
    },
    {
     "name": "stdout",
     "output_type": "stream",
     "text": [
      "\r",
      "Episode: 350\tAverage Score: 0.00\tCurrent Score: 0.00\r",
      "Episode: 350\tAverage Score: 0.00\tCurrent Score: 0.00\n"
     ]
    },
    {
     "name": "stdout",
     "output_type": "stream",
     "text": [
      "\r",
      "Episode: 351\tAverage Score: 0.00\tCurrent Score: 0.00"
     ]
    },
    {
     "name": "stdout",
     "output_type": "stream",
     "text": [
      "\r",
      "Episode: 352\tAverage Score: 0.00\tCurrent Score: 0.00\r",
      "Episode: 353\tAverage Score: 0.00\tCurrent Score: 0.00"
     ]
    },
    {
     "name": "stdout",
     "output_type": "stream",
     "text": [
      "\r",
      "Episode: 354\tAverage Score: 0.00\tCurrent Score: 0.00"
     ]
    },
    {
     "name": "stdout",
     "output_type": "stream",
     "text": [
      "\r",
      "Episode: 355\tAverage Score: 0.00\tCurrent Score: 0.00\r",
      "Episode: 356\tAverage Score: 0.00\tCurrent Score: 0.00"
     ]
    },
    {
     "name": "stdout",
     "output_type": "stream",
     "text": [
      "\r",
      "Episode: 357\tAverage Score: 0.00\tCurrent Score: 0.00"
     ]
    },
    {
     "name": "stdout",
     "output_type": "stream",
     "text": [
      "\r",
      "Episode: 358\tAverage Score: 0.00\tCurrent Score: 0.00"
     ]
    },
    {
     "name": "stdout",
     "output_type": "stream",
     "text": [
      "\r",
      "Episode: 359\tAverage Score: 0.00\tCurrent Score: 0.00\r",
      "Episode: 360\tAverage Score: 0.00\tCurrent Score: 0.00\r",
      "Episode: 360\tAverage Score: 0.00\tCurrent Score: 0.00\n"
     ]
    },
    {
     "name": "stdout",
     "output_type": "stream",
     "text": [
      "\r",
      "Episode: 361\tAverage Score: 0.00\tCurrent Score: 0.00"
     ]
    },
    {
     "name": "stdout",
     "output_type": "stream",
     "text": [
      "\r",
      "Episode: 362\tAverage Score: 0.00\tCurrent Score: 0.00\r",
      "Episode: 363\tAverage Score: 0.00\tCurrent Score: 0.00"
     ]
    },
    {
     "name": "stdout",
     "output_type": "stream",
     "text": [
      "\r",
      "Episode: 364\tAverage Score: 0.00\tCurrent Score: 0.00"
     ]
    },
    {
     "name": "stdout",
     "output_type": "stream",
     "text": [
      "\r",
      "Episode: 365\tAverage Score: 0.00\tCurrent Score: 0.00"
     ]
    },
    {
     "name": "stdout",
     "output_type": "stream",
     "text": [
      "\r",
      "Episode: 366\tAverage Score: 0.00\tCurrent Score: 0.00\r",
      "Episode: 367\tAverage Score: 0.00\tCurrent Score: 0.00"
     ]
    },
    {
     "name": "stdout",
     "output_type": "stream",
     "text": [
      "\r",
      "Episode: 368\tAverage Score: 0.00\tCurrent Score: 0.00"
     ]
    },
    {
     "name": "stdout",
     "output_type": "stream",
     "text": [
      "\r",
      "Episode: 369\tAverage Score: 0.00\tCurrent Score: 0.00\r",
      "Episode: 370\tAverage Score: 0.00\tCurrent Score: 0.00\r",
      "Episode: 370\tAverage Score: 0.00\tCurrent Score: 0.00\n"
     ]
    },
    {
     "name": "stdout",
     "output_type": "stream",
     "text": [
      "\r",
      "Episode: 371\tAverage Score: 0.00\tCurrent Score: 0.00"
     ]
    },
    {
     "name": "stdout",
     "output_type": "stream",
     "text": [
      "\r",
      "Episode: 372\tAverage Score: 0.00\tCurrent Score: 0.00"
     ]
    },
    {
     "name": "stdout",
     "output_type": "stream",
     "text": [
      "\r",
      "Episode: 373\tAverage Score: 0.00\tCurrent Score: 0.00\r",
      "Episode: 374\tAverage Score: 0.00\tCurrent Score: 0.00"
     ]
    },
    {
     "name": "stdout",
     "output_type": "stream",
     "text": [
      "\r",
      "Episode: 375\tAverage Score: 0.00\tCurrent Score: 0.00"
     ]
    },
    {
     "name": "stdout",
     "output_type": "stream",
     "text": [
      "\r",
      "Episode: 376\tAverage Score: 0.00\tCurrent Score: 0.00\r",
      "Episode: 377\tAverage Score: 0.00\tCurrent Score: 0.00"
     ]
    },
    {
     "name": "stdout",
     "output_type": "stream",
     "text": [
      "\r",
      "Episode: 378\tAverage Score: 0.00\tCurrent Score: 0.00"
     ]
    },
    {
     "name": "stdout",
     "output_type": "stream",
     "text": [
      "\r",
      "Episode: 379\tAverage Score: 0.00\tCurrent Score: 0.00\r",
      "Episode: 380\tAverage Score: 0.00\tCurrent Score: 0.00\r",
      "Episode: 380\tAverage Score: 0.00\tCurrent Score: 0.00\n"
     ]
    },
    {
     "name": "stdout",
     "output_type": "stream",
     "text": [
      "\r",
      "Episode: 381\tAverage Score: 0.00\tCurrent Score: 0.00"
     ]
    },
    {
     "name": "stdout",
     "output_type": "stream",
     "text": [
      "\r",
      "Episode: 382\tAverage Score: 0.00\tCurrent Score: 0.00"
     ]
    },
    {
     "name": "stdout",
     "output_type": "stream",
     "text": [
      "\r",
      "Episode: 383\tAverage Score: 0.00\tCurrent Score: 0.00\r",
      "Episode: 384\tAverage Score: 0.00\tCurrent Score: 0.00"
     ]
    },
    {
     "name": "stdout",
     "output_type": "stream",
     "text": [
      "\r",
      "Episode: 385\tAverage Score: 0.00\tCurrent Score: 0.00"
     ]
    },
    {
     "name": "stdout",
     "output_type": "stream",
     "text": [
      "\r",
      "Episode: 386\tAverage Score: 0.00\tCurrent Score: 0.00\r",
      "Episode: 387\tAverage Score: 0.00\tCurrent Score: 0.00"
     ]
    },
    {
     "name": "stdout",
     "output_type": "stream",
     "text": [
      "\r",
      "Episode: 388\tAverage Score: 0.00\tCurrent Score: 0.00"
     ]
    },
    {
     "name": "stdout",
     "output_type": "stream",
     "text": [
      "\r",
      "Episode: 389\tAverage Score: 0.00\tCurrent Score: 0.00"
     ]
    },
    {
     "name": "stdout",
     "output_type": "stream",
     "text": [
      "\r",
      "Episode: 390\tAverage Score: 0.00\tCurrent Score: 0.00\r",
      "Episode: 390\tAverage Score: 0.00\tCurrent Score: 0.00\n",
      "\r",
      "Episode: 391\tAverage Score: 0.00\tCurrent Score: 0.00"
     ]
    },
    {
     "name": "stdout",
     "output_type": "stream",
     "text": [
      "\r",
      "Episode: 392\tAverage Score: 0.00\tCurrent Score: 0.00"
     ]
    },
    {
     "name": "stdout",
     "output_type": "stream",
     "text": [
      "\r",
      "Episode: 393\tAverage Score: 0.00\tCurrent Score: 0.00\r",
      "Episode: 394\tAverage Score: 0.00\tCurrent Score: 0.00"
     ]
    },
    {
     "name": "stdout",
     "output_type": "stream",
     "text": [
      "\r",
      "Episode: 395\tAverage Score: 0.00\tCurrent Score: 0.00"
     ]
    },
    {
     "name": "stdout",
     "output_type": "stream",
     "text": [
      "\r",
      "Episode: 396\tAverage Score: 0.00\tCurrent Score: 0.00"
     ]
    },
    {
     "name": "stdout",
     "output_type": "stream",
     "text": [
      "\r",
      "Episode: 397\tAverage Score: 0.00\tCurrent Score: 0.00\r",
      "Episode: 398\tAverage Score: 0.00\tCurrent Score: 0.00"
     ]
    },
    {
     "name": "stdout",
     "output_type": "stream",
     "text": [
      "\r",
      "Episode: 399\tAverage Score: 0.00\tCurrent Score: 0.00"
     ]
    },
    {
     "name": "stdout",
     "output_type": "stream",
     "text": [
      "\r",
      "Episode: 400\tAverage Score: 0.00\tCurrent Score: 0.00\r",
      "Episode: 400\tAverage Score: 0.00\tCurrent Score: 0.00\n",
      "\r",
      "Episode: 401\tAverage Score: 0.00\tCurrent Score: 0.00"
     ]
    },
    {
     "name": "stdout",
     "output_type": "stream",
     "text": [
      "\r",
      "Episode: 402\tAverage Score: 0.00\tCurrent Score: 0.00"
     ]
    },
    {
     "name": "stdout",
     "output_type": "stream",
     "text": [
      "\r",
      "Episode: 403\tAverage Score: 0.00\tCurrent Score: 0.00"
     ]
    },
    {
     "name": "stdout",
     "output_type": "stream",
     "text": [
      "\r",
      "Episode: 404\tAverage Score: 0.00\tCurrent Score: 0.00\r",
      "Episode: 405\tAverage Score: 0.00\tCurrent Score: 0.00"
     ]
    },
    {
     "name": "stdout",
     "output_type": "stream",
     "text": [
      "\r",
      "Episode: 406\tAverage Score: 0.00\tCurrent Score: 0.00"
     ]
    },
    {
     "name": "stdout",
     "output_type": "stream",
     "text": [
      "\r",
      "Episode: 407\tAverage Score: 0.00\tCurrent Score: 0.00\r",
      "Episode: 408\tAverage Score: 0.00\tCurrent Score: 0.00"
     ]
    },
    {
     "name": "stdout",
     "output_type": "stream",
     "text": [
      "\r",
      "Episode: 409\tAverage Score: 0.00\tCurrent Score: 0.00"
     ]
    },
    {
     "name": "stdout",
     "output_type": "stream",
     "text": [
      "\r",
      "Episode: 410\tAverage Score: 0.00\tCurrent Score: 0.00\r",
      "Episode: 410\tAverage Score: 0.00\tCurrent Score: 0.00\n"
     ]
    },
    {
     "name": "stdout",
     "output_type": "stream",
     "text": [
      "\r",
      "Episode: 411\tAverage Score: 0.00\tCurrent Score: 0.00\r",
      "Episode: 412\tAverage Score: 0.00\tCurrent Score: 0.00"
     ]
    },
    {
     "name": "stdout",
     "output_type": "stream",
     "text": [
      "\r",
      "Episode: 413\tAverage Score: 0.00\tCurrent Score: 0.00"
     ]
    },
    {
     "name": "stdout",
     "output_type": "stream",
     "text": [
      "\r",
      "Episode: 414\tAverage Score: 0.00\tCurrent Score: 0.00\r",
      "Episode: 415\tAverage Score: 0.00\tCurrent Score: 0.00"
     ]
    },
    {
     "name": "stdout",
     "output_type": "stream",
     "text": [
      "\r",
      "Episode: 416\tAverage Score: 0.00\tCurrent Score: 0.00"
     ]
    },
    {
     "name": "stdout",
     "output_type": "stream",
     "text": [
      "\r",
      "Episode: 417\tAverage Score: 0.00\tCurrent Score: 0.00\r",
      "Episode: 418\tAverage Score: 0.00\tCurrent Score: 0.00"
     ]
    },
    {
     "name": "stdout",
     "output_type": "stream",
     "text": [
      "\r",
      "Episode: 419\tAverage Score: 0.00\tCurrent Score: 0.00"
     ]
    },
    {
     "name": "stdout",
     "output_type": "stream",
     "text": [
      "\r",
      "Episode: 420\tAverage Score: 0.00\tCurrent Score: 0.00\r",
      "Episode: 420\tAverage Score: 0.00\tCurrent Score: 0.00\n"
     ]
    },
    {
     "name": "stdout",
     "output_type": "stream",
     "text": [
      "\r",
      "Episode: 421\tAverage Score: 0.00\tCurrent Score: 0.00\r",
      "Episode: 422\tAverage Score: 0.00\tCurrent Score: 0.00"
     ]
    },
    {
     "name": "stdout",
     "output_type": "stream",
     "text": [
      "\r",
      "Episode: 423\tAverage Score: 0.00\tCurrent Score: 0.00"
     ]
    },
    {
     "name": "stdout",
     "output_type": "stream",
     "text": [
      "\r",
      "Episode: 424\tAverage Score: 0.00\tCurrent Score: 0.00\r",
      "Episode: 425\tAverage Score: 0.00\tCurrent Score: 0.00"
     ]
    },
    {
     "name": "stdout",
     "output_type": "stream",
     "text": [
      "\r",
      "Episode: 426\tAverage Score: 0.00\tCurrent Score: 0.00"
     ]
    },
    {
     "name": "stdout",
     "output_type": "stream",
     "text": [
      "\r",
      "Episode: 427\tAverage Score: 0.00\tCurrent Score: 0.00"
     ]
    },
    {
     "name": "stdout",
     "output_type": "stream",
     "text": [
      "\r",
      "Episode: 428\tAverage Score: 0.00\tCurrent Score: 0.00\r",
      "Episode: 429\tAverage Score: 0.00\tCurrent Score: 0.00"
     ]
    },
    {
     "name": "stdout",
     "output_type": "stream",
     "text": [
      "\r",
      "Episode: 430\tAverage Score: 0.00\tCurrent Score: 0.00\r",
      "Episode: 430\tAverage Score: 0.00\tCurrent Score: 0.00\n"
     ]
    },
    {
     "name": "stdout",
     "output_type": "stream",
     "text": [
      "\r",
      "Episode: 431\tAverage Score: 0.00\tCurrent Score: 0.00\r",
      "Episode: 432\tAverage Score: 0.00\tCurrent Score: 0.00"
     ]
    },
    {
     "name": "stdout",
     "output_type": "stream",
     "text": [
      "\r",
      "Episode: 433\tAverage Score: 0.00\tCurrent Score: 0.00"
     ]
    },
    {
     "name": "stdout",
     "output_type": "stream",
     "text": [
      "\r",
      "Episode: 434\tAverage Score: 0.00\tCurrent Score: 0.00"
     ]
    },
    {
     "name": "stdout",
     "output_type": "stream",
     "text": [
      "\r",
      "Episode: 435\tAverage Score: 0.00\tCurrent Score: 0.00\r",
      "Episode: 436\tAverage Score: 0.00\tCurrent Score: 0.00"
     ]
    },
    {
     "name": "stdout",
     "output_type": "stream",
     "text": [
      "\r",
      "Episode: 437\tAverage Score: 0.00\tCurrent Score: 0.00"
     ]
    },
    {
     "name": "stdout",
     "output_type": "stream",
     "text": [
      "\r",
      "Episode: 438\tAverage Score: 0.00\tCurrent Score: 0.00\r",
      "Episode: 439\tAverage Score: 0.00\tCurrent Score: 0.00"
     ]
    },
    {
     "name": "stdout",
     "output_type": "stream",
     "text": [
      "\r",
      "Episode: 440\tAverage Score: 0.00\tCurrent Score: 0.00\r",
      "Episode: 440\tAverage Score: 0.00\tCurrent Score: 0.00\n"
     ]
    },
    {
     "name": "stdout",
     "output_type": "stream",
     "text": [
      "\r",
      "Episode: 441\tAverage Score: 0.00\tCurrent Score: 0.00"
     ]
    },
    {
     "name": "stdout",
     "output_type": "stream",
     "text": [
      "\r",
      "Episode: 442\tAverage Score: 0.00\tCurrent Score: 0.00\r",
      "Episode: 443\tAverage Score: 0.00\tCurrent Score: 0.00"
     ]
    },
    {
     "name": "stdout",
     "output_type": "stream",
     "text": [
      "\r",
      "Episode: 444\tAverage Score: 0.00\tCurrent Score: 0.00"
     ]
    },
    {
     "name": "stdout",
     "output_type": "stream",
     "text": [
      "\r",
      "Episode: 445\tAverage Score: 0.00\tCurrent Score: 0.00\r",
      "Episode: 446\tAverage Score: 0.00\tCurrent Score: 0.00"
     ]
    },
    {
     "name": "stdout",
     "output_type": "stream",
     "text": [
      "\r",
      "Episode: 447\tAverage Score: 0.00\tCurrent Score: 0.00"
     ]
    },
    {
     "name": "stdout",
     "output_type": "stream",
     "text": [
      "\r",
      "Episode: 448\tAverage Score: 0.00\tCurrent Score: 0.00\r",
      "Episode: 449\tAverage Score: 0.00\tCurrent Score: 0.00"
     ]
    },
    {
     "name": "stdout",
     "output_type": "stream",
     "text": [
      "\r",
      "Episode: 450\tAverage Score: 0.00\tCurrent Score: 0.00\r",
      "Episode: 450\tAverage Score: 0.00\tCurrent Score: 0.00\n"
     ]
    },
    {
     "name": "stdout",
     "output_type": "stream",
     "text": [
      "\r",
      "Episode: 451\tAverage Score: 0.00\tCurrent Score: 0.00"
     ]
    },
    {
     "name": "stdout",
     "output_type": "stream",
     "text": [
      "\r",
      "Episode: 452\tAverage Score: 0.00\tCurrent Score: 0.00\r",
      "Episode: 453\tAverage Score: 0.00\tCurrent Score: 0.00"
     ]
    },
    {
     "name": "stdout",
     "output_type": "stream",
     "text": [
      "\r",
      "Episode: 454\tAverage Score: 0.00\tCurrent Score: 0.00"
     ]
    },
    {
     "name": "stdout",
     "output_type": "stream",
     "text": [
      "\r",
      "Episode: 455\tAverage Score: 0.00\tCurrent Score: 0.00\r",
      "Episode: 456\tAverage Score: 0.00\tCurrent Score: 0.00"
     ]
    },
    {
     "name": "stdout",
     "output_type": "stream",
     "text": [
      "\r",
      "Episode: 457\tAverage Score: 0.00\tCurrent Score: 0.00"
     ]
    },
    {
     "name": "stdout",
     "output_type": "stream",
     "text": [
      "\r",
      "Episode: 458\tAverage Score: 0.00\tCurrent Score: 0.00"
     ]
    },
    {
     "name": "stdout",
     "output_type": "stream",
     "text": [
      "\r",
      "Episode: 459\tAverage Score: 0.00\tCurrent Score: 0.00\r",
      "Episode: 460\tAverage Score: 0.00\tCurrent Score: 0.00\r",
      "Episode: 460\tAverage Score: 0.00\tCurrent Score: 0.00\n"
     ]
    },
    {
     "name": "stdout",
     "output_type": "stream",
     "text": [
      "\r",
      "Episode: 461\tAverage Score: 0.00\tCurrent Score: 0.00"
     ]
    },
    {
     "name": "stdout",
     "output_type": "stream",
     "text": [
      "\r",
      "Episode: 462\tAverage Score: 0.00\tCurrent Score: 0.00\r",
      "Episode: 463\tAverage Score: 0.00\tCurrent Score: 0.00"
     ]
    },
    {
     "name": "stdout",
     "output_type": "stream",
     "text": [
      "\r",
      "Episode: 464\tAverage Score: 0.00\tCurrent Score: 0.00"
     ]
    },
    {
     "name": "stdout",
     "output_type": "stream",
     "text": [
      "\r",
      "Episode: 465\tAverage Score: 0.00\tCurrent Score: 0.00"
     ]
    },
    {
     "name": "stdout",
     "output_type": "stream",
     "text": [
      "\r",
      "Episode: 466\tAverage Score: 0.00\tCurrent Score: 0.00\r",
      "Episode: 467\tAverage Score: 0.00\tCurrent Score: 0.00"
     ]
    },
    {
     "name": "stdout",
     "output_type": "stream",
     "text": [
      "\r",
      "Episode: 468\tAverage Score: 0.00\tCurrent Score: 0.00"
     ]
    },
    {
     "name": "stdout",
     "output_type": "stream",
     "text": [
      "\r",
      "Episode: 469\tAverage Score: 0.00\tCurrent Score: 0.00\r",
      "Episode: 470\tAverage Score: 0.00\tCurrent Score: 0.00\r",
      "Episode: 470\tAverage Score: 0.00\tCurrent Score: 0.00\n"
     ]
    },
    {
     "name": "stdout",
     "output_type": "stream",
     "text": [
      "\r",
      "Episode: 471\tAverage Score: 0.00\tCurrent Score: 0.00"
     ]
    },
    {
     "name": "stdout",
     "output_type": "stream",
     "text": [
      "\r",
      "Episode: 472\tAverage Score: 0.00\tCurrent Score: 0.00"
     ]
    },
    {
     "name": "stdout",
     "output_type": "stream",
     "text": [
      "\r",
      "Episode: 473\tAverage Score: 0.00\tCurrent Score: 0.00\r",
      "Episode: 474\tAverage Score: 0.00\tCurrent Score: 0.00"
     ]
    },
    {
     "name": "stdout",
     "output_type": "stream",
     "text": [
      "\r",
      "Episode: 475\tAverage Score: 0.00\tCurrent Score: 0.00"
     ]
    },
    {
     "name": "stdout",
     "output_type": "stream",
     "text": [
      "\r",
      "Episode: 476\tAverage Score: 0.00\tCurrent Score: 0.00\r",
      "Episode: 477\tAverage Score: 0.00\tCurrent Score: 0.00"
     ]
    },
    {
     "name": "stdout",
     "output_type": "stream",
     "text": [
      "\r",
      "Episode: 478\tAverage Score: 0.00\tCurrent Score: 0.00"
     ]
    },
    {
     "name": "stdout",
     "output_type": "stream",
     "text": [
      "\r",
      "Episode: 479\tAverage Score: 0.00\tCurrent Score: 0.00\r",
      "Episode: 480\tAverage Score: 0.00\tCurrent Score: 0.00\r",
      "Episode: 480\tAverage Score: 0.00\tCurrent Score: 0.00\n"
     ]
    },
    {
     "name": "stdout",
     "output_type": "stream",
     "text": [
      "\r",
      "Episode: 481\tAverage Score: 0.00\tCurrent Score: 0.00"
     ]
    },
    {
     "name": "stdout",
     "output_type": "stream",
     "text": [
      "\r",
      "Episode: 482\tAverage Score: 0.00\tCurrent Score: 0.00"
     ]
    },
    {
     "name": "stdout",
     "output_type": "stream",
     "text": [
      "\r",
      "Episode: 483\tAverage Score: 0.00\tCurrent Score: 0.00\r",
      "Episode: 484\tAverage Score: 0.00\tCurrent Score: 0.00"
     ]
    },
    {
     "name": "stdout",
     "output_type": "stream",
     "text": [
      "\r",
      "Episode: 485\tAverage Score: 0.00\tCurrent Score: 0.00"
     ]
    },
    {
     "name": "stdout",
     "output_type": "stream",
     "text": [
      "\r",
      "Episode: 486\tAverage Score: 0.00\tCurrent Score: 0.00\r",
      "Episode: 487\tAverage Score: 0.00\tCurrent Score: 0.00"
     ]
    },
    {
     "name": "stdout",
     "output_type": "stream",
     "text": [
      "\r",
      "Episode: 488\tAverage Score: 0.00\tCurrent Score: 0.00"
     ]
    },
    {
     "name": "stdout",
     "output_type": "stream",
     "text": [
      "\r",
      "Episode: 489\tAverage Score: 0.00\tCurrent Score: 0.00"
     ]
    },
    {
     "name": "stdout",
     "output_type": "stream",
     "text": [
      "\r",
      "Episode: 490\tAverage Score: 0.00\tCurrent Score: 0.00\r",
      "Episode: 490\tAverage Score: 0.00\tCurrent Score: 0.00\n",
      "\r",
      "Episode: 491\tAverage Score: 0.00\tCurrent Score: 0.00"
     ]
    },
    {
     "name": "stdout",
     "output_type": "stream",
     "text": [
      "\r",
      "Episode: 492\tAverage Score: 0.00\tCurrent Score: 0.00"
     ]
    },
    {
     "name": "stdout",
     "output_type": "stream",
     "text": [
      "\r",
      "Episode: 493\tAverage Score: 0.00\tCurrent Score: 0.00\r",
      "Episode: 494\tAverage Score: 0.00\tCurrent Score: 0.00"
     ]
    },
    {
     "name": "stdout",
     "output_type": "stream",
     "text": [
      "\r",
      "Episode: 495\tAverage Score: 0.00\tCurrent Score: 0.00"
     ]
    },
    {
     "name": "stdout",
     "output_type": "stream",
     "text": [
      "\r",
      "Episode: 496\tAverage Score: 0.00\tCurrent Score: 0.00"
     ]
    },
    {
     "name": "stdout",
     "output_type": "stream",
     "text": [
      "\r",
      "Episode: 497\tAverage Score: 0.00\tCurrent Score: 0.00\r",
      "Episode: 498\tAverage Score: 0.00\tCurrent Score: 0.00"
     ]
    },
    {
     "name": "stdout",
     "output_type": "stream",
     "text": [
      "\r",
      "Episode: 499\tAverage Score: 0.00\tCurrent Score: 0.00"
     ]
    },
    {
     "name": "stdout",
     "output_type": "stream",
     "text": [
      "\r",
      "Episode: 500\tAverage Score: 0.00\tCurrent Score: 0.00\r",
      "Episode: 500\tAverage Score: 0.00\tCurrent Score: 0.00\n",
      "\r",
      "Episode: 501\tAverage Score: 0.00\tCurrent Score: 0.00"
     ]
    },
    {
     "name": "stdout",
     "output_type": "stream",
     "text": [
      "\r",
      "Episode: 502\tAverage Score: 0.00\tCurrent Score: 0.00"
     ]
    },
    {
     "name": "stdout",
     "output_type": "stream",
     "text": [
      "\r",
      "Episode: 503\tAverage Score: 0.00\tCurrent Score: 0.00"
     ]
    },
    {
     "name": "stdout",
     "output_type": "stream",
     "text": [
      "\r",
      "Episode: 504\tAverage Score: 0.00\tCurrent Score: 0.00\r",
      "Episode: 505\tAverage Score: 0.00\tCurrent Score: 0.00"
     ]
    },
    {
     "name": "stdout",
     "output_type": "stream",
     "text": [
      "\r",
      "Episode: 506\tAverage Score: 0.00\tCurrent Score: 0.00"
     ]
    },
    {
     "name": "stdout",
     "output_type": "stream",
     "text": [
      "\r",
      "Episode: 507\tAverage Score: 0.00\tCurrent Score: 0.00\r",
      "Episode: 508\tAverage Score: 0.00\tCurrent Score: 0.00"
     ]
    },
    {
     "name": "stdout",
     "output_type": "stream",
     "text": [
      "\r",
      "Episode: 509\tAverage Score: 0.00\tCurrent Score: 0.00"
     ]
    },
    {
     "name": "stdout",
     "output_type": "stream",
     "text": [
      "\r",
      "Episode: 510\tAverage Score: 0.00\tCurrent Score: 0.00\r",
      "Episode: 510\tAverage Score: 0.00\tCurrent Score: 0.00\n"
     ]
    },
    {
     "name": "stdout",
     "output_type": "stream",
     "text": [
      "\r",
      "Episode: 511\tAverage Score: 0.00\tCurrent Score: 0.00\r",
      "Episode: 512\tAverage Score: 0.00\tCurrent Score: 0.00"
     ]
    },
    {
     "name": "stdout",
     "output_type": "stream",
     "text": [
      "\r",
      "Episode: 513\tAverage Score: 0.00\tCurrent Score: 0.00"
     ]
    },
    {
     "name": "stdout",
     "output_type": "stream",
     "text": [
      "\r",
      "Episode: 514\tAverage Score: 0.00\tCurrent Score: 0.00\r",
      "Episode: 515\tAverage Score: 0.00\tCurrent Score: 0.00"
     ]
    },
    {
     "name": "stdout",
     "output_type": "stream",
     "text": [
      "\r",
      "Episode: 516\tAverage Score: 0.00\tCurrent Score: 0.00"
     ]
    },
    {
     "name": "stdout",
     "output_type": "stream",
     "text": [
      "\r",
      "Episode: 517\tAverage Score: 0.00\tCurrent Score: 0.00\r",
      "Episode: 518\tAverage Score: 0.00\tCurrent Score: 0.00"
     ]
    },
    {
     "name": "stdout",
     "output_type": "stream",
     "text": [
      "\r",
      "Episode: 519\tAverage Score: 0.00\tCurrent Score: 0.00"
     ]
    },
    {
     "name": "stdout",
     "output_type": "stream",
     "text": [
      "\r",
      "Episode: 520\tAverage Score: 0.00\tCurrent Score: 0.00\r",
      "Episode: 520\tAverage Score: 0.00\tCurrent Score: 0.00\n"
     ]
    },
    {
     "name": "stdout",
     "output_type": "stream",
     "text": [
      "\r",
      "Episode: 521\tAverage Score: 0.00\tCurrent Score: 0.00\r",
      "Episode: 522\tAverage Score: 0.00\tCurrent Score: 0.00"
     ]
    },
    {
     "name": "stdout",
     "output_type": "stream",
     "text": [
      "\r",
      "Episode: 523\tAverage Score: 0.00\tCurrent Score: 0.00"
     ]
    },
    {
     "name": "stdout",
     "output_type": "stream",
     "text": [
      "\r",
      "Episode: 524\tAverage Score: 0.00\tCurrent Score: 0.00\r",
      "Episode: 525\tAverage Score: 0.00\tCurrent Score: 0.00"
     ]
    },
    {
     "name": "stdout",
     "output_type": "stream",
     "text": [
      "\r",
      "Episode: 526\tAverage Score: 0.00\tCurrent Score: 0.00"
     ]
    },
    {
     "name": "stdout",
     "output_type": "stream",
     "text": [
      "\r",
      "Episode: 527\tAverage Score: 0.00\tCurrent Score: 0.00"
     ]
    },
    {
     "name": "stdout",
     "output_type": "stream",
     "text": [
      "\r",
      "Episode: 528\tAverage Score: 0.00\tCurrent Score: 0.00\r",
      "Episode: 529\tAverage Score: 0.00\tCurrent Score: 0.00"
     ]
    },
    {
     "name": "stdout",
     "output_type": "stream",
     "text": [
      "\r",
      "Episode: 530\tAverage Score: 0.00\tCurrent Score: 0.00\r",
      "Episode: 530\tAverage Score: 0.00\tCurrent Score: 0.00\n"
     ]
    },
    {
     "name": "stdout",
     "output_type": "stream",
     "text": [
      "\r",
      "Episode: 531\tAverage Score: 0.00\tCurrent Score: 0.00\r",
      "Episode: 532\tAverage Score: 0.00\tCurrent Score: 0.00"
     ]
    },
    {
     "name": "stdout",
     "output_type": "stream",
     "text": [
      "\r",
      "Episode: 533\tAverage Score: 0.00\tCurrent Score: 0.00"
     ]
    },
    {
     "name": "stdout",
     "output_type": "stream",
     "text": [
      "\r",
      "Episode: 534\tAverage Score: 0.00\tCurrent Score: 0.00"
     ]
    },
    {
     "name": "stdout",
     "output_type": "stream",
     "text": [
      "\r",
      "Episode: 535\tAverage Score: 0.00\tCurrent Score: 0.00\r",
      "Episode: 536\tAverage Score: 0.00\tCurrent Score: 0.00"
     ]
    },
    {
     "name": "stdout",
     "output_type": "stream",
     "text": [
      "\r",
      "Episode: 537\tAverage Score: 0.00\tCurrent Score: 0.00"
     ]
    },
    {
     "name": "stdout",
     "output_type": "stream",
     "text": [
      "\r",
      "Episode: 538\tAverage Score: 0.00\tCurrent Score: 0.00\r",
      "Episode: 539\tAverage Score: 0.00\tCurrent Score: 0.00"
     ]
    },
    {
     "name": "stdout",
     "output_type": "stream",
     "text": [
      "\r",
      "Episode: 540\tAverage Score: 0.00\tCurrent Score: 0.00\r",
      "Episode: 540\tAverage Score: 0.00\tCurrent Score: 0.00\n"
     ]
    },
    {
     "name": "stdout",
     "output_type": "stream",
     "text": [
      "\r",
      "Episode: 541\tAverage Score: 0.00\tCurrent Score: 0.00"
     ]
    },
    {
     "name": "stdout",
     "output_type": "stream",
     "text": [
      "\r",
      "Episode: 542\tAverage Score: 0.00\tCurrent Score: 0.00\r",
      "Episode: 543\tAverage Score: 0.00\tCurrent Score: 0.00"
     ]
    },
    {
     "name": "stdout",
     "output_type": "stream",
     "text": [
      "\r",
      "Episode: 544\tAverage Score: 0.00\tCurrent Score: 0.00"
     ]
    },
    {
     "name": "stdout",
     "output_type": "stream",
     "text": [
      "\r",
      "Episode: 545\tAverage Score: 0.00\tCurrent Score: 0.00\r",
      "Episode: 546\tAverage Score: 0.00\tCurrent Score: 0.00"
     ]
    },
    {
     "name": "stdout",
     "output_type": "stream",
     "text": [
      "\r",
      "Episode: 547\tAverage Score: 0.00\tCurrent Score: 0.00"
     ]
    },
    {
     "name": "stdout",
     "output_type": "stream",
     "text": [
      "\r",
      "Episode: 548\tAverage Score: 0.00\tCurrent Score: 0.00\r",
      "Episode: 549\tAverage Score: 0.00\tCurrent Score: 0.00"
     ]
    },
    {
     "name": "stdout",
     "output_type": "stream",
     "text": [
      "\r",
      "Episode: 550\tAverage Score: 0.00\tCurrent Score: 0.00\r",
      "Episode: 550\tAverage Score: 0.00\tCurrent Score: 0.00\n"
     ]
    },
    {
     "name": "stdout",
     "output_type": "stream",
     "text": [
      "\r",
      "Episode: 551\tAverage Score: 0.00\tCurrent Score: 0.00"
     ]
    },
    {
     "name": "stdout",
     "output_type": "stream",
     "text": [
      "\r",
      "Episode: 552\tAverage Score: 0.00\tCurrent Score: 0.00\r",
      "Episode: 553\tAverage Score: 0.00\tCurrent Score: 0.00"
     ]
    },
    {
     "name": "stdout",
     "output_type": "stream",
     "text": [
      "\r",
      "Episode: 554\tAverage Score: 0.00\tCurrent Score: 0.00"
     ]
    },
    {
     "name": "stdout",
     "output_type": "stream",
     "text": [
      "\r",
      "Episode: 555\tAverage Score: 0.00\tCurrent Score: 0.00\r",
      "Episode: 556\tAverage Score: 0.00\tCurrent Score: 0.00"
     ]
    },
    {
     "name": "stdout",
     "output_type": "stream",
     "text": [
      "\r",
      "Episode: 557\tAverage Score: 0.00\tCurrent Score: 0.00"
     ]
    },
    {
     "name": "stdout",
     "output_type": "stream",
     "text": [
      "\r",
      "Episode: 558\tAverage Score: 0.00\tCurrent Score: 0.00"
     ]
    },
    {
     "name": "stdout",
     "output_type": "stream",
     "text": [
      "\r",
      "Episode: 559\tAverage Score: 0.00\tCurrent Score: 0.00\r",
      "Episode: 560\tAverage Score: 0.00\tCurrent Score: 0.00\r",
      "Episode: 560\tAverage Score: 0.00\tCurrent Score: 0.00\n"
     ]
    },
    {
     "name": "stdout",
     "output_type": "stream",
     "text": [
      "\r",
      "Episode: 561\tAverage Score: 0.00\tCurrent Score: 0.00"
     ]
    },
    {
     "name": "stdout",
     "output_type": "stream",
     "text": [
      "\r",
      "Episode: 562\tAverage Score: 0.00\tCurrent Score: 0.00\r",
      "Episode: 563\tAverage Score: 0.00\tCurrent Score: 0.00"
     ]
    },
    {
     "name": "stdout",
     "output_type": "stream",
     "text": [
      "\r",
      "Episode: 564\tAverage Score: 0.00\tCurrent Score: 0.00"
     ]
    },
    {
     "name": "stdout",
     "output_type": "stream",
     "text": [
      "\r",
      "Episode: 565\tAverage Score: 0.00\tCurrent Score: 0.00"
     ]
    },
    {
     "name": "stdout",
     "output_type": "stream",
     "text": [
      "\r",
      "Episode: 566\tAverage Score: 0.00\tCurrent Score: 0.00\r",
      "Episode: 567\tAverage Score: 0.00\tCurrent Score: 0.00"
     ]
    },
    {
     "name": "stdout",
     "output_type": "stream",
     "text": [
      "\r",
      "Episode: 568\tAverage Score: 0.00\tCurrent Score: 0.00"
     ]
    },
    {
     "name": "stdout",
     "output_type": "stream",
     "text": [
      "\r",
      "Episode: 569\tAverage Score: 0.00\tCurrent Score: 0.00\r",
      "Episode: 570\tAverage Score: 0.00\tCurrent Score: 0.00\r",
      "Episode: 570\tAverage Score: 0.00\tCurrent Score: 0.00\n"
     ]
    },
    {
     "name": "stdout",
     "output_type": "stream",
     "text": [
      "\r",
      "Episode: 571\tAverage Score: 0.00\tCurrent Score: 0.00"
     ]
    },
    {
     "name": "stdout",
     "output_type": "stream",
     "text": [
      "\r",
      "Episode: 572\tAverage Score: 0.00\tCurrent Score: 0.00"
     ]
    },
    {
     "name": "stdout",
     "output_type": "stream",
     "text": [
      "\r",
      "Episode: 573\tAverage Score: 0.00\tCurrent Score: 0.00\r",
      "Episode: 574\tAverage Score: 0.00\tCurrent Score: 0.00"
     ]
    },
    {
     "name": "stdout",
     "output_type": "stream",
     "text": [
      "\r",
      "Episode: 575\tAverage Score: 0.00\tCurrent Score: 0.00"
     ]
    },
    {
     "name": "stdout",
     "output_type": "stream",
     "text": [
      "\r",
      "Episode: 576\tAverage Score: 0.00\tCurrent Score: 0.00\r",
      "Episode: 577\tAverage Score: 0.00\tCurrent Score: 0.00"
     ]
    },
    {
     "name": "stdout",
     "output_type": "stream",
     "text": [
      "\r",
      "Episode: 578\tAverage Score: 0.00\tCurrent Score: 0.00"
     ]
    },
    {
     "name": "stdout",
     "output_type": "stream",
     "text": [
      "\r",
      "Episode: 579\tAverage Score: 0.00\tCurrent Score: 0.00"
     ]
    },
    {
     "name": "stdout",
     "output_type": "stream",
     "text": [
      "\r",
      "Episode: 580\tAverage Score: 0.00\tCurrent Score: 0.00\r",
      "Episode: 580\tAverage Score: 0.00\tCurrent Score: 0.00\n",
      "\r",
      "Episode: 581\tAverage Score: 0.00\tCurrent Score: 0.00"
     ]
    },
    {
     "name": "stdout",
     "output_type": "stream",
     "text": [
      "\r",
      "Episode: 582\tAverage Score: 0.00\tCurrent Score: 0.00"
     ]
    },
    {
     "name": "stdout",
     "output_type": "stream",
     "text": [
      "\r",
      "Episode: 583\tAverage Score: 0.00\tCurrent Score: 0.00\r",
      "Episode: 584\tAverage Score: 0.00\tCurrent Score: 0.00"
     ]
    },
    {
     "name": "stdout",
     "output_type": "stream",
     "text": [
      "\r",
      "Episode: 585\tAverage Score: 0.00\tCurrent Score: 0.00"
     ]
    },
    {
     "name": "stdout",
     "output_type": "stream",
     "text": [
      "\r",
      "Episode: 586\tAverage Score: 0.00\tCurrent Score: 0.00"
     ]
    },
    {
     "name": "stdout",
     "output_type": "stream",
     "text": [
      "\r",
      "Episode: 587\tAverage Score: 0.00\tCurrent Score: 0.00\r",
      "Episode: 588\tAverage Score: 0.00\tCurrent Score: 0.00"
     ]
    },
    {
     "name": "stdout",
     "output_type": "stream",
     "text": [
      "\r",
      "Episode: 589\tAverage Score: 0.00\tCurrent Score: 0.00"
     ]
    },
    {
     "name": "stdout",
     "output_type": "stream",
     "text": [
      "\r",
      "Episode: 590\tAverage Score: 0.00\tCurrent Score: 0.00\r",
      "Episode: 590\tAverage Score: 0.00\tCurrent Score: 0.00\n"
     ]
    },
    {
     "name": "stdout",
     "output_type": "stream",
     "text": [
      "\r",
      "Episode: 591\tAverage Score: 0.00\tCurrent Score: 0.00\r",
      "Episode: 592\tAverage Score: 0.00\tCurrent Score: 0.00"
     ]
    },
    {
     "name": "stdout",
     "output_type": "stream",
     "text": [
      "\r",
      "Episode: 593\tAverage Score: 0.00\tCurrent Score: 0.00"
     ]
    },
    {
     "name": "stdout",
     "output_type": "stream",
     "text": [
      "\r",
      "Episode: 594\tAverage Score: 0.00\tCurrent Score: 0.00\r",
      "Episode: 595\tAverage Score: 0.00\tCurrent Score: 0.00"
     ]
    },
    {
     "name": "stdout",
     "output_type": "stream",
     "text": [
      "\r",
      "Episode: 596\tAverage Score: 0.00\tCurrent Score: 0.00"
     ]
    },
    {
     "name": "stdout",
     "output_type": "stream",
     "text": [
      "\r",
      "Episode: 597\tAverage Score: 0.00\tCurrent Score: 0.00"
     ]
    },
    {
     "name": "stdout",
     "output_type": "stream",
     "text": [
      "\r",
      "Episode: 598\tAverage Score: 0.00\tCurrent Score: 0.00\r",
      "Episode: 599\tAverage Score: 0.00\tCurrent Score: 0.00"
     ]
    },
    {
     "name": "stdout",
     "output_type": "stream",
     "text": [
      "\r",
      "Episode: 600\tAverage Score: 0.00\tCurrent Score: 0.00\r",
      "Episode: 600\tAverage Score: 0.00\tCurrent Score: 0.00\n"
     ]
    },
    {
     "name": "stdout",
     "output_type": "stream",
     "text": [
      "\r",
      "Episode: 601\tAverage Score: 0.00\tCurrent Score: 0.00\r",
      "Episode: 602\tAverage Score: 0.00\tCurrent Score: 0.00"
     ]
    },
    {
     "name": "stdout",
     "output_type": "stream",
     "text": [
      "\r",
      "Episode: 603\tAverage Score: 0.00\tCurrent Score: 0.00"
     ]
    },
    {
     "name": "stdout",
     "output_type": "stream",
     "text": [
      "\r",
      "Episode: 604\tAverage Score: 0.00\tCurrent Score: 0.00"
     ]
    },
    {
     "name": "stdout",
     "output_type": "stream",
     "text": [
      "\r",
      "Episode: 605\tAverage Score: 0.00\tCurrent Score: 0.00\r",
      "Episode: 606\tAverage Score: 0.00\tCurrent Score: 0.00"
     ]
    },
    {
     "name": "stdout",
     "output_type": "stream",
     "text": [
      "\r",
      "Episode: 607\tAverage Score: 0.00\tCurrent Score: 0.00"
     ]
    },
    {
     "name": "stdout",
     "output_type": "stream",
     "text": [
      "\r",
      "Episode: 608\tAverage Score: 0.00\tCurrent Score: 0.00"
     ]
    },
    {
     "name": "stdout",
     "output_type": "stream",
     "text": [
      "\r",
      "Episode: 609\tAverage Score: 0.00\tCurrent Score: 0.00\r",
      "Episode: 610\tAverage Score: 0.00\tCurrent Score: 0.00\r",
      "Episode: 610\tAverage Score: 0.00\tCurrent Score: 0.00\n"
     ]
    },
    {
     "name": "stdout",
     "output_type": "stream",
     "text": [
      "\r",
      "Episode: 611\tAverage Score: 0.00\tCurrent Score: 0.00"
     ]
    },
    {
     "name": "stdout",
     "output_type": "stream",
     "text": [
      "\r",
      "Episode: 612\tAverage Score: 0.00\tCurrent Score: 0.00"
     ]
    },
    {
     "name": "stdout",
     "output_type": "stream",
     "text": [
      "\r",
      "Episode: 613\tAverage Score: 0.00\tCurrent Score: 0.00\r",
      "Episode: 614\tAverage Score: 0.00\tCurrent Score: 0.00"
     ]
    },
    {
     "name": "stdout",
     "output_type": "stream",
     "text": [
      "\r",
      "Episode: 615\tAverage Score: 0.00\tCurrent Score: 0.00"
     ]
    },
    {
     "name": "stdout",
     "output_type": "stream",
     "text": [
      "\r",
      "Episode: 616\tAverage Score: 0.00\tCurrent Score: 0.00"
     ]
    },
    {
     "name": "stdout",
     "output_type": "stream",
     "text": [
      "\r",
      "Episode: 617\tAverage Score: 0.00\tCurrent Score: 0.00\r",
      "Episode: 618\tAverage Score: 0.00\tCurrent Score: 0.00"
     ]
    },
    {
     "name": "stdout",
     "output_type": "stream",
     "text": [
      "\r",
      "Episode: 619\tAverage Score: 0.00\tCurrent Score: 0.00"
     ]
    },
    {
     "name": "stdout",
     "output_type": "stream",
     "text": [
      "\r",
      "Episode: 620\tAverage Score: 0.00\tCurrent Score: 0.00\r",
      "Episode: 620\tAverage Score: 0.00\tCurrent Score: 0.00\n"
     ]
    },
    {
     "name": "stdout",
     "output_type": "stream",
     "text": [
      "\r",
      "Episode: 621\tAverage Score: 0.00\tCurrent Score: 0.00\r",
      "Episode: 622\tAverage Score: 0.00\tCurrent Score: 0.00"
     ]
    },
    {
     "name": "stdout",
     "output_type": "stream",
     "text": [
      "\r",
      "Episode: 623\tAverage Score: 0.00\tCurrent Score: 0.00"
     ]
    },
    {
     "name": "stdout",
     "output_type": "stream",
     "text": [
      "\r",
      "Episode: 624\tAverage Score: 0.00\tCurrent Score: 0.00"
     ]
    },
    {
     "name": "stdout",
     "output_type": "stream",
     "text": [
      "\r",
      "Episode: 625\tAverage Score: 0.00\tCurrent Score: 0.00\r",
      "Episode: 626\tAverage Score: 0.00\tCurrent Score: 0.00"
     ]
    },
    {
     "name": "stdout",
     "output_type": "stream",
     "text": [
      "\r",
      "Episode: 627\tAverage Score: 0.00\tCurrent Score: 0.00"
     ]
    },
    {
     "name": "stdout",
     "output_type": "stream",
     "text": [
      "\r",
      "Episode: 628\tAverage Score: 0.00\tCurrent Score: 0.00"
     ]
    },
    {
     "name": "stdout",
     "output_type": "stream",
     "text": [
      "\r",
      "Episode: 629\tAverage Score: 0.00\tCurrent Score: 0.00\r",
      "Episode: 630\tAverage Score: 0.00\tCurrent Score: 0.00\r",
      "Episode: 630\tAverage Score: 0.00\tCurrent Score: 0.00\n"
     ]
    },
    {
     "name": "stdout",
     "output_type": "stream",
     "text": [
      "\r",
      "Episode: 631\tAverage Score: 0.00\tCurrent Score: 0.00"
     ]
    },
    {
     "name": "stdout",
     "output_type": "stream",
     "text": [
      "\r",
      "Episode: 632\tAverage Score: 0.00\tCurrent Score: 0.00"
     ]
    },
    {
     "name": "stdout",
     "output_type": "stream",
     "text": [
      "\r",
      "Episode: 633\tAverage Score: 0.00\tCurrent Score: 0.00"
     ]
    },
    {
     "name": "stdout",
     "output_type": "stream",
     "text": [
      "\r",
      "Episode: 634\tAverage Score: 0.00\tCurrent Score: 0.00\r",
      "Episode: 635\tAverage Score: 0.00\tCurrent Score: 0.00"
     ]
    },
    {
     "name": "stdout",
     "output_type": "stream",
     "text": [
      "\r",
      "Episode: 636\tAverage Score: 0.00\tCurrent Score: 0.00"
     ]
    },
    {
     "name": "stdout",
     "output_type": "stream",
     "text": [
      "\r",
      "Episode: 637\tAverage Score: 0.00\tCurrent Score: 0.00"
     ]
    },
    {
     "name": "stdout",
     "output_type": "stream",
     "text": [
      "\r",
      "Episode: 638\tAverage Score: 0.00\tCurrent Score: 0.00"
     ]
    },
    {
     "name": "stdout",
     "output_type": "stream",
     "text": [
      "\r",
      "Episode: 639\tAverage Score: 0.00\tCurrent Score: 0.00"
     ]
    },
    {
     "name": "stdout",
     "output_type": "stream",
     "text": [
      "\r",
      "Episode: 640\tAverage Score: 0.00\tCurrent Score: 0.00\r",
      "Episode: 640\tAverage Score: 0.00\tCurrent Score: 0.00\n"
     ]
    },
    {
     "name": "stdout",
     "output_type": "stream",
     "text": [
      "\r",
      "Episode: 641\tAverage Score: 0.00\tCurrent Score: 0.00\r",
      "Episode: 642\tAverage Score: 0.00\tCurrent Score: 0.00"
     ]
    },
    {
     "name": "stdout",
     "output_type": "stream",
     "text": [
      "\r",
      "Episode: 643\tAverage Score: 0.00\tCurrent Score: 0.00"
     ]
    },
    {
     "name": "stdout",
     "output_type": "stream",
     "text": [
      "\r",
      "Episode: 644\tAverage Score: 0.00\tCurrent Score: 0.00"
     ]
    },
    {
     "name": "stdout",
     "output_type": "stream",
     "text": [
      "\r",
      "Episode: 645\tAverage Score: 0.00\tCurrent Score: 0.00\r",
      "Episode: 646\tAverage Score: 0.00\tCurrent Score: 0.00"
     ]
    },
    {
     "name": "stdout",
     "output_type": "stream",
     "text": [
      "\r",
      "Episode: 647\tAverage Score: 0.00\tCurrent Score: 0.00"
     ]
    },
    {
     "name": "stdout",
     "output_type": "stream",
     "text": [
      "\r",
      "Episode: 648\tAverage Score: 0.00\tCurrent Score: 0.00"
     ]
    },
    {
     "name": "stdout",
     "output_type": "stream",
     "text": [
      "\r",
      "Episode: 649\tAverage Score: 0.00\tCurrent Score: 0.00"
     ]
    },
    {
     "name": "stdout",
     "output_type": "stream",
     "text": [
      "\r",
      "Episode: 650\tAverage Score: 0.00\tCurrent Score: 0.00\r",
      "Episode: 650\tAverage Score: 0.00\tCurrent Score: 0.00\n"
     ]
    },
    {
     "name": "stdout",
     "output_type": "stream",
     "text": [
      "\r",
      "Episode: 651\tAverage Score: 0.00\tCurrent Score: 0.00"
     ]
    },
    {
     "name": "stdout",
     "output_type": "stream",
     "text": [
      "\r",
      "Episode: 652\tAverage Score: 0.00\tCurrent Score: 0.00\r",
      "Episode: 653\tAverage Score: 0.00\tCurrent Score: 0.00"
     ]
    },
    {
     "name": "stdout",
     "output_type": "stream",
     "text": [
      "\r",
      "Episode: 654\tAverage Score: 0.00\tCurrent Score: 0.00"
     ]
    },
    {
     "name": "stdout",
     "output_type": "stream",
     "text": [
      "\r",
      "Episode: 655\tAverage Score: 0.00\tCurrent Score: 0.00\r",
      "Episode: 656\tAverage Score: 0.00\tCurrent Score: 0.00"
     ]
    },
    {
     "name": "stdout",
     "output_type": "stream",
     "text": [
      "\r",
      "Episode: 657\tAverage Score: 0.00\tCurrent Score: 0.00"
     ]
    },
    {
     "name": "stdout",
     "output_type": "stream",
     "text": [
      "\r",
      "Episode: 658\tAverage Score: 0.00\tCurrent Score: 0.00"
     ]
    },
    {
     "name": "stdout",
     "output_type": "stream",
     "text": [
      "\r",
      "Episode: 659\tAverage Score: 0.00\tCurrent Score: 0.00"
     ]
    },
    {
     "name": "stdout",
     "output_type": "stream",
     "text": [
      "\r",
      "Episode: 660\tAverage Score: 0.00\tCurrent Score: 0.00\r",
      "Episode: 660\tAverage Score: 0.00\tCurrent Score: 0.00\n",
      "\r",
      "Episode: 661\tAverage Score: 0.00\tCurrent Score: 0.00"
     ]
    },
    {
     "name": "stdout",
     "output_type": "stream",
     "text": [
      "\r",
      "Episode: 662\tAverage Score: 0.00\tCurrent Score: 0.00"
     ]
    },
    {
     "name": "stdout",
     "output_type": "stream",
     "text": [
      "\r",
      "Episode: 663\tAverage Score: 0.00\tCurrent Score: 0.00\r",
      "Episode: 664\tAverage Score: 0.00\tCurrent Score: 0.00"
     ]
    },
    {
     "name": "stdout",
     "output_type": "stream",
     "text": [
      "\r",
      "Episode: 665\tAverage Score: 0.00\tCurrent Score: 0.00"
     ]
    },
    {
     "name": "stdout",
     "output_type": "stream",
     "text": [
      "\r",
      "Episode: 666\tAverage Score: 0.00\tCurrent Score: 0.00"
     ]
    },
    {
     "name": "stdout",
     "output_type": "stream",
     "text": [
      "\r",
      "Episode: 667\tAverage Score: 0.00\tCurrent Score: 0.00\r",
      "Episode: 668\tAverage Score: 0.00\tCurrent Score: 0.00"
     ]
    },
    {
     "name": "stdout",
     "output_type": "stream",
     "text": [
      "\r",
      "Episode: 669\tAverage Score: 0.00\tCurrent Score: 0.00"
     ]
    },
    {
     "name": "stdout",
     "output_type": "stream",
     "text": [
      "\r",
      "Episode: 670\tAverage Score: 0.00\tCurrent Score: 0.00\r",
      "Episode: 670\tAverage Score: 0.00\tCurrent Score: 0.00\n",
      "\r",
      "Episode: 671\tAverage Score: 0.00\tCurrent Score: 0.00"
     ]
    },
    {
     "name": "stdout",
     "output_type": "stream",
     "text": [
      "\r",
      "Episode: 672\tAverage Score: 0.00\tCurrent Score: 0.00"
     ]
    },
    {
     "name": "stdout",
     "output_type": "stream",
     "text": [
      "\r",
      "Episode: 673\tAverage Score: 0.00\tCurrent Score: 0.00\r",
      "Episode: 674\tAverage Score: 0.00\tCurrent Score: 0.00"
     ]
    },
    {
     "name": "stdout",
     "output_type": "stream",
     "text": [
      "\r",
      "Episode: 675\tAverage Score: 0.00\tCurrent Score: 0.00"
     ]
    },
    {
     "name": "stdout",
     "output_type": "stream",
     "text": [
      "\r",
      "Episode: 676\tAverage Score: 0.00\tCurrent Score: 0.00"
     ]
    },
    {
     "name": "stdout",
     "output_type": "stream",
     "text": [
      "\r",
      "Episode: 677\tAverage Score: 0.00\tCurrent Score: 0.00\r",
      "Episode: 678\tAverage Score: 0.00\tCurrent Score: 0.00"
     ]
    },
    {
     "name": "stdout",
     "output_type": "stream",
     "text": [
      "\r",
      "Episode: 679\tAverage Score: 0.00\tCurrent Score: 0.00"
     ]
    },
    {
     "name": "stdout",
     "output_type": "stream",
     "text": [
      "\r",
      "Episode: 680\tAverage Score: 0.00\tCurrent Score: 0.00\r",
      "Episode: 680\tAverage Score: 0.00\tCurrent Score: 0.00\n"
     ]
    },
    {
     "name": "stdout",
     "output_type": "stream",
     "text": [
      "\r",
      "Episode: 681\tAverage Score: 0.00\tCurrent Score: 0.00\r",
      "Episode: 682\tAverage Score: 0.00\tCurrent Score: 0.00"
     ]
    },
    {
     "name": "stdout",
     "output_type": "stream",
     "text": [
      "\r",
      "Episode: 683\tAverage Score: 0.00\tCurrent Score: 0.00"
     ]
    },
    {
     "name": "stdout",
     "output_type": "stream",
     "text": [
      "\r",
      "Episode: 684\tAverage Score: 0.00\tCurrent Score: 0.00"
     ]
    },
    {
     "name": "stdout",
     "output_type": "stream",
     "text": [
      "\r",
      "Episode: 685\tAverage Score: 0.00\tCurrent Score: 0.00\r",
      "Episode: 686\tAverage Score: 0.00\tCurrent Score: 0.00"
     ]
    },
    {
     "name": "stdout",
     "output_type": "stream",
     "text": [
      "\r",
      "Episode: 687\tAverage Score: 0.00\tCurrent Score: 0.00"
     ]
    },
    {
     "name": "stdout",
     "output_type": "stream",
     "text": [
      "\r",
      "Episode: 688\tAverage Score: 0.00\tCurrent Score: 0.00"
     ]
    },
    {
     "name": "stdout",
     "output_type": "stream",
     "text": [
      "\r",
      "Episode: 689\tAverage Score: 0.00\tCurrent Score: 0.00"
     ]
    },
    {
     "name": "stdout",
     "output_type": "stream",
     "text": [
      "\r",
      "Episode: 690\tAverage Score: 0.00\tCurrent Score: 0.00\r",
      "Episode: 690\tAverage Score: 0.00\tCurrent Score: 0.00\n",
      "\r",
      "Episode: 691\tAverage Score: 0.00\tCurrent Score: 0.00"
     ]
    },
    {
     "name": "stdout",
     "output_type": "stream",
     "text": [
      "\r",
      "Episode: 692\tAverage Score: 0.00\tCurrent Score: 0.00"
     ]
    },
    {
     "name": "stdout",
     "output_type": "stream",
     "text": [
      "\r",
      "Episode: 693\tAverage Score: 0.00\tCurrent Score: 0.00"
     ]
    },
    {
     "name": "stdout",
     "output_type": "stream",
     "text": [
      "\r",
      "Episode: 694\tAverage Score: 0.00\tCurrent Score: 0.00\r",
      "Episode: 695\tAverage Score: 0.00\tCurrent Score: 0.00"
     ]
    },
    {
     "name": "stdout",
     "output_type": "stream",
     "text": [
      "\r",
      "Episode: 696\tAverage Score: 0.00\tCurrent Score: 0.00"
     ]
    },
    {
     "name": "stdout",
     "output_type": "stream",
     "text": [
      "\r",
      "Episode: 697\tAverage Score: 0.00\tCurrent Score: 0.00"
     ]
    },
    {
     "name": "stdout",
     "output_type": "stream",
     "text": [
      "\r",
      "Episode: 698\tAverage Score: 0.00\tCurrent Score: 0.00\r",
      "Episode: 699\tAverage Score: 0.00\tCurrent Score: 0.00"
     ]
    },
    {
     "name": "stdout",
     "output_type": "stream",
     "text": [
      "\r",
      "Episode: 700\tAverage Score: 0.00\tCurrent Score: 0.00\r",
      "Episode: 700\tAverage Score: 0.00\tCurrent Score: 0.00\n"
     ]
    },
    {
     "name": "stdout",
     "output_type": "stream",
     "text": [
      "\r",
      "Episode: 701\tAverage Score: 0.00\tCurrent Score: 0.00\r",
      "Episode: 702\tAverage Score: 0.00\tCurrent Score: 0.00"
     ]
    },
    {
     "name": "stdout",
     "output_type": "stream",
     "text": [
      "\r",
      "Episode: 703\tAverage Score: 0.00\tCurrent Score: 0.00"
     ]
    },
    {
     "name": "stdout",
     "output_type": "stream",
     "text": [
      "\r",
      "Episode: 704\tAverage Score: 0.00\tCurrent Score: 0.00"
     ]
    },
    {
     "name": "stdout",
     "output_type": "stream",
     "text": [
      "\r",
      "Episode: 705\tAverage Score: 0.00\tCurrent Score: 0.00\r",
      "Episode: 706\tAverage Score: 0.00\tCurrent Score: 0.00"
     ]
    },
    {
     "name": "stdout",
     "output_type": "stream",
     "text": [
      "\r",
      "Episode: 707\tAverage Score: 0.00\tCurrent Score: 0.00"
     ]
    },
    {
     "name": "stdout",
     "output_type": "stream",
     "text": [
      "\r",
      "Episode: 708\tAverage Score: 0.00\tCurrent Score: 0.00"
     ]
    },
    {
     "name": "stdout",
     "output_type": "stream",
     "text": [
      "\r",
      "Episode: 709\tAverage Score: 0.00\tCurrent Score: 0.00"
     ]
    },
    {
     "name": "stdout",
     "output_type": "stream",
     "text": [
      "\r",
      "Episode: 710\tAverage Score: 0.00\tCurrent Score: 0.00\r",
      "Episode: 710\tAverage Score: 0.00\tCurrent Score: 0.00\n",
      "\r",
      "Episode: 711\tAverage Score: 0.00\tCurrent Score: 0.00"
     ]
    },
    {
     "name": "stdout",
     "output_type": "stream",
     "text": [
      "\r",
      "Episode: 712\tAverage Score: 0.00\tCurrent Score: 0.00"
     ]
    },
    {
     "name": "stdout",
     "output_type": "stream",
     "text": [
      "\r",
      "Episode: 713\tAverage Score: 0.00\tCurrent Score: 0.00\r",
      "Episode: 714\tAverage Score: 0.00\tCurrent Score: 0.00"
     ]
    },
    {
     "name": "stdout",
     "output_type": "stream",
     "text": [
      "\r",
      "Episode: 715\tAverage Score: 0.00\tCurrent Score: 0.00"
     ]
    },
    {
     "name": "stdout",
     "output_type": "stream",
     "text": [
      "\r",
      "Episode: 716\tAverage Score: 0.00\tCurrent Score: 0.00\r",
      "Episode: 717\tAverage Score: 0.00\tCurrent Score: 0.00"
     ]
    },
    {
     "name": "stdout",
     "output_type": "stream",
     "text": [
      "\r",
      "Episode: 718\tAverage Score: 0.00\tCurrent Score: 0.00"
     ]
    },
    {
     "name": "stdout",
     "output_type": "stream",
     "text": [
      "\r",
      "Episode: 719\tAverage Score: 0.00\tCurrent Score: 0.00"
     ]
    },
    {
     "name": "stdout",
     "output_type": "stream",
     "text": [
      "\r",
      "Episode: 720\tAverage Score: 0.00\tCurrent Score: 0.00\r",
      "Episode: 720\tAverage Score: 0.00\tCurrent Score: 0.00\n",
      "\r",
      "Episode: 721\tAverage Score: 0.00\tCurrent Score: 0.00"
     ]
    },
    {
     "name": "stdout",
     "output_type": "stream",
     "text": [
      "\r",
      "Episode: 722\tAverage Score: 0.00\tCurrent Score: 0.00"
     ]
    },
    {
     "name": "stdout",
     "output_type": "stream",
     "text": [
      "\r",
      "Episode: 723\tAverage Score: 0.00\tCurrent Score: 0.00\r",
      "Episode: 724\tAverage Score: 0.00\tCurrent Score: 0.00"
     ]
    },
    {
     "name": "stdout",
     "output_type": "stream",
     "text": [
      "\r",
      "Episode: 725\tAverage Score: 0.00\tCurrent Score: 0.00"
     ]
    },
    {
     "name": "stdout",
     "output_type": "stream",
     "text": [
      "\r",
      "Episode: 726\tAverage Score: 0.00\tCurrent Score: 0.00"
     ]
    },
    {
     "name": "stdout",
     "output_type": "stream",
     "text": [
      "\r",
      "Episode: 727\tAverage Score: 0.00\tCurrent Score: 0.00\r",
      "Episode: 728\tAverage Score: 0.00\tCurrent Score: 0.00"
     ]
    },
    {
     "name": "stdout",
     "output_type": "stream",
     "text": [
      "\r",
      "Episode: 729\tAverage Score: 0.00\tCurrent Score: 0.00"
     ]
    },
    {
     "name": "stdout",
     "output_type": "stream",
     "text": [
      "\r",
      "Episode: 730\tAverage Score: 0.00\tCurrent Score: 0.00\r",
      "Episode: 730\tAverage Score: 0.00\tCurrent Score: 0.00\n",
      "\r",
      "Episode: 731\tAverage Score: 0.00\tCurrent Score: 0.00"
     ]
    },
    {
     "name": "stdout",
     "output_type": "stream",
     "text": [
      "\r",
      "Episode: 732\tAverage Score: 0.00\tCurrent Score: 0.00"
     ]
    },
    {
     "name": "stdout",
     "output_type": "stream",
     "text": [
      "\r",
      "Episode: 733\tAverage Score: 0.00\tCurrent Score: 0.00"
     ]
    },
    {
     "name": "stdout",
     "output_type": "stream",
     "text": [
      "\r",
      "Episode: 734\tAverage Score: 0.00\tCurrent Score: 0.00\r",
      "Episode: 735\tAverage Score: 0.00\tCurrent Score: 0.00"
     ]
    },
    {
     "name": "stdout",
     "output_type": "stream",
     "text": [
      "\r",
      "Episode: 736\tAverage Score: 0.00\tCurrent Score: 0.00"
     ]
    },
    {
     "name": "stdout",
     "output_type": "stream",
     "text": [
      "\r",
      "Episode: 737\tAverage Score: 0.00\tCurrent Score: 0.00\r",
      "Episode: 738\tAverage Score: 0.00\tCurrent Score: 0.00"
     ]
    },
    {
     "name": "stdout",
     "output_type": "stream",
     "text": [
      "\r",
      "Episode: 739\tAverage Score: 0.00\tCurrent Score: 0.00"
     ]
    },
    {
     "name": "stdout",
     "output_type": "stream",
     "text": [
      "\r",
      "Episode: 740\tAverage Score: 0.00\tCurrent Score: 0.00\r",
      "Episode: 740\tAverage Score: 0.00\tCurrent Score: 0.00\n"
     ]
    },
    {
     "name": "stdout",
     "output_type": "stream",
     "text": [
      "\r",
      "Episode: 741\tAverage Score: 0.00\tCurrent Score: 0.00\r",
      "Episode: 742\tAverage Score: 0.00\tCurrent Score: 0.00"
     ]
    },
    {
     "name": "stdout",
     "output_type": "stream",
     "text": [
      "\r",
      "Episode: 743\tAverage Score: 0.00\tCurrent Score: 0.00"
     ]
    },
    {
     "name": "stdout",
     "output_type": "stream",
     "text": [
      "\r",
      "Episode: 744\tAverage Score: 0.00\tCurrent Score: 0.00\r",
      "Episode: 745\tAverage Score: 0.00\tCurrent Score: 0.00"
     ]
    },
    {
     "name": "stdout",
     "output_type": "stream",
     "text": [
      "\r",
      "Episode: 746\tAverage Score: 0.00\tCurrent Score: 0.00"
     ]
    },
    {
     "name": "stdout",
     "output_type": "stream",
     "text": [
      "\r",
      "Episode: 747\tAverage Score: 0.00\tCurrent Score: 0.00\r",
      "Episode: 748\tAverage Score: 0.00\tCurrent Score: 0.00"
     ]
    },
    {
     "name": "stdout",
     "output_type": "stream",
     "text": [
      "\r",
      "Episode: 749\tAverage Score: 0.00\tCurrent Score: 0.00"
     ]
    },
    {
     "name": "stdout",
     "output_type": "stream",
     "text": [
      "\r",
      "Episode: 750\tAverage Score: 0.00\tCurrent Score: 0.00\r",
      "Episode: 750\tAverage Score: 0.00\tCurrent Score: 0.00\n"
     ]
    },
    {
     "name": "stdout",
     "output_type": "stream",
     "text": [
      "\r",
      "Episode: 751\tAverage Score: 0.00\tCurrent Score: 0.00\r",
      "Episode: 752\tAverage Score: 0.00\tCurrent Score: 0.00"
     ]
    },
    {
     "name": "stdout",
     "output_type": "stream",
     "text": [
      "\r",
      "Episode: 753\tAverage Score: 0.00\tCurrent Score: 0.00"
     ]
    },
    {
     "name": "stdout",
     "output_type": "stream",
     "text": [
      "\r",
      "Episode: 754\tAverage Score: 0.00\tCurrent Score: 0.00\r",
      "Episode: 755\tAverage Score: 0.00\tCurrent Score: 0.00"
     ]
    },
    {
     "name": "stdout",
     "output_type": "stream",
     "text": [
      "\r",
      "Episode: 756\tAverage Score: 0.00\tCurrent Score: 0.00"
     ]
    },
    {
     "name": "stdout",
     "output_type": "stream",
     "text": [
      "\r",
      "Episode: 757\tAverage Score: 0.00\tCurrent Score: 0.00"
     ]
    },
    {
     "name": "stdout",
     "output_type": "stream",
     "text": [
      "\r",
      "Episode: 758\tAverage Score: 0.00\tCurrent Score: 0.00\r",
      "Episode: 759\tAverage Score: 0.00\tCurrent Score: 0.00"
     ]
    },
    {
     "name": "stdout",
     "output_type": "stream",
     "text": [
      "\r",
      "Episode: 760\tAverage Score: 0.00\tCurrent Score: 0.00\r",
      "Episode: 760\tAverage Score: 0.00\tCurrent Score: 0.00\n"
     ]
    },
    {
     "name": "stdout",
     "output_type": "stream",
     "text": [
      "\r",
      "Episode: 761\tAverage Score: 0.00\tCurrent Score: 0.00"
     ]
    },
    {
     "name": "stdout",
     "output_type": "stream",
     "text": [
      "\r",
      "Episode: 762\tAverage Score: 0.00\tCurrent Score: 0.00\r",
      "Episode: 763\tAverage Score: 0.00\tCurrent Score: 0.00"
     ]
    },
    {
     "name": "stdout",
     "output_type": "stream",
     "text": [
      "\r",
      "Episode: 764\tAverage Score: 0.00\tCurrent Score: 0.00"
     ]
    },
    {
     "name": "stdout",
     "output_type": "stream",
     "text": [
      "\r",
      "Episode: 765\tAverage Score: 0.00\tCurrent Score: 0.00\r",
      "Episode: 766\tAverage Score: 0.00\tCurrent Score: 0.00"
     ]
    },
    {
     "name": "stdout",
     "output_type": "stream",
     "text": [
      "\r",
      "Episode: 767\tAverage Score: 0.00\tCurrent Score: 0.00"
     ]
    },
    {
     "name": "stdout",
     "output_type": "stream",
     "text": [
      "\r",
      "Episode: 768\tAverage Score: 0.00\tCurrent Score: 0.00"
     ]
    },
    {
     "name": "stdout",
     "output_type": "stream",
     "text": [
      "\r",
      "Episode: 769\tAverage Score: 0.00\tCurrent Score: 0.00"
     ]
    },
    {
     "name": "stdout",
     "output_type": "stream",
     "text": [
      "\r",
      "Episode: 770\tAverage Score: 0.00\tCurrent Score: 0.00\r",
      "Episode: 770\tAverage Score: 0.00\tCurrent Score: 0.00\n",
      "\r",
      "Episode: 771\tAverage Score: 0.00\tCurrent Score: 0.00"
     ]
    },
    {
     "name": "stdout",
     "output_type": "stream",
     "text": [
      "\r",
      "Episode: 772\tAverage Score: 0.00\tCurrent Score: 0.00"
     ]
    },
    {
     "name": "stdout",
     "output_type": "stream",
     "text": [
      "\r",
      "Episode: 773\tAverage Score: 0.00\tCurrent Score: 0.00"
     ]
    },
    {
     "name": "stdout",
     "output_type": "stream",
     "text": [
      "\r",
      "Episode: 774\tAverage Score: 0.00\tCurrent Score: 0.00\r",
      "Episode: 775\tAverage Score: 0.00\tCurrent Score: 0.00"
     ]
    },
    {
     "name": "stdout",
     "output_type": "stream",
     "text": [
      "\r",
      "Episode: 776\tAverage Score: 0.00\tCurrent Score: 0.00"
     ]
    },
    {
     "name": "stdout",
     "output_type": "stream",
     "text": [
      "\r",
      "Episode: 777\tAverage Score: 0.00\tCurrent Score: 0.00\r",
      "Episode: 778\tAverage Score: 0.00\tCurrent Score: 0.00"
     ]
    },
    {
     "name": "stdout",
     "output_type": "stream",
     "text": [
      "\r",
      "Episode: 779\tAverage Score: 0.00\tCurrent Score: 0.00"
     ]
    },
    {
     "name": "stdout",
     "output_type": "stream",
     "text": [
      "\r",
      "Episode: 780\tAverage Score: 0.00\tCurrent Score: 0.00\r",
      "Episode: 780\tAverage Score: 0.00\tCurrent Score: 0.00\n",
      "\r",
      "Episode: 781\tAverage Score: 0.00\tCurrent Score: 0.00"
     ]
    },
    {
     "name": "stdout",
     "output_type": "stream",
     "text": [
      "\r",
      "Episode: 782\tAverage Score: 0.00\tCurrent Score: 0.00"
     ]
    },
    {
     "name": "stdout",
     "output_type": "stream",
     "text": [
      "\r",
      "Episode: 783\tAverage Score: 0.00\tCurrent Score: 0.00"
     ]
    },
    {
     "name": "stdout",
     "output_type": "stream",
     "text": [
      "\r",
      "Episode: 784\tAverage Score: 0.00\tCurrent Score: 0.00\r",
      "Episode: 785\tAverage Score: 0.00\tCurrent Score: 0.00"
     ]
    },
    {
     "name": "stdout",
     "output_type": "stream",
     "text": [
      "\r",
      "Episode: 786\tAverage Score: 0.00\tCurrent Score: 0.00"
     ]
    },
    {
     "name": "stdout",
     "output_type": "stream",
     "text": [
      "\r",
      "Episode: 787\tAverage Score: 0.00\tCurrent Score: 0.00\r",
      "Episode: 788\tAverage Score: 0.00\tCurrent Score: 0.00"
     ]
    },
    {
     "name": "stdout",
     "output_type": "stream",
     "text": [
      "\r",
      "Episode: 789\tAverage Score: 0.00\tCurrent Score: 0.00"
     ]
    },
    {
     "name": "stdout",
     "output_type": "stream",
     "text": [
      "\r",
      "Episode: 790\tAverage Score: 0.00\tCurrent Score: 0.00\r",
      "Episode: 790\tAverage Score: 0.00\tCurrent Score: 0.00\n"
     ]
    },
    {
     "name": "stdout",
     "output_type": "stream",
     "text": [
      "\r",
      "Episode: 791\tAverage Score: 0.00\tCurrent Score: 0.00\r",
      "Episode: 792\tAverage Score: 0.00\tCurrent Score: 0.00"
     ]
    },
    {
     "name": "stdout",
     "output_type": "stream",
     "text": [
      "\r",
      "Episode: 793\tAverage Score: 0.00\tCurrent Score: 0.00"
     ]
    },
    {
     "name": "stdout",
     "output_type": "stream",
     "text": [
      "\r",
      "Episode: 794\tAverage Score: 0.00\tCurrent Score: 0.00"
     ]
    },
    {
     "name": "stdout",
     "output_type": "stream",
     "text": [
      "\r",
      "Episode: 795\tAverage Score: 0.00\tCurrent Score: 0.00\r",
      "Episode: 796\tAverage Score: 0.00\tCurrent Score: 0.00"
     ]
    },
    {
     "name": "stdout",
     "output_type": "stream",
     "text": [
      "\r",
      "Episode: 797\tAverage Score: 0.00\tCurrent Score: 0.00"
     ]
    },
    {
     "name": "stdout",
     "output_type": "stream",
     "text": [
      "\r",
      "Episode: 798\tAverage Score: 0.00\tCurrent Score: 0.00\r",
      "Episode: 799\tAverage Score: 0.00\tCurrent Score: 0.00"
     ]
    },
    {
     "name": "stdout",
     "output_type": "stream",
     "text": [
      "\r",
      "Episode: 800\tAverage Score: 0.00\tCurrent Score: 0.00\r",
      "Episode: 800\tAverage Score: 0.00\tCurrent Score: 0.00\n"
     ]
    },
    {
     "name": "stdout",
     "output_type": "stream",
     "text": [
      "\r",
      "Episode: 801\tAverage Score: 0.00\tCurrent Score: 0.00"
     ]
    },
    {
     "name": "stdout",
     "output_type": "stream",
     "text": [
      "\r",
      "Episode: 802\tAverage Score: 0.00\tCurrent Score: 0.00"
     ]
    },
    {
     "name": "stdout",
     "output_type": "stream",
     "text": [
      "\r",
      "Episode: 803\tAverage Score: 0.00\tCurrent Score: 0.00"
     ]
    },
    {
     "name": "stdout",
     "output_type": "stream",
     "text": [
      "\r",
      "Episode: 804\tAverage Score: 0.00\tCurrent Score: 0.00\r",
      "Episode: 805\tAverage Score: 0.00\tCurrent Score: 0.00"
     ]
    },
    {
     "name": "stdout",
     "output_type": "stream",
     "text": [
      "\r",
      "Episode: 806\tAverage Score: 0.00\tCurrent Score: 0.00"
     ]
    },
    {
     "name": "stdout",
     "output_type": "stream",
     "text": [
      "\r",
      "Episode: 807\tAverage Score: 0.00\tCurrent Score: 0.00"
     ]
    },
    {
     "name": "stdout",
     "output_type": "stream",
     "text": [
      "\r",
      "Episode: 808\tAverage Score: 0.00\tCurrent Score: 0.00"
     ]
    },
    {
     "name": "stdout",
     "output_type": "stream",
     "text": [
      "\r",
      "Episode: 809\tAverage Score: 0.00\tCurrent Score: 0.00\r",
      "Episode: 810\tAverage Score: 0.00\tCurrent Score: 0.00\r",
      "Episode: 810\tAverage Score: 0.00\tCurrent Score: 0.00\n"
     ]
    },
    {
     "name": "stdout",
     "output_type": "stream",
     "text": [
      "\r",
      "Episode: 811\tAverage Score: 0.00\tCurrent Score: 0.00"
     ]
    },
    {
     "name": "stdout",
     "output_type": "stream",
     "text": [
      "\r",
      "Episode: 812\tAverage Score: 0.00\tCurrent Score: 0.00"
     ]
    },
    {
     "name": "stdout",
     "output_type": "stream",
     "text": [
      "\r",
      "Episode: 813\tAverage Score: 0.00\tCurrent Score: 0.00\r",
      "Episode: 814\tAverage Score: 0.00\tCurrent Score: 0.00"
     ]
    },
    {
     "name": "stdout",
     "output_type": "stream",
     "text": [
      "\r",
      "Episode: 815\tAverage Score: 0.00\tCurrent Score: 0.00"
     ]
    },
    {
     "name": "stdout",
     "output_type": "stream",
     "text": [
      "\r",
      "Episode: 816\tAverage Score: 0.00\tCurrent Score: 0.00\r",
      "Episode: 817\tAverage Score: 0.00\tCurrent Score: 0.00"
     ]
    },
    {
     "name": "stdout",
     "output_type": "stream",
     "text": [
      "\r",
      "Episode: 818\tAverage Score: 0.00\tCurrent Score: 0.00"
     ]
    },
    {
     "name": "stdout",
     "output_type": "stream",
     "text": [
      "\r",
      "Episode: 819\tAverage Score: 0.00\tCurrent Score: 0.00"
     ]
    },
    {
     "name": "stdout",
     "output_type": "stream",
     "text": [
      "\r",
      "Episode: 820\tAverage Score: 0.00\tCurrent Score: 0.00\r",
      "Episode: 820\tAverage Score: 0.00\tCurrent Score: 0.00\n",
      "\r",
      "Episode: 821\tAverage Score: 0.00\tCurrent Score: 0.00"
     ]
    },
    {
     "name": "stdout",
     "output_type": "stream",
     "text": [
      "\r",
      "Episode: 822\tAverage Score: 0.00\tCurrent Score: 0.00"
     ]
    },
    {
     "name": "stdout",
     "output_type": "stream",
     "text": [
      "\r",
      "Episode: 823\tAverage Score: 0.00\tCurrent Score: 0.00\r",
      "Episode: 824\tAverage Score: 0.00\tCurrent Score: 0.00"
     ]
    },
    {
     "name": "stdout",
     "output_type": "stream",
     "text": [
      "\r",
      "Episode: 825\tAverage Score: 0.00\tCurrent Score: 0.00"
     ]
    },
    {
     "name": "stdout",
     "output_type": "stream",
     "text": [
      "\r",
      "Episode: 826\tAverage Score: 0.00\tCurrent Score: 0.00"
     ]
    },
    {
     "name": "stdout",
     "output_type": "stream",
     "text": [
      "\r",
      "Episode: 827\tAverage Score: 0.00\tCurrent Score: 0.00\r",
      "Episode: 828\tAverage Score: 0.00\tCurrent Score: 0.00"
     ]
    },
    {
     "name": "stdout",
     "output_type": "stream",
     "text": [
      "\r",
      "Episode: 829\tAverage Score: 0.00\tCurrent Score: 0.00"
     ]
    },
    {
     "name": "stdout",
     "output_type": "stream",
     "text": [
      "\r",
      "Episode: 830\tAverage Score: 0.00\tCurrent Score: 0.00\r",
      "Episode: 830\tAverage Score: 0.00\tCurrent Score: 0.00\n",
      "\r",
      "Episode: 831\tAverage Score: 0.00\tCurrent Score: 0.00"
     ]
    },
    {
     "name": "stdout",
     "output_type": "stream",
     "text": [
      "\r",
      "Episode: 832\tAverage Score: 0.00\tCurrent Score: 0.00"
     ]
    },
    {
     "name": "stdout",
     "output_type": "stream",
     "text": [
      "\r",
      "Episode: 833\tAverage Score: 0.00\tCurrent Score: 0.00\r",
      "Episode: 834\tAverage Score: 0.00\tCurrent Score: 0.00"
     ]
    },
    {
     "name": "stdout",
     "output_type": "stream",
     "text": [
      "\r",
      "Episode: 835\tAverage Score: 0.00\tCurrent Score: 0.00"
     ]
    },
    {
     "name": "stdout",
     "output_type": "stream",
     "text": [
      "\r",
      "Episode: 836\tAverage Score: 0.00\tCurrent Score: 0.00"
     ]
    },
    {
     "name": "stdout",
     "output_type": "stream",
     "text": [
      "\r",
      "Episode: 837\tAverage Score: 0.00\tCurrent Score: 0.00\r",
      "Episode: 838\tAverage Score: 0.00\tCurrent Score: 0.00"
     ]
    },
    {
     "name": "stdout",
     "output_type": "stream",
     "text": [
      "\r",
      "Episode: 839\tAverage Score: 0.00\tCurrent Score: 0.00"
     ]
    },
    {
     "name": "stdout",
     "output_type": "stream",
     "text": [
      "\r",
      "Episode: 840\tAverage Score: 0.00\tCurrent Score: 0.00\r",
      "Episode: 840\tAverage Score: 0.00\tCurrent Score: 0.00\n",
      "\r",
      "Episode: 841\tAverage Score: 0.00\tCurrent Score: 0.00"
     ]
    },
    {
     "name": "stdout",
     "output_type": "stream",
     "text": [
      "\r",
      "Episode: 842\tAverage Score: 0.00\tCurrent Score: 0.00"
     ]
    },
    {
     "name": "stdout",
     "output_type": "stream",
     "text": [
      "\r",
      "Episode: 843\tAverage Score: 0.00\tCurrent Score: 0.00"
     ]
    },
    {
     "name": "stdout",
     "output_type": "stream",
     "text": [
      "\r",
      "Episode: 844\tAverage Score: 0.00\tCurrent Score: 0.00\r",
      "Episode: 845\tAverage Score: 0.00\tCurrent Score: 0.00"
     ]
    },
    {
     "name": "stdout",
     "output_type": "stream",
     "text": [
      "\r",
      "Episode: 846\tAverage Score: 0.00\tCurrent Score: 0.00"
     ]
    },
    {
     "name": "stdout",
     "output_type": "stream",
     "text": [
      "\r",
      "Episode: 847\tAverage Score: 0.00\tCurrent Score: 0.00"
     ]
    },
    {
     "name": "stdout",
     "output_type": "stream",
     "text": [
      "\r",
      "Episode: 848\tAverage Score: 0.00\tCurrent Score: 0.00\r",
      "Episode: 849\tAverage Score: 0.00\tCurrent Score: 0.00"
     ]
    },
    {
     "name": "stdout",
     "output_type": "stream",
     "text": [
      "\r",
      "Episode: 850\tAverage Score: 0.00\tCurrent Score: 0.00\r",
      "Episode: 850\tAverage Score: 0.00\tCurrent Score: 0.00\n"
     ]
    },
    {
     "name": "stdout",
     "output_type": "stream",
     "text": [
      "\r",
      "Episode: 851\tAverage Score: 0.00\tCurrent Score: 0.00"
     ]
    },
    {
     "name": "stdout",
     "output_type": "stream",
     "text": [
      "\r",
      "Episode: 852\tAverage Score: 0.00\tCurrent Score: 0.00\r",
      "Episode: 853\tAverage Score: 0.00\tCurrent Score: 0.00"
     ]
    },
    {
     "name": "stdout",
     "output_type": "stream",
     "text": [
      "\r",
      "Episode: 854\tAverage Score: 0.00\tCurrent Score: 0.00"
     ]
    },
    {
     "name": "stdout",
     "output_type": "stream",
     "text": [
      "\r",
      "Episode: 855\tAverage Score: 0.00\tCurrent Score: 0.00"
     ]
    },
    {
     "name": "stdout",
     "output_type": "stream",
     "text": [
      "\r",
      "Episode: 856\tAverage Score: 0.00\tCurrent Score: 0.00\r",
      "Episode: 857\tAverage Score: 0.00\tCurrent Score: 0.00"
     ]
    },
    {
     "name": "stdout",
     "output_type": "stream",
     "text": [
      "\r",
      "Episode: 858\tAverage Score: 0.00\tCurrent Score: 0.00"
     ]
    },
    {
     "name": "stdout",
     "output_type": "stream",
     "text": [
      "\r",
      "Episode: 859\tAverage Score: 0.00\tCurrent Score: 0.00"
     ]
    },
    {
     "name": "stdout",
     "output_type": "stream",
     "text": [
      "\r",
      "Episode: 860\tAverage Score: 0.00\tCurrent Score: 0.00\r",
      "Episode: 860\tAverage Score: 0.00\tCurrent Score: 0.00\n",
      "\r",
      "Episode: 861\tAverage Score: 0.00\tCurrent Score: 0.00"
     ]
    },
    {
     "name": "stdout",
     "output_type": "stream",
     "text": [
      "\r",
      "Episode: 862\tAverage Score: 0.00\tCurrent Score: 0.00"
     ]
    },
    {
     "name": "stdout",
     "output_type": "stream",
     "text": [
      "\r",
      "Episode: 863\tAverage Score: 0.00\tCurrent Score: 0.00\r",
      "Episode: 864\tAverage Score: 0.00\tCurrent Score: 0.00"
     ]
    },
    {
     "name": "stdout",
     "output_type": "stream",
     "text": [
      "\r",
      "Episode: 865\tAverage Score: 0.00\tCurrent Score: 0.00"
     ]
    },
    {
     "name": "stdout",
     "output_type": "stream",
     "text": [
      "\r",
      "Episode: 866\tAverage Score: 0.00\tCurrent Score: 0.00"
     ]
    },
    {
     "name": "stdout",
     "output_type": "stream",
     "text": [
      "\r",
      "Episode: 867\tAverage Score: 0.00\tCurrent Score: 0.00\r",
      "Episode: 868\tAverage Score: 0.00\tCurrent Score: 0.00"
     ]
    },
    {
     "name": "stdout",
     "output_type": "stream",
     "text": [
      "\r",
      "Episode: 869\tAverage Score: 0.00\tCurrent Score: 0.00"
     ]
    },
    {
     "name": "stdout",
     "output_type": "stream",
     "text": [
      "\r",
      "Episode: 870\tAverage Score: 0.00\tCurrent Score: 0.00\r",
      "Episode: 870\tAverage Score: 0.00\tCurrent Score: 0.00\n",
      "\r",
      "Episode: 871\tAverage Score: 0.00\tCurrent Score: 0.00"
     ]
    },
    {
     "name": "stdout",
     "output_type": "stream",
     "text": [
      "\r",
      "Episode: 872\tAverage Score: 0.00\tCurrent Score: 0.00"
     ]
    },
    {
     "name": "stdout",
     "output_type": "stream",
     "text": [
      "\r",
      "Episode: 873\tAverage Score: 0.00\tCurrent Score: 0.00"
     ]
    },
    {
     "name": "stdout",
     "output_type": "stream",
     "text": [
      "\r",
      "Episode: 874\tAverage Score: 0.00\tCurrent Score: 0.00\r",
      "Episode: 875\tAverage Score: 0.00\tCurrent Score: 0.00"
     ]
    },
    {
     "name": "stdout",
     "output_type": "stream",
     "text": [
      "\r",
      "Episode: 876\tAverage Score: 0.00\tCurrent Score: 0.00"
     ]
    },
    {
     "name": "stdout",
     "output_type": "stream",
     "text": [
      "\r",
      "Episode: 877\tAverage Score: 0.00\tCurrent Score: 0.00\r",
      "Episode: 878\tAverage Score: 0.00\tCurrent Score: 0.00"
     ]
    },
    {
     "name": "stdout",
     "output_type": "stream",
     "text": [
      "\r",
      "Episode: 879\tAverage Score: 0.00\tCurrent Score: 0.00"
     ]
    },
    {
     "name": "stdout",
     "output_type": "stream",
     "text": [
      "\r",
      "Episode: 880\tAverage Score: 0.00\tCurrent Score: 0.00\r",
      "Episode: 880\tAverage Score: 0.00\tCurrent Score: 0.00\n",
      "\r",
      "Episode: 881\tAverage Score: 0.00\tCurrent Score: 0.00"
     ]
    },
    {
     "name": "stdout",
     "output_type": "stream",
     "text": [
      "\r",
      "Episode: 882\tAverage Score: 0.00\tCurrent Score: 0.00"
     ]
    },
    {
     "name": "stdout",
     "output_type": "stream",
     "text": [
      "\r",
      "Episode: 883\tAverage Score: 0.00\tCurrent Score: 0.00"
     ]
    },
    {
     "name": "stdout",
     "output_type": "stream",
     "text": [
      "\r",
      "Episode: 884\tAverage Score: 0.00\tCurrent Score: 0.00"
     ]
    },
    {
     "name": "stdout",
     "output_type": "stream",
     "text": [
      "\r",
      "Episode: 885\tAverage Score: 0.00\tCurrent Score: 0.00\r",
      "Episode: 886\tAverage Score: 0.00\tCurrent Score: 0.00"
     ]
    },
    {
     "name": "stdout",
     "output_type": "stream",
     "text": [
      "\r",
      "Episode: 887\tAverage Score: 0.00\tCurrent Score: 0.00"
     ]
    },
    {
     "name": "stdout",
     "output_type": "stream",
     "text": [
      "\r",
      "Episode: 888\tAverage Score: 0.00\tCurrent Score: 0.00\r",
      "Episode: 889\tAverage Score: 0.00\tCurrent Score: 0.00"
     ]
    },
    {
     "name": "stdout",
     "output_type": "stream",
     "text": [
      "\r",
      "Episode: 890\tAverage Score: 0.00\tCurrent Score: 0.00\r",
      "Episode: 890\tAverage Score: 0.00\tCurrent Score: 0.00\n"
     ]
    },
    {
     "name": "stdout",
     "output_type": "stream",
     "text": [
      "\r",
      "Episode: 891\tAverage Score: 0.00\tCurrent Score: 0.00\r",
      "Episode: 892\tAverage Score: 0.00\tCurrent Score: 0.00"
     ]
    },
    {
     "name": "stdout",
     "output_type": "stream",
     "text": [
      "\r",
      "Episode: 893\tAverage Score: 0.00\tCurrent Score: 0.00"
     ]
    },
    {
     "name": "stdout",
     "output_type": "stream",
     "text": [
      "\r",
      "Episode: 894\tAverage Score: 0.00\tCurrent Score: 0.00"
     ]
    },
    {
     "name": "stdout",
     "output_type": "stream",
     "text": [
      "\r",
      "Episode: 895\tAverage Score: 0.00\tCurrent Score: 0.00\r",
      "Episode: 896\tAverage Score: 0.00\tCurrent Score: 0.00"
     ]
    },
    {
     "name": "stdout",
     "output_type": "stream",
     "text": [
      "\r",
      "Episode: 897\tAverage Score: 0.00\tCurrent Score: 0.00"
     ]
    },
    {
     "name": "stdout",
     "output_type": "stream",
     "text": [
      "\r",
      "Episode: 898\tAverage Score: 0.00\tCurrent Score: 0.00\r",
      "Episode: 899\tAverage Score: 0.00\tCurrent Score: 0.00"
     ]
    },
    {
     "name": "stdout",
     "output_type": "stream",
     "text": [
      "\r",
      "Episode: 900\tAverage Score: 0.00\tCurrent Score: 0.00\r",
      "Episode: 900\tAverage Score: 0.00\tCurrent Score: 0.00\n"
     ]
    },
    {
     "name": "stdout",
     "output_type": "stream",
     "text": [
      "\r",
      "Episode: 901\tAverage Score: 0.00\tCurrent Score: 0.00"
     ]
    },
    {
     "name": "stdout",
     "output_type": "stream",
     "text": [
      "\r",
      "Episode: 902\tAverage Score: 0.00\tCurrent Score: 0.00\r",
      "Episode: 903\tAverage Score: 0.00\tCurrent Score: 0.00"
     ]
    },
    {
     "name": "stdout",
     "output_type": "stream",
     "text": [
      "\r",
      "Episode: 904\tAverage Score: 0.00\tCurrent Score: 0.00"
     ]
    },
    {
     "name": "stdout",
     "output_type": "stream",
     "text": [
      "\r",
      "Episode: 905\tAverage Score: 0.00\tCurrent Score: 0.00"
     ]
    },
    {
     "name": "stdout",
     "output_type": "stream",
     "text": [
      "\r",
      "Episode: 906\tAverage Score: 0.00\tCurrent Score: 0.00\r",
      "Episode: 907\tAverage Score: 0.00\tCurrent Score: 0.00"
     ]
    },
    {
     "name": "stdout",
     "output_type": "stream",
     "text": [
      "\r",
      "Episode: 908\tAverage Score: 0.00\tCurrent Score: 0.00"
     ]
    },
    {
     "name": "stdout",
     "output_type": "stream",
     "text": [
      "\r",
      "Episode: 909\tAverage Score: 0.00\tCurrent Score: 0.00"
     ]
    },
    {
     "name": "stdout",
     "output_type": "stream",
     "text": [
      "\r",
      "Episode: 910\tAverage Score: 0.00\tCurrent Score: 0.00\r",
      "Episode: 910\tAverage Score: 0.00\tCurrent Score: 0.00\n",
      "\r",
      "Episode: 911\tAverage Score: 0.00\tCurrent Score: 0.00"
     ]
    },
    {
     "name": "stdout",
     "output_type": "stream",
     "text": [
      "\r",
      "Episode: 912\tAverage Score: 0.00\tCurrent Score: 0.00"
     ]
    },
    {
     "name": "stdout",
     "output_type": "stream",
     "text": [
      "\r",
      "Episode: 913\tAverage Score: 0.00\tCurrent Score: 0.00"
     ]
    },
    {
     "name": "stdout",
     "output_type": "stream",
     "text": [
      "\r",
      "Episode: 914\tAverage Score: 0.00\tCurrent Score: 0.00\r",
      "Episode: 915\tAverage Score: 0.00\tCurrent Score: 0.00"
     ]
    },
    {
     "name": "stdout",
     "output_type": "stream",
     "text": [
      "\r",
      "Episode: 916\tAverage Score: 0.00\tCurrent Score: 0.00"
     ]
    },
    {
     "name": "stdout",
     "output_type": "stream",
     "text": [
      "\r",
      "Episode: 917\tAverage Score: 0.00\tCurrent Score: 0.00\r",
      "Episode: 918\tAverage Score: 0.00\tCurrent Score: 0.00"
     ]
    },
    {
     "name": "stdout",
     "output_type": "stream",
     "text": [
      "\r",
      "Episode: 919\tAverage Score: 0.00\tCurrent Score: 0.10"
     ]
    },
    {
     "name": "stdout",
     "output_type": "stream",
     "text": [
      "\r",
      "Episode: 920\tAverage Score: 0.00\tCurrent Score: 0.00\r",
      "Episode: 920\tAverage Score: 0.00\tCurrent Score: 0.00\n",
      "\r",
      "Episode: 921\tAverage Score: 0.00\tCurrent Score: 0.00"
     ]
    },
    {
     "name": "stdout",
     "output_type": "stream",
     "text": [
      "\r",
      "Episode: 922\tAverage Score: 0.00\tCurrent Score: 0.00"
     ]
    },
    {
     "name": "stdout",
     "output_type": "stream",
     "text": [
      "\r",
      "Episode: 923\tAverage Score: 0.00\tCurrent Score: 0.00"
     ]
    },
    {
     "name": "stdout",
     "output_type": "stream",
     "text": [
      "\r",
      "Episode: 924\tAverage Score: 0.00\tCurrent Score: 0.00\r",
      "Episode: 925\tAverage Score: 0.00\tCurrent Score: 0.00"
     ]
    },
    {
     "name": "stdout",
     "output_type": "stream",
     "text": [
      "\r",
      "Episode: 926\tAverage Score: 0.00\tCurrent Score: 0.00"
     ]
    },
    {
     "name": "stdout",
     "output_type": "stream",
     "text": [
      "\r",
      "Episode: 927\tAverage Score: 0.00\tCurrent Score: 0.00\r",
      "Episode: 928\tAverage Score: 0.00\tCurrent Score: 0.00"
     ]
    },
    {
     "name": "stdout",
     "output_type": "stream",
     "text": [
      "\r",
      "Episode: 929\tAverage Score: 0.00\tCurrent Score: 0.00"
     ]
    },
    {
     "name": "stdout",
     "output_type": "stream",
     "text": [
      "\r",
      "Episode: 930\tAverage Score: 0.00\tCurrent Score: 0.00\r",
      "Episode: 930\tAverage Score: 0.00\tCurrent Score: 0.00\n",
      "\r",
      "Episode: 931\tAverage Score: 0.00\tCurrent Score: 0.00"
     ]
    },
    {
     "name": "stdout",
     "output_type": "stream",
     "text": [
      "\r",
      "Episode: 932\tAverage Score: 0.00\tCurrent Score: 0.00"
     ]
    },
    {
     "name": "stdout",
     "output_type": "stream",
     "text": [
      "\r",
      "Episode: 933\tAverage Score: 0.00\tCurrent Score: 0.00"
     ]
    },
    {
     "name": "stdout",
     "output_type": "stream",
     "text": [
      "\r",
      "Episode: 934\tAverage Score: 0.00\tCurrent Score: 0.00\r",
      "Episode: 935\tAverage Score: 0.00\tCurrent Score: 0.00"
     ]
    },
    {
     "name": "stdout",
     "output_type": "stream",
     "text": [
      "\r",
      "Episode: 936\tAverage Score: 0.00\tCurrent Score: 0.00"
     ]
    },
    {
     "name": "stdout",
     "output_type": "stream",
     "text": [
      "\r",
      "Episode: 937\tAverage Score: 0.00\tCurrent Score: 0.00\r",
      "Episode: 938\tAverage Score: 0.00\tCurrent Score: 0.00"
     ]
    },
    {
     "name": "stdout",
     "output_type": "stream",
     "text": [
      "\r",
      "Episode: 939\tAverage Score: 0.00\tCurrent Score: 0.00"
     ]
    },
    {
     "name": "stdout",
     "output_type": "stream",
     "text": [
      "\r",
      "Episode: 940\tAverage Score: 0.00\tCurrent Score: 0.00\r",
      "Episode: 940\tAverage Score: 0.00\tCurrent Score: 0.00\n"
     ]
    },
    {
     "name": "stdout",
     "output_type": "stream",
     "text": [
      "\r",
      "Episode: 941\tAverage Score: 0.00\tCurrent Score: 0.00\r",
      "Episode: 942\tAverage Score: 0.00\tCurrent Score: 0.00"
     ]
    },
    {
     "name": "stdout",
     "output_type": "stream",
     "text": [
      "\r",
      "Episode: 943\tAverage Score: 0.00\tCurrent Score: 0.00"
     ]
    },
    {
     "name": "stdout",
     "output_type": "stream",
     "text": [
      "\r",
      "Episode: 944\tAverage Score: 0.00\tCurrent Score: 0.00"
     ]
    },
    {
     "name": "stdout",
     "output_type": "stream",
     "text": [
      "\r",
      "Episode: 945\tAverage Score: 0.00\tCurrent Score: 0.00\r",
      "Episode: 946\tAverage Score: 0.00\tCurrent Score: 0.00"
     ]
    },
    {
     "name": "stdout",
     "output_type": "stream",
     "text": [
      "\r",
      "Episode: 947\tAverage Score: 0.00\tCurrent Score: 0.00"
     ]
    },
    {
     "name": "stdout",
     "output_type": "stream",
     "text": [
      "\r",
      "Episode: 948\tAverage Score: 0.00\tCurrent Score: 0.00\r",
      "Episode: 949\tAverage Score: 0.00\tCurrent Score: 0.00"
     ]
    },
    {
     "name": "stdout",
     "output_type": "stream",
     "text": [
      "\r",
      "Episode: 950\tAverage Score: 0.00\tCurrent Score: 0.00\r",
      "Episode: 950\tAverage Score: 0.00\tCurrent Score: 0.00\n"
     ]
    },
    {
     "name": "stdout",
     "output_type": "stream",
     "text": [
      "\r",
      "Episode: 951\tAverage Score: 0.00\tCurrent Score: 0.00\r",
      "Episode: 952\tAverage Score: 0.00\tCurrent Score: 0.00"
     ]
    },
    {
     "name": "stdout",
     "output_type": "stream",
     "text": [
      "\r",
      "Episode: 953\tAverage Score: 0.00\tCurrent Score: 0.00"
     ]
    },
    {
     "name": "stdout",
     "output_type": "stream",
     "text": [
      "\r",
      "Episode: 954\tAverage Score: 0.00\tCurrent Score: 0.00"
     ]
    },
    {
     "name": "stdout",
     "output_type": "stream",
     "text": [
      "\r",
      "Episode: 955\tAverage Score: 0.00\tCurrent Score: 0.00\r",
      "Episode: 956\tAverage Score: 0.00\tCurrent Score: 0.00"
     ]
    },
    {
     "name": "stdout",
     "output_type": "stream",
     "text": [
      "\r",
      "Episode: 957\tAverage Score: 0.00\tCurrent Score: 0.00"
     ]
    },
    {
     "name": "stdout",
     "output_type": "stream",
     "text": [
      "\r",
      "Episode: 958\tAverage Score: 0.00\tCurrent Score: 0.00\r",
      "Episode: 959\tAverage Score: 0.00\tCurrent Score: 0.00"
     ]
    },
    {
     "name": "stdout",
     "output_type": "stream",
     "text": [
      "\r",
      "Episode: 960\tAverage Score: 0.00\tCurrent Score: 0.00\r",
      "Episode: 960\tAverage Score: 0.00\tCurrent Score: 0.00\n"
     ]
    },
    {
     "name": "stdout",
     "output_type": "stream",
     "text": [
      "\r",
      "Episode: 961\tAverage Score: 0.00\tCurrent Score: 0.00"
     ]
    },
    {
     "name": "stdout",
     "output_type": "stream",
     "text": [
      "\r",
      "Episode: 962\tAverage Score: 0.00\tCurrent Score: 0.00\r",
      "Episode: 963\tAverage Score: 0.00\tCurrent Score: 0.00"
     ]
    },
    {
     "name": "stdout",
     "output_type": "stream",
     "text": [
      "\r",
      "Episode: 964\tAverage Score: 0.00\tCurrent Score: 0.00"
     ]
    },
    {
     "name": "stdout",
     "output_type": "stream",
     "text": [
      "\r",
      "Episode: 965\tAverage Score: 0.00\tCurrent Score: 0.10"
     ]
    },
    {
     "name": "stdout",
     "output_type": "stream",
     "text": [
      "\r",
      "Episode: 966\tAverage Score: 0.00\tCurrent Score: 0.00"
     ]
    },
    {
     "name": "stdout",
     "output_type": "stream",
     "text": [
      "\r",
      "Episode: 967\tAverage Score: 0.00\tCurrent Score: 0.00"
     ]
    },
    {
     "name": "stdout",
     "output_type": "stream",
     "text": [
      "\r",
      "Episode: 968\tAverage Score: 0.00\tCurrent Score: 0.00\r",
      "Episode: 969\tAverage Score: 0.00\tCurrent Score: 0.00"
     ]
    },
    {
     "name": "stdout",
     "output_type": "stream",
     "text": [
      "\r",
      "Episode: 970\tAverage Score: 0.00\tCurrent Score: 0.00\r",
      "Episode: 970\tAverage Score: 0.00\tCurrent Score: 0.00\n"
     ]
    },
    {
     "name": "stdout",
     "output_type": "stream",
     "text": [
      "\r",
      "Episode: 971\tAverage Score: 0.00\tCurrent Score: 0.00\r",
      "Episode: 972\tAverage Score: 0.00\tCurrent Score: 0.00"
     ]
    },
    {
     "name": "stdout",
     "output_type": "stream",
     "text": [
      "\r",
      "Episode: 973\tAverage Score: 0.00\tCurrent Score: 0.00"
     ]
    },
    {
     "name": "stdout",
     "output_type": "stream",
     "text": [
      "\r",
      "Episode: 974\tAverage Score: 0.00\tCurrent Score: 0.00"
     ]
    },
    {
     "name": "stdout",
     "output_type": "stream",
     "text": [
      "\r",
      "Episode: 975\tAverage Score: 0.00\tCurrent Score: 0.00\r",
      "Episode: 976\tAverage Score: 0.00\tCurrent Score: 0.00"
     ]
    },
    {
     "name": "stdout",
     "output_type": "stream",
     "text": [
      "\r",
      "Episode: 977\tAverage Score: 0.00\tCurrent Score: 0.00"
     ]
    },
    {
     "name": "stdout",
     "output_type": "stream",
     "text": [
      "\r",
      "Episode: 978\tAverage Score: 0.00\tCurrent Score: 0.00\r",
      "Episode: 979\tAverage Score: 0.00\tCurrent Score: 0.00"
     ]
    },
    {
     "name": "stdout",
     "output_type": "stream",
     "text": [
      "\r",
      "Episode: 980\tAverage Score: 0.00\tCurrent Score: 0.00\r",
      "Episode: 980\tAverage Score: 0.00\tCurrent Score: 0.00\n"
     ]
    },
    {
     "name": "stdout",
     "output_type": "stream",
     "text": [
      "\r",
      "Episode: 981\tAverage Score: 0.00\tCurrent Score: 0.00"
     ]
    },
    {
     "name": "stdout",
     "output_type": "stream",
     "text": [
      "\r",
      "Episode: 982\tAverage Score: 0.00\tCurrent Score: 0.00\r",
      "Episode: 983\tAverage Score: 0.00\tCurrent Score: 0.00"
     ]
    },
    {
     "name": "stdout",
     "output_type": "stream",
     "text": [
      "\r",
      "Episode: 984\tAverage Score: 0.00\tCurrent Score: 0.00"
     ]
    },
    {
     "name": "stdout",
     "output_type": "stream",
     "text": [
      "\r",
      "Episode: 985\tAverage Score: 0.00\tCurrent Score: 0.00\r",
      "Episode: 986\tAverage Score: 0.00\tCurrent Score: 0.00"
     ]
    },
    {
     "name": "stdout",
     "output_type": "stream",
     "text": [
      "\r",
      "Episode: 987\tAverage Score: 0.00\tCurrent Score: 0.00"
     ]
    },
    {
     "name": "stdout",
     "output_type": "stream",
     "text": [
      "\r",
      "Episode: 988\tAverage Score: 0.00\tCurrent Score: 0.00"
     ]
    },
    {
     "name": "stdout",
     "output_type": "stream",
     "text": [
      "\r",
      "Episode: 989\tAverage Score: 0.00\tCurrent Score: 0.00\r",
      "Episode: 990\tAverage Score: 0.00\tCurrent Score: 0.00\r",
      "Episode: 990\tAverage Score: 0.00\tCurrent Score: 0.00\n"
     ]
    },
    {
     "name": "stdout",
     "output_type": "stream",
     "text": [
      "\r",
      "Episode: 991\tAverage Score: 0.00\tCurrent Score: 0.00"
     ]
    },
    {
     "name": "stdout",
     "output_type": "stream",
     "text": [
      "\r",
      "Episode: 992\tAverage Score: 0.00\tCurrent Score: 0.00\r",
      "Episode: 993\tAverage Score: 0.00\tCurrent Score: 0.00"
     ]
    },
    {
     "name": "stdout",
     "output_type": "stream",
     "text": [
      "\r",
      "Episode: 994\tAverage Score: 0.00\tCurrent Score: 0.00"
     ]
    },
    {
     "name": "stdout",
     "output_type": "stream",
     "text": [
      "\r",
      "Episode: 995\tAverage Score: 0.00\tCurrent Score: 0.00"
     ]
    },
    {
     "name": "stdout",
     "output_type": "stream",
     "text": [
      "\r",
      "Episode: 996\tAverage Score: 0.00\tCurrent Score: 0.00\r",
      "Episode: 997\tAverage Score: 0.00\tCurrent Score: 0.00"
     ]
    },
    {
     "name": "stdout",
     "output_type": "stream",
     "text": [
      "\r",
      "Episode: 998\tAverage Score: 0.00\tCurrent Score: 0.00"
     ]
    },
    {
     "name": "stdout",
     "output_type": "stream",
     "text": [
      "\r",
      "Episode: 999\tAverage Score: 0.00\tCurrent Score: 0.00"
     ]
    },
    {
     "name": "stdout",
     "output_type": "stream",
     "text": [
      "\r",
      "Episode: 1000\tAverage Score: 0.00\tCurrent Score: 0.00\r",
      "Episode: 1000\tAverage Score: 0.00\tCurrent Score: 0.00\n"
     ]
    },
    {
     "name": "stdout",
     "output_type": "stream",
     "text": [
      "\r",
      "Episode: 1001\tAverage Score: 0.00\tCurrent Score: 0.00\r",
      "Episode: 1002\tAverage Score: 0.00\tCurrent Score: 0.00"
     ]
    },
    {
     "name": "stdout",
     "output_type": "stream",
     "text": [
      "\r",
      "Episode: 1003\tAverage Score: 0.00\tCurrent Score: 0.00"
     ]
    },
    {
     "name": "stdout",
     "output_type": "stream",
     "text": [
      "\r",
      "Episode: 1004\tAverage Score: 0.00\tCurrent Score: 0.00\r",
      "Episode: 1005\tAverage Score: 0.00\tCurrent Score: 0.00"
     ]
    },
    {
     "name": "stdout",
     "output_type": "stream",
     "text": [
      "\r",
      "Episode: 1006\tAverage Score: 0.00\tCurrent Score: 0.00"
     ]
    },
    {
     "name": "stdout",
     "output_type": "stream",
     "text": [
      "\r",
      "Episode: 1007\tAverage Score: 0.00\tCurrent Score: 0.00"
     ]
    },
    {
     "name": "stdout",
     "output_type": "stream",
     "text": [
      "\r",
      "Episode: 1008\tAverage Score: 0.00\tCurrent Score: 0.00\r",
      "Episode: 1009\tAverage Score: 0.00\tCurrent Score: 0.00"
     ]
    },
    {
     "name": "stdout",
     "output_type": "stream",
     "text": [
      "\r",
      "Episode: 1010\tAverage Score: 0.00\tCurrent Score: 0.00\r",
      "Episode: 1010\tAverage Score: 0.00\tCurrent Score: 0.00\n"
     ]
    },
    {
     "name": "stdout",
     "output_type": "stream",
     "text": [
      "\r",
      "Episode: 1011\tAverage Score: 0.00\tCurrent Score: 0.00"
     ]
    },
    {
     "name": "stdout",
     "output_type": "stream",
     "text": [
      "\r",
      "Episode: 1012\tAverage Score: 0.00\tCurrent Score: 0.00"
     ]
    },
    {
     "name": "stdout",
     "output_type": "stream",
     "text": [
      "\r",
      "Episode: 1013\tAverage Score: 0.00\tCurrent Score: 0.00"
     ]
    },
    {
     "name": "stdout",
     "output_type": "stream",
     "text": [
      "\r",
      "Episode: 1014\tAverage Score: 0.00\tCurrent Score: 0.00"
     ]
    },
    {
     "name": "stdout",
     "output_type": "stream",
     "text": [
      "\r",
      "Episode: 1015\tAverage Score: 0.00\tCurrent Score: 0.00"
     ]
    },
    {
     "name": "stdout",
     "output_type": "stream",
     "text": [
      "\r",
      "Episode: 1016\tAverage Score: 0.00\tCurrent Score: 0.00\r",
      "Episode: 1017\tAverage Score: 0.00\tCurrent Score: 0.00"
     ]
    },
    {
     "name": "stdout",
     "output_type": "stream",
     "text": [
      "\r",
      "Episode: 1018\tAverage Score: 0.00\tCurrent Score: 0.00"
     ]
    },
    {
     "name": "stdout",
     "output_type": "stream",
     "text": [
      "\r",
      "Episode: 1019\tAverage Score: 0.00\tCurrent Score: 0.00\r",
      "Episode: 1020\tAverage Score: 0.00\tCurrent Score: 0.00\r",
      "Episode: 1020\tAverage Score: 0.00\tCurrent Score: 0.00\n"
     ]
    },
    {
     "name": "stdout",
     "output_type": "stream",
     "text": [
      "\r",
      "Episode: 1021\tAverage Score: 0.00\tCurrent Score: 0.00"
     ]
    },
    {
     "name": "stdout",
     "output_type": "stream",
     "text": [
      "\r",
      "Episode: 1022\tAverage Score: 0.00\tCurrent Score: 0.00\r",
      "Episode: 1023\tAverage Score: 0.00\tCurrent Score: 0.00"
     ]
    },
    {
     "name": "stdout",
     "output_type": "stream",
     "text": [
      "\r",
      "Episode: 1024\tAverage Score: 0.00\tCurrent Score: 0.00"
     ]
    },
    {
     "name": "stdout",
     "output_type": "stream",
     "text": [
      "\r",
      "Episode: 1025\tAverage Score: 0.00\tCurrent Score: 0.00"
     ]
    },
    {
     "name": "stdout",
     "output_type": "stream",
     "text": [
      "\r",
      "Episode: 1026\tAverage Score: 0.00\tCurrent Score: 0.00\r",
      "Episode: 1027\tAverage Score: 0.00\tCurrent Score: 0.00"
     ]
    },
    {
     "name": "stdout",
     "output_type": "stream",
     "text": [
      "\r",
      "Episode: 1028\tAverage Score: 0.00\tCurrent Score: 0.00"
     ]
    },
    {
     "name": "stdout",
     "output_type": "stream",
     "text": [
      "\r",
      "Episode: 1029\tAverage Score: 0.00\tCurrent Score: 0.00\r",
      "Episode: 1030\tAverage Score: 0.00\tCurrent Score: 0.00\r",
      "Episode: 1030\tAverage Score: 0.00\tCurrent Score: 0.00\n"
     ]
    },
    {
     "name": "stdout",
     "output_type": "stream",
     "text": [
      "\r",
      "Episode: 1031\tAverage Score: 0.00\tCurrent Score: 0.00"
     ]
    },
    {
     "name": "stdout",
     "output_type": "stream",
     "text": [
      "\r",
      "Episode: 1032\tAverage Score: 0.00\tCurrent Score: 0.00"
     ]
    },
    {
     "name": "stdout",
     "output_type": "stream",
     "text": [
      "\r",
      "Episode: 1033\tAverage Score: 0.00\tCurrent Score: 0.00"
     ]
    },
    {
     "name": "stdout",
     "output_type": "stream",
     "text": [
      "\r",
      "Episode: 1034\tAverage Score: 0.00\tCurrent Score: 0.00"
     ]
    },
    {
     "name": "stdout",
     "output_type": "stream",
     "text": [
      "\r",
      "Episode: 1035\tAverage Score: 0.00\tCurrent Score: 0.00"
     ]
    },
    {
     "name": "stdout",
     "output_type": "stream",
     "text": [
      "\r",
      "Episode: 1036\tAverage Score: 0.00\tCurrent Score: 0.00"
     ]
    },
    {
     "name": "stdout",
     "output_type": "stream",
     "text": [
      "\r",
      "Episode: 1037\tAverage Score: 0.00\tCurrent Score: 0.00"
     ]
    },
    {
     "name": "stdout",
     "output_type": "stream",
     "text": [
      "\r",
      "Episode: 1038\tAverage Score: 0.00\tCurrent Score: 0.00\r",
      "Episode: 1039\tAverage Score: 0.00\tCurrent Score: 0.00"
     ]
    },
    {
     "name": "stdout",
     "output_type": "stream",
     "text": [
      "\r",
      "Episode: 1040\tAverage Score: 0.00\tCurrent Score: 0.00\r",
      "Episode: 1040\tAverage Score: 0.00\tCurrent Score: 0.00\n"
     ]
    },
    {
     "name": "stdout",
     "output_type": "stream",
     "text": [
      "\r",
      "Episode: 1041\tAverage Score: 0.00\tCurrent Score: 0.00"
     ]
    },
    {
     "name": "stdout",
     "output_type": "stream",
     "text": [
      "\r",
      "Episode: 1042\tAverage Score: 0.00\tCurrent Score: 0.00"
     ]
    },
    {
     "name": "stdout",
     "output_type": "stream",
     "text": [
      "\r",
      "Episode: 1043\tAverage Score: 0.00\tCurrent Score: 0.00"
     ]
    },
    {
     "name": "stdout",
     "output_type": "stream",
     "text": [
      "\r",
      "Episode: 1044\tAverage Score: 0.00\tCurrent Score: 0.00"
     ]
    },
    {
     "name": "stdout",
     "output_type": "stream",
     "text": [
      "\r",
      "Episode: 1045\tAverage Score: 0.00\tCurrent Score: 0.00"
     ]
    },
    {
     "name": "stdout",
     "output_type": "stream",
     "text": [
      "\r",
      "Episode: 1046\tAverage Score: 0.00\tCurrent Score: 0.00"
     ]
    },
    {
     "name": "stdout",
     "output_type": "stream",
     "text": [
      "\r",
      "Episode: 1047\tAverage Score: 0.00\tCurrent Score: 0.00"
     ]
    },
    {
     "name": "stdout",
     "output_type": "stream",
     "text": [
      "\r",
      "Episode: 1048\tAverage Score: 0.00\tCurrent Score: 0.00\r",
      "Episode: 1049\tAverage Score: 0.00\tCurrent Score: 0.00"
     ]
    },
    {
     "name": "stdout",
     "output_type": "stream",
     "text": [
      "\r",
      "Episode: 1050\tAverage Score: 0.00\tCurrent Score: 0.00\r",
      "Episode: 1050\tAverage Score: 0.00\tCurrent Score: 0.00\n"
     ]
    },
    {
     "name": "stdout",
     "output_type": "stream",
     "text": [
      "\r",
      "Episode: 1051\tAverage Score: 0.00\tCurrent Score: 0.00\r",
      "Episode: 1052\tAverage Score: 0.00\tCurrent Score: 0.00"
     ]
    },
    {
     "name": "stdout",
     "output_type": "stream",
     "text": [
      "\r",
      "Episode: 1053\tAverage Score: 0.00\tCurrent Score: 0.00"
     ]
    },
    {
     "name": "stdout",
     "output_type": "stream",
     "text": [
      "\r",
      "Episode: 1054\tAverage Score: 0.00\tCurrent Score: 0.00"
     ]
    },
    {
     "name": "stdout",
     "output_type": "stream",
     "text": [
      "\r",
      "Episode: 1055\tAverage Score: 0.00\tCurrent Score: 0.00\r",
      "Episode: 1056\tAverage Score: 0.00\tCurrent Score: 0.00"
     ]
    },
    {
     "name": "stdout",
     "output_type": "stream",
     "text": [
      "\r",
      "Episode: 1057\tAverage Score: 0.00\tCurrent Score: 0.00"
     ]
    },
    {
     "name": "stdout",
     "output_type": "stream",
     "text": [
      "\r",
      "Episode: 1058\tAverage Score: 0.00\tCurrent Score: 0.00\r",
      "Episode: 1059\tAverage Score: 0.00\tCurrent Score: 0.00"
     ]
    },
    {
     "name": "stdout",
     "output_type": "stream",
     "text": [
      "\r",
      "Episode: 1060\tAverage Score: 0.00\tCurrent Score: 0.00\r",
      "Episode: 1060\tAverage Score: 0.00\tCurrent Score: 0.00\n"
     ]
    },
    {
     "name": "stdout",
     "output_type": "stream",
     "text": [
      "\r",
      "Episode: 1061\tAverage Score: 0.00\tCurrent Score: 0.00"
     ]
    },
    {
     "name": "stdout",
     "output_type": "stream",
     "text": [
      "\r",
      "Episode: 1062\tAverage Score: 0.00\tCurrent Score: 0.00\r",
      "Episode: 1063\tAverage Score: 0.00\tCurrent Score: 0.00"
     ]
    },
    {
     "name": "stdout",
     "output_type": "stream",
     "text": [
      "\r",
      "Episode: 1064\tAverage Score: 0.00\tCurrent Score: 0.00"
     ]
    },
    {
     "name": "stdout",
     "output_type": "stream",
     "text": [
      "\r",
      "Episode: 1065\tAverage Score: 0.00\tCurrent Score: 0.00\r",
      "Episode: 1066\tAverage Score: 0.00\tCurrent Score: 0.00"
     ]
    },
    {
     "name": "stdout",
     "output_type": "stream",
     "text": [
      "\r",
      "Episode: 1067\tAverage Score: 0.00\tCurrent Score: 0.00"
     ]
    },
    {
     "name": "stdout",
     "output_type": "stream",
     "text": [
      "\r",
      "Episode: 1068\tAverage Score: 0.00\tCurrent Score: 0.00"
     ]
    },
    {
     "name": "stdout",
     "output_type": "stream",
     "text": [
      "\r",
      "Episode: 1069\tAverage Score: 0.00\tCurrent Score: 0.00\r",
      "Episode: 1070\tAverage Score: 0.00\tCurrent Score: 0.00\r",
      "Episode: 1070\tAverage Score: 0.00\tCurrent Score: 0.00\n"
     ]
    },
    {
     "name": "stdout",
     "output_type": "stream",
     "text": [
      "\r",
      "Episode: 1071\tAverage Score: 0.00\tCurrent Score: 0.00"
     ]
    },
    {
     "name": "stdout",
     "output_type": "stream",
     "text": [
      "\r",
      "Episode: 1072\tAverage Score: 0.00\tCurrent Score: 0.00\r",
      "Episode: 1073\tAverage Score: 0.00\tCurrent Score: 0.00"
     ]
    },
    {
     "name": "stdout",
     "output_type": "stream",
     "text": [
      "\r",
      "Episode: 1074\tAverage Score: 0.00\tCurrent Score: 0.00"
     ]
    },
    {
     "name": "stdout",
     "output_type": "stream",
     "text": [
      "\r",
      "Episode: 1075\tAverage Score: 0.00\tCurrent Score: 0.00"
     ]
    },
    {
     "name": "stdout",
     "output_type": "stream",
     "text": [
      "\r",
      "Episode: 1076\tAverage Score: 0.00\tCurrent Score: 0.00\r",
      "Episode: 1077\tAverage Score: 0.00\tCurrent Score: 0.00"
     ]
    },
    {
     "name": "stdout",
     "output_type": "stream",
     "text": [
      "\r",
      "Episode: 1078\tAverage Score: 0.00\tCurrent Score: 0.00"
     ]
    },
    {
     "name": "stdout",
     "output_type": "stream",
     "text": [
      "\r",
      "Episode: 1079\tAverage Score: 0.00\tCurrent Score: 0.00"
     ]
    },
    {
     "name": "stdout",
     "output_type": "stream",
     "text": [
      "\r",
      "Episode: 1080\tAverage Score: 0.00\tCurrent Score: 0.00\r",
      "Episode: 1080\tAverage Score: 0.00\tCurrent Score: 0.00\n",
      "\r",
      "Episode: 1081\tAverage Score: 0.00\tCurrent Score: 0.00"
     ]
    },
    {
     "name": "stdout",
     "output_type": "stream",
     "text": [
      "\r",
      "Episode: 1082\tAverage Score: 0.00\tCurrent Score: 0.00"
     ]
    },
    {
     "name": "stdout",
     "output_type": "stream",
     "text": [
      "\r",
      "Episode: 1083\tAverage Score: 0.00\tCurrent Score: 0.00\r",
      "Episode: 1084\tAverage Score: 0.00\tCurrent Score: 0.00"
     ]
    },
    {
     "name": "stdout",
     "output_type": "stream",
     "text": [
      "\r",
      "Episode: 1085\tAverage Score: 0.00\tCurrent Score: 0.00"
     ]
    },
    {
     "name": "stdout",
     "output_type": "stream",
     "text": [
      "\r",
      "Episode: 1086\tAverage Score: 0.00\tCurrent Score: 0.00"
     ]
    },
    {
     "name": "stdout",
     "output_type": "stream",
     "text": [
      "\r",
      "Episode: 1087\tAverage Score: 0.00\tCurrent Score: 0.00\r",
      "Episode: 1088\tAverage Score: 0.00\tCurrent Score: 0.00"
     ]
    },
    {
     "name": "stdout",
     "output_type": "stream",
     "text": [
      "\r",
      "Episode: 1089\tAverage Score: 0.00\tCurrent Score: 0.00"
     ]
    },
    {
     "name": "stdout",
     "output_type": "stream",
     "text": [
      "\r",
      "Episode: 1090\tAverage Score: 0.00\tCurrent Score: 0.00\r",
      "Episode: 1090\tAverage Score: 0.00\tCurrent Score: 0.00\n",
      "\r",
      "Episode: 1091\tAverage Score: 0.00\tCurrent Score: 0.00"
     ]
    },
    {
     "name": "stdout",
     "output_type": "stream",
     "text": [
      "\r",
      "Episode: 1092\tAverage Score: 0.00\tCurrent Score: 0.00"
     ]
    },
    {
     "name": "stdout",
     "output_type": "stream",
     "text": [
      "\r",
      "Episode: 1093\tAverage Score: 0.00\tCurrent Score: 0.00"
     ]
    },
    {
     "name": "stdout",
     "output_type": "stream",
     "text": [
      "\r",
      "Episode: 1094\tAverage Score: 0.00\tCurrent Score: 0.00\r",
      "Episode: 1095\tAverage Score: 0.00\tCurrent Score: 0.00"
     ]
    },
    {
     "name": "stdout",
     "output_type": "stream",
     "text": [
      "\r",
      "Episode: 1096\tAverage Score: 0.00\tCurrent Score: 0.00"
     ]
    },
    {
     "name": "stdout",
     "output_type": "stream",
     "text": [
      "\r",
      "Episode: 1097\tAverage Score: 0.00\tCurrent Score: 0.00"
     ]
    },
    {
     "name": "stdout",
     "output_type": "stream",
     "text": [
      "\r",
      "Episode: 1098\tAverage Score: 0.00\tCurrent Score: 0.00"
     ]
    },
    {
     "name": "stdout",
     "output_type": "stream",
     "text": [
      "\r",
      "Episode: 1099\tAverage Score: 0.00\tCurrent Score: 0.00\r",
      "Episode: 1100\tAverage Score: 0.00\tCurrent Score: 0.00\r",
      "Episode: 1100\tAverage Score: 0.00\tCurrent Score: 0.00\n"
     ]
    },
    {
     "name": "stdout",
     "output_type": "stream",
     "text": [
      "\r",
      "Episode: 1101\tAverage Score: 0.00\tCurrent Score: 0.00"
     ]
    },
    {
     "name": "stdout",
     "output_type": "stream",
     "text": [
      "\r",
      "Episode: 1102\tAverage Score: 0.00\tCurrent Score: 0.00"
     ]
    },
    {
     "name": "stdout",
     "output_type": "stream",
     "text": [
      "\r",
      "Episode: 1103\tAverage Score: 0.00\tCurrent Score: 0.00"
     ]
    },
    {
     "name": "stdout",
     "output_type": "stream",
     "text": [
      "\r",
      "Episode: 1104\tAverage Score: 0.00\tCurrent Score: 0.00\r",
      "Episode: 1105\tAverage Score: 0.00\tCurrent Score: 0.00"
     ]
    },
    {
     "name": "stdout",
     "output_type": "stream",
     "text": [
      "\r",
      "Episode: 1106\tAverage Score: 0.00\tCurrent Score: 0.00"
     ]
    },
    {
     "name": "stdout",
     "output_type": "stream",
     "text": [
      "\r",
      "Episode: 1107\tAverage Score: 0.00\tCurrent Score: 0.00\r",
      "Episode: 1108\tAverage Score: 0.00\tCurrent Score: 0.00"
     ]
    },
    {
     "name": "stdout",
     "output_type": "stream",
     "text": [
      "\r",
      "Episode: 1109\tAverage Score: 0.00\tCurrent Score: 0.00"
     ]
    },
    {
     "name": "stdout",
     "output_type": "stream",
     "text": [
      "\r",
      "Episode: 1110\tAverage Score: 0.00\tCurrent Score: 0.00\r",
      "Episode: 1110\tAverage Score: 0.00\tCurrent Score: 0.00\n",
      "\r",
      "Episode: 1111\tAverage Score: 0.00\tCurrent Score: 0.00"
     ]
    },
    {
     "name": "stdout",
     "output_type": "stream",
     "text": [
      "\r",
      "Episode: 1112\tAverage Score: 0.00\tCurrent Score: 0.00"
     ]
    },
    {
     "name": "stdout",
     "output_type": "stream",
     "text": [
      "\r",
      "Episode: 1113\tAverage Score: 0.00\tCurrent Score: 0.00"
     ]
    },
    {
     "name": "stdout",
     "output_type": "stream",
     "text": [
      "\r",
      "Episode: 1114\tAverage Score: 0.00\tCurrent Score: 0.00\r",
      "Episode: 1115\tAverage Score: 0.00\tCurrent Score: 0.00"
     ]
    },
    {
     "name": "stdout",
     "output_type": "stream",
     "text": [
      "\r",
      "Episode: 1116\tAverage Score: 0.00\tCurrent Score: 0.00"
     ]
    },
    {
     "name": "stdout",
     "output_type": "stream",
     "text": [
      "\r",
      "Episode: 1117\tAverage Score: 0.00\tCurrent Score: 0.00\r",
      "Episode: 1118\tAverage Score: 0.00\tCurrent Score: 0.00"
     ]
    },
    {
     "name": "stdout",
     "output_type": "stream",
     "text": [
      "\r",
      "Episode: 1119\tAverage Score: 0.00\tCurrent Score: 0.00"
     ]
    },
    {
     "name": "stdout",
     "output_type": "stream",
     "text": [
      "\r",
      "Episode: 1120\tAverage Score: 0.00\tCurrent Score: 0.00\r",
      "Episode: 1120\tAverage Score: 0.00\tCurrent Score: 0.00\n"
     ]
    },
    {
     "name": "stdout",
     "output_type": "stream",
     "text": [
      "\r",
      "Episode: 1121\tAverage Score: 0.00\tCurrent Score: 0.00\r",
      "Episode: 1122\tAverage Score: 0.00\tCurrent Score: 0.00"
     ]
    },
    {
     "name": "stdout",
     "output_type": "stream",
     "text": [
      "\r",
      "Episode: 1123\tAverage Score: 0.00\tCurrent Score: 0.00"
     ]
    },
    {
     "name": "stdout",
     "output_type": "stream",
     "text": [
      "\r",
      "Episode: 1124\tAverage Score: 0.00\tCurrent Score: 0.00"
     ]
    },
    {
     "name": "stdout",
     "output_type": "stream",
     "text": [
      "\r",
      "Episode: 1125\tAverage Score: 0.00\tCurrent Score: 0.00\r",
      "Episode: 1126\tAverage Score: 0.00\tCurrent Score: 0.00"
     ]
    },
    {
     "name": "stdout",
     "output_type": "stream",
     "text": [
      "\r",
      "Episode: 1127\tAverage Score: 0.00\tCurrent Score: 0.00"
     ]
    },
    {
     "name": "stdout",
     "output_type": "stream",
     "text": [
      "\r",
      "Episode: 1128\tAverage Score: 0.00\tCurrent Score: 0.00\r",
      "Episode: 1129\tAverage Score: 0.00\tCurrent Score: 0.00"
     ]
    },
    {
     "name": "stdout",
     "output_type": "stream",
     "text": [
      "\r",
      "Episode: 1130\tAverage Score: 0.00\tCurrent Score: 0.00\r",
      "Episode: 1130\tAverage Score: 0.00\tCurrent Score: 0.00\n"
     ]
    },
    {
     "name": "stdout",
     "output_type": "stream",
     "text": [
      "\r",
      "Episode: 1131\tAverage Score: 0.00\tCurrent Score: 0.00"
     ]
    },
    {
     "name": "stdout",
     "output_type": "stream",
     "text": [
      "\r",
      "Episode: 1132\tAverage Score: 0.00\tCurrent Score: 0.00\r",
      "Episode: 1133\tAverage Score: 0.00\tCurrent Score: 0.00"
     ]
    },
    {
     "name": "stdout",
     "output_type": "stream",
     "text": [
      "\r",
      "Episode: 1134\tAverage Score: 0.00\tCurrent Score: 0.00"
     ]
    },
    {
     "name": "stdout",
     "output_type": "stream",
     "text": [
      "\r",
      "Episode: 1135\tAverage Score: 0.00\tCurrent Score: 0.00\r",
      "Episode: 1136\tAverage Score: 0.00\tCurrent Score: 0.00"
     ]
    },
    {
     "name": "stdout",
     "output_type": "stream",
     "text": [
      "\r",
      "Episode: 1137\tAverage Score: 0.00\tCurrent Score: 0.00"
     ]
    },
    {
     "name": "stdout",
     "output_type": "stream",
     "text": [
      "\r",
      "Episode: 1138\tAverage Score: 0.00\tCurrent Score: 0.00"
     ]
    },
    {
     "name": "stdout",
     "output_type": "stream",
     "text": [
      "\r",
      "Episode: 1139\tAverage Score: 0.00\tCurrent Score: 0.00\r",
      "Episode: 1140\tAverage Score: 0.00\tCurrent Score: 0.00\r",
      "Episode: 1140\tAverage Score: 0.00\tCurrent Score: 0.00\n"
     ]
    },
    {
     "name": "stdout",
     "output_type": "stream",
     "text": [
      "\r",
      "Episode: 1141\tAverage Score: 0.00\tCurrent Score: 0.00"
     ]
    },
    {
     "name": "stdout",
     "output_type": "stream",
     "text": [
      "\r",
      "Episode: 1142\tAverage Score: 0.00\tCurrent Score: 0.00\r",
      "Episode: 1143\tAverage Score: 0.00\tCurrent Score: 0.00"
     ]
    },
    {
     "name": "stdout",
     "output_type": "stream",
     "text": [
      "\r",
      "Episode: 1144\tAverage Score: 0.00\tCurrent Score: 0.00"
     ]
    },
    {
     "name": "stdout",
     "output_type": "stream",
     "text": [
      "\r",
      "Episode: 1145\tAverage Score: 0.00\tCurrent Score: 0.00"
     ]
    },
    {
     "name": "stdout",
     "output_type": "stream",
     "text": [
      "\r",
      "Episode: 1146\tAverage Score: 0.00\tCurrent Score: 0.00\r",
      "Episode: 1147\tAverage Score: 0.00\tCurrent Score: 0.00"
     ]
    },
    {
     "name": "stdout",
     "output_type": "stream",
     "text": [
      "\r",
      "Episode: 1148\tAverage Score: 0.00\tCurrent Score: 0.00"
     ]
    },
    {
     "name": "stdout",
     "output_type": "stream",
     "text": [
      "\r",
      "Episode: 1149\tAverage Score: 0.00\tCurrent Score: 0.00\r",
      "Episode: 1150\tAverage Score: 0.00\tCurrent Score: 0.00\r",
      "Episode: 1150\tAverage Score: 0.00\tCurrent Score: 0.00\n"
     ]
    },
    {
     "name": "stdout",
     "output_type": "stream",
     "text": [
      "\r",
      "Episode: 1151\tAverage Score: 0.00\tCurrent Score: 0.00"
     ]
    },
    {
     "name": "stdout",
     "output_type": "stream",
     "text": [
      "\r",
      "Episode: 1152\tAverage Score: 0.00\tCurrent Score: 0.00"
     ]
    },
    {
     "name": "stdout",
     "output_type": "stream",
     "text": [
      "\r",
      "Episode: 1153\tAverage Score: 0.00\tCurrent Score: 0.00\r",
      "Episode: 1154\tAverage Score: 0.00\tCurrent Score: 0.00"
     ]
    },
    {
     "name": "stdout",
     "output_type": "stream",
     "text": [
      "\r",
      "Episode: 1155\tAverage Score: 0.00\tCurrent Score: 0.00"
     ]
    },
    {
     "name": "stdout",
     "output_type": "stream",
     "text": [
      "\r",
      "Episode: 1156\tAverage Score: 0.00\tCurrent Score: 0.00\r",
      "Episode: 1157\tAverage Score: 0.00\tCurrent Score: 0.00"
     ]
    },
    {
     "name": "stdout",
     "output_type": "stream",
     "text": [
      "\r",
      "Episode: 1158\tAverage Score: 0.00\tCurrent Score: 0.00"
     ]
    },
    {
     "name": "stdout",
     "output_type": "stream",
     "text": [
      "\r",
      "Episode: 1159\tAverage Score: 0.00\tCurrent Score: 0.00\r",
      "Episode: 1160\tAverage Score: 0.00\tCurrent Score: 0.00\r",
      "Episode: 1160\tAverage Score: 0.00\tCurrent Score: 0.00\n"
     ]
    },
    {
     "name": "stdout",
     "output_type": "stream",
     "text": [
      "\r",
      "Episode: 1161\tAverage Score: 0.00\tCurrent Score: 0.00"
     ]
    },
    {
     "name": "stdout",
     "output_type": "stream",
     "text": [
      "\r",
      "Episode: 1162\tAverage Score: 0.00\tCurrent Score: 0.00"
     ]
    },
    {
     "name": "stdout",
     "output_type": "stream",
     "text": [
      "\r",
      "Episode: 1163\tAverage Score: 0.00\tCurrent Score: 0.00"
     ]
    },
    {
     "name": "stdout",
     "output_type": "stream",
     "text": [
      "\r",
      "Episode: 1164\tAverage Score: 0.00\tCurrent Score: 0.00\r",
      "Episode: 1165\tAverage Score: 0.00\tCurrent Score: 0.00"
     ]
    },
    {
     "name": "stdout",
     "output_type": "stream",
     "text": [
      "\r",
      "Episode: 1166\tAverage Score: 0.00\tCurrent Score: 0.00"
     ]
    },
    {
     "name": "stdout",
     "output_type": "stream",
     "text": [
      "\r",
      "Episode: 1167\tAverage Score: 0.00\tCurrent Score: 0.00"
     ]
    },
    {
     "name": "stdout",
     "output_type": "stream",
     "text": [
      "\r",
      "Episode: 1168\tAverage Score: 0.00\tCurrent Score: 0.00\r",
      "Episode: 1169\tAverage Score: 0.00\tCurrent Score: 0.00"
     ]
    },
    {
     "name": "stdout",
     "output_type": "stream",
     "text": [
      "\r",
      "Episode: 1170\tAverage Score: 0.00\tCurrent Score: 0.00\r",
      "Episode: 1170\tAverage Score: 0.00\tCurrent Score: 0.00\n"
     ]
    },
    {
     "name": "stdout",
     "output_type": "stream",
     "text": [
      "\r",
      "Episode: 1171\tAverage Score: 0.00\tCurrent Score: 0.00"
     ]
    },
    {
     "name": "stdout",
     "output_type": "stream",
     "text": [
      "\r",
      "Episode: 1172\tAverage Score: 0.00\tCurrent Score: 0.00\r",
      "Episode: 1173\tAverage Score: 0.00\tCurrent Score: 0.00"
     ]
    },
    {
     "name": "stdout",
     "output_type": "stream",
     "text": [
      "\r",
      "Episode: 1174\tAverage Score: 0.00\tCurrent Score: 0.00"
     ]
    },
    {
     "name": "stdout",
     "output_type": "stream",
     "text": [
      "\r",
      "Episode: 1175\tAverage Score: 0.00\tCurrent Score: 0.00\r",
      "Episode: 1176\tAverage Score: 0.00\tCurrent Score: 0.00"
     ]
    },
    {
     "name": "stdout",
     "output_type": "stream",
     "text": [
      "\r",
      "Episode: 1177\tAverage Score: 0.00\tCurrent Score: 0.00"
     ]
    },
    {
     "name": "stdout",
     "output_type": "stream",
     "text": [
      "\r",
      "Episode: 1178\tAverage Score: 0.00\tCurrent Score: 0.00\r",
      "Episode: 1179\tAverage Score: 0.00\tCurrent Score: 0.00"
     ]
    },
    {
     "name": "stdout",
     "output_type": "stream",
     "text": [
      "\r",
      "Episode: 1180\tAverage Score: 0.00\tCurrent Score: 0.00\r",
      "Episode: 1180\tAverage Score: 0.00\tCurrent Score: 0.00\n"
     ]
    },
    {
     "name": "stdout",
     "output_type": "stream",
     "text": [
      "\r",
      "Episode: 1181\tAverage Score: 0.00\tCurrent Score: 0.00"
     ]
    },
    {
     "name": "stdout",
     "output_type": "stream",
     "text": [
      "\r",
      "Episode: 1182\tAverage Score: 0.00\tCurrent Score: 0.00"
     ]
    },
    {
     "name": "stdout",
     "output_type": "stream",
     "text": [
      "\r",
      "Episode: 1183\tAverage Score: 0.00\tCurrent Score: 0.00"
     ]
    },
    {
     "name": "stdout",
     "output_type": "stream",
     "text": [
      "\r",
      "Episode: 1184\tAverage Score: 0.00\tCurrent Score: 0.00\r",
      "Episode: 1185\tAverage Score: 0.00\tCurrent Score: 0.00"
     ]
    },
    {
     "name": "stdout",
     "output_type": "stream",
     "text": [
      "\r",
      "Episode: 1186\tAverage Score: 0.00\tCurrent Score: 0.00"
     ]
    },
    {
     "name": "stdout",
     "output_type": "stream",
     "text": [
      "\r",
      "Episode: 1187\tAverage Score: 0.00\tCurrent Score: 0.00\r",
      "Episode: 1188\tAverage Score: 0.00\tCurrent Score: 0.00"
     ]
    },
    {
     "name": "stdout",
     "output_type": "stream",
     "text": [
      "\r",
      "Episode: 1189\tAverage Score: 0.00\tCurrent Score: 0.00"
     ]
    },
    {
     "name": "stdout",
     "output_type": "stream",
     "text": [
      "\r",
      "Episode: 1190\tAverage Score: 0.00\tCurrent Score: 0.00\r",
      "Episode: 1190\tAverage Score: 0.00\tCurrent Score: 0.00\n",
      "\r",
      "Episode: 1191\tAverage Score: 0.00\tCurrent Score: 0.00"
     ]
    },
    {
     "name": "stdout",
     "output_type": "stream",
     "text": [
      "\r",
      "Episode: 1192\tAverage Score: 0.00\tCurrent Score: 0.00"
     ]
    },
    {
     "name": "stdout",
     "output_type": "stream",
     "text": [
      "\r",
      "Episode: 1193\tAverage Score: 0.00\tCurrent Score: 0.00"
     ]
    },
    {
     "name": "stdout",
     "output_type": "stream",
     "text": [
      "\r",
      "Episode: 1194\tAverage Score: 0.00\tCurrent Score: 0.00\r",
      "Episode: 1195\tAverage Score: 0.00\tCurrent Score: 0.00"
     ]
    },
    {
     "name": "stdout",
     "output_type": "stream",
     "text": [
      "\r",
      "Episode: 1196\tAverage Score: 0.00\tCurrent Score: 0.00"
     ]
    },
    {
     "name": "stdout",
     "output_type": "stream",
     "text": [
      "\r",
      "Episode: 1197\tAverage Score: 0.00\tCurrent Score: 0.00\r",
      "Episode: 1198\tAverage Score: 0.00\tCurrent Score: 0.00"
     ]
    },
    {
     "name": "stdout",
     "output_type": "stream",
     "text": [
      "\r",
      "Episode: 1199\tAverage Score: 0.00\tCurrent Score: 0.00"
     ]
    },
    {
     "name": "stdout",
     "output_type": "stream",
     "text": [
      "\r",
      "Episode: 1200\tAverage Score: 0.00\tCurrent Score: 0.00\r",
      "Episode: 1200\tAverage Score: 0.00\tCurrent Score: 0.00\n"
     ]
    },
    {
     "name": "stdout",
     "output_type": "stream",
     "text": [
      "\r",
      "Episode: 1201\tAverage Score: 0.00\tCurrent Score: 0.00\r",
      "Episode: 1202\tAverage Score: 0.00\tCurrent Score: 0.00"
     ]
    },
    {
     "name": "stdout",
     "output_type": "stream",
     "text": [
      "\r",
      "Episode: 1203\tAverage Score: 0.00\tCurrent Score: 0.00"
     ]
    },
    {
     "name": "stdout",
     "output_type": "stream",
     "text": [
      "\r",
      "Episode: 1204\tAverage Score: 0.00\tCurrent Score: 0.00"
     ]
    },
    {
     "name": "stdout",
     "output_type": "stream",
     "text": [
      "\r",
      "Episode: 1205\tAverage Score: 0.00\tCurrent Score: 0.00\r",
      "Episode: 1206\tAverage Score: 0.00\tCurrent Score: 0.00"
     ]
    },
    {
     "name": "stdout",
     "output_type": "stream",
     "text": [
      "\r",
      "Episode: 1207\tAverage Score: 0.00\tCurrent Score: 0.00"
     ]
    },
    {
     "name": "stdout",
     "output_type": "stream",
     "text": [
      "\r",
      "Episode: 1208\tAverage Score: 0.00\tCurrent Score: 0.00\r",
      "Episode: 1209\tAverage Score: 0.00\tCurrent Score: 0.00"
     ]
    },
    {
     "name": "stdout",
     "output_type": "stream",
     "text": [
      "\r",
      "Episode: 1210\tAverage Score: 0.00\tCurrent Score: 0.00\r",
      "Episode: 1210\tAverage Score: 0.00\tCurrent Score: 0.00\n"
     ]
    },
    {
     "name": "stdout",
     "output_type": "stream",
     "text": [
      "\r",
      "Episode: 1211\tAverage Score: 0.00\tCurrent Score: 0.00"
     ]
    },
    {
     "name": "stdout",
     "output_type": "stream",
     "text": [
      "\r",
      "Episode: 1212\tAverage Score: 0.00\tCurrent Score: 0.00\r",
      "Episode: 1213\tAverage Score: 0.00\tCurrent Score: 0.00"
     ]
    },
    {
     "name": "stdout",
     "output_type": "stream",
     "text": [
      "\r",
      "Episode: 1214\tAverage Score: 0.00\tCurrent Score: 0.00"
     ]
    },
    {
     "name": "stdout",
     "output_type": "stream",
     "text": [
      "\r",
      "Episode: 1215\tAverage Score: 0.00\tCurrent Score: 0.00"
     ]
    },
    {
     "name": "stdout",
     "output_type": "stream",
     "text": [
      "\r",
      "Episode: 1216\tAverage Score: 0.00\tCurrent Score: 0.00\r",
      "Episode: 1217\tAverage Score: 0.00\tCurrent Score: 0.00"
     ]
    },
    {
     "name": "stdout",
     "output_type": "stream",
     "text": [
      "\r",
      "Episode: 1218\tAverage Score: 0.00\tCurrent Score: 0.00"
     ]
    },
    {
     "name": "stdout",
     "output_type": "stream",
     "text": [
      "\r",
      "Episode: 1219\tAverage Score: 0.00\tCurrent Score: 0.00\r",
      "Episode: 1220\tAverage Score: 0.00\tCurrent Score: 0.00\r",
      "Episode: 1220\tAverage Score: 0.00\tCurrent Score: 0.00\n"
     ]
    },
    {
     "name": "stdout",
     "output_type": "stream",
     "text": [
      "\r",
      "Episode: 1221\tAverage Score: 0.00\tCurrent Score: 0.00"
     ]
    },
    {
     "name": "stdout",
     "output_type": "stream",
     "text": [
      "\r",
      "Episode: 1222\tAverage Score: 0.00\tCurrent Score: 0.00"
     ]
    },
    {
     "name": "stdout",
     "output_type": "stream",
     "text": [
      "\r",
      "Episode: 1223\tAverage Score: 0.00\tCurrent Score: 0.00\r",
      "Episode: 1224\tAverage Score: 0.00\tCurrent Score: 0.00"
     ]
    },
    {
     "name": "stdout",
     "output_type": "stream",
     "text": [
      "\r",
      "Episode: 1225\tAverage Score: 0.00\tCurrent Score: 0.00"
     ]
    },
    {
     "name": "stdout",
     "output_type": "stream",
     "text": [
      "\r",
      "Episode: 1226\tAverage Score: 0.00\tCurrent Score: 0.00\r",
      "Episode: 1227\tAverage Score: 0.00\tCurrent Score: 0.00"
     ]
    },
    {
     "name": "stdout",
     "output_type": "stream",
     "text": [
      "\r",
      "Episode: 1228\tAverage Score: 0.00\tCurrent Score: 0.00"
     ]
    },
    {
     "name": "stdout",
     "output_type": "stream",
     "text": [
      "\r",
      "Episode: 1229\tAverage Score: 0.00\tCurrent Score: 0.00"
     ]
    },
    {
     "name": "stdout",
     "output_type": "stream",
     "text": [
      "\r",
      "Episode: 1230\tAverage Score: 0.00\tCurrent Score: 0.00\r",
      "Episode: 1230\tAverage Score: 0.00\tCurrent Score: 0.00\n",
      "\r",
      "Episode: 1231\tAverage Score: 0.00\tCurrent Score: 0.00"
     ]
    },
    {
     "name": "stdout",
     "output_type": "stream",
     "text": [
      "\r",
      "Episode: 1232\tAverage Score: 0.00\tCurrent Score: 0.00"
     ]
    },
    {
     "name": "stdout",
     "output_type": "stream",
     "text": [
      "\r",
      "Episode: 1233\tAverage Score: 0.00\tCurrent Score: 0.00"
     ]
    },
    {
     "name": "stdout",
     "output_type": "stream",
     "text": [
      "\r",
      "Episode: 1234\tAverage Score: 0.00\tCurrent Score: 0.00\r",
      "Episode: 1235\tAverage Score: 0.00\tCurrent Score: 0.00"
     ]
    },
    {
     "name": "stdout",
     "output_type": "stream",
     "text": [
      "\r",
      "Episode: 1236\tAverage Score: 0.00\tCurrent Score: 0.00"
     ]
    },
    {
     "name": "stdout",
     "output_type": "stream",
     "text": [
      "\r",
      "Episode: 1237\tAverage Score: 0.00\tCurrent Score: 0.00\r",
      "Episode: 1238\tAverage Score: 0.00\tCurrent Score: 0.00"
     ]
    },
    {
     "name": "stdout",
     "output_type": "stream",
     "text": [
      "\r",
      "Episode: 1239\tAverage Score: 0.00\tCurrent Score: 0.00"
     ]
    },
    {
     "name": "stdout",
     "output_type": "stream",
     "text": [
      "\r",
      "Episode: 1240\tAverage Score: 0.00\tCurrent Score: 0.00\r",
      "Episode: 1240\tAverage Score: 0.00\tCurrent Score: 0.00\n"
     ]
    },
    {
     "name": "stdout",
     "output_type": "stream",
     "text": [
      "\r",
      "Episode: 1241\tAverage Score: 0.00\tCurrent Score: 0.00\r",
      "Episode: 1242\tAverage Score: 0.00\tCurrent Score: 0.00"
     ]
    },
    {
     "name": "stdout",
     "output_type": "stream",
     "text": [
      "\r",
      "Episode: 1243\tAverage Score: 0.00\tCurrent Score: 0.00"
     ]
    },
    {
     "name": "stdout",
     "output_type": "stream",
     "text": [
      "\r",
      "Episode: 1244\tAverage Score: 0.00\tCurrent Score: 0.00\r",
      "Episode: 1245\tAverage Score: 0.00\tCurrent Score: 0.00"
     ]
    },
    {
     "name": "stdout",
     "output_type": "stream",
     "text": [
      "\r",
      "Episode: 1246\tAverage Score: 0.00\tCurrent Score: 0.00"
     ]
    },
    {
     "name": "stdout",
     "output_type": "stream",
     "text": [
      "\r",
      "Episode: 1247\tAverage Score: 0.00\tCurrent Score: 0.00"
     ]
    },
    {
     "name": "stdout",
     "output_type": "stream",
     "text": [
      "\r",
      "Episode: 1248\tAverage Score: 0.00\tCurrent Score: 0.00\r",
      "Episode: 1249\tAverage Score: 0.00\tCurrent Score: 0.00"
     ]
    },
    {
     "name": "stdout",
     "output_type": "stream",
     "text": [
      "\r",
      "Episode: 1250\tAverage Score: 0.00\tCurrent Score: 0.00\r",
      "Episode: 1250\tAverage Score: 0.00\tCurrent Score: 0.00\n"
     ]
    },
    {
     "name": "stdout",
     "output_type": "stream",
     "text": [
      "\r",
      "Episode: 1251\tAverage Score: 0.00\tCurrent Score: 0.00"
     ]
    },
    {
     "name": "stdout",
     "output_type": "stream",
     "text": [
      "\r",
      "Episode: 1252\tAverage Score: 0.00\tCurrent Score: 0.00\r",
      "Episode: 1253\tAverage Score: 0.00\tCurrent Score: 0.00"
     ]
    },
    {
     "name": "stdout",
     "output_type": "stream",
     "text": [
      "\r",
      "Episode: 1254\tAverage Score: 0.00\tCurrent Score: 0.00"
     ]
    },
    {
     "name": "stdout",
     "output_type": "stream",
     "text": [
      "\r",
      "Episode: 1255\tAverage Score: 0.00\tCurrent Score: 0.00\r",
      "Episode: 1256\tAverage Score: 0.00\tCurrent Score: 0.00"
     ]
    },
    {
     "name": "stdout",
     "output_type": "stream",
     "text": [
      "\r",
      "Episode: 1257\tAverage Score: 0.00\tCurrent Score: 0.00"
     ]
    },
    {
     "name": "stdout",
     "output_type": "stream",
     "text": [
      "\r",
      "Episode: 1258\tAverage Score: 0.00\tCurrent Score: 0.00"
     ]
    },
    {
     "name": "stdout",
     "output_type": "stream",
     "text": [
      "\r",
      "Episode: 1259\tAverage Score: 0.00\tCurrent Score: 0.00\r",
      "Episode: 1260\tAverage Score: 0.00\tCurrent Score: 0.00\r",
      "Episode: 1260\tAverage Score: 0.00\tCurrent Score: 0.00\n"
     ]
    },
    {
     "name": "stdout",
     "output_type": "stream",
     "text": [
      "\r",
      "Episode: 1261\tAverage Score: 0.00\tCurrent Score: 0.00"
     ]
    },
    {
     "name": "stdout",
     "output_type": "stream",
     "text": [
      "\r",
      "Episode: 1262\tAverage Score: 0.00\tCurrent Score: 0.00\r",
      "Episode: 1263\tAverage Score: 0.00\tCurrent Score: 0.00"
     ]
    },
    {
     "name": "stdout",
     "output_type": "stream",
     "text": [
      "\r",
      "Episode: 1264\tAverage Score: 0.00\tCurrent Score: 0.00"
     ]
    },
    {
     "name": "stdout",
     "output_type": "stream",
     "text": [
      "\r",
      "Episode: 1265\tAverage Score: 0.00\tCurrent Score: 0.00"
     ]
    },
    {
     "name": "stdout",
     "output_type": "stream",
     "text": [
      "\r",
      "Episode: 1266\tAverage Score: 0.00\tCurrent Score: 0.00\r",
      "Episode: 1267\tAverage Score: 0.00\tCurrent Score: 0.00"
     ]
    },
    {
     "name": "stdout",
     "output_type": "stream",
     "text": [
      "\r",
      "Episode: 1268\tAverage Score: 0.00\tCurrent Score: 0.00"
     ]
    },
    {
     "name": "stdout",
     "output_type": "stream",
     "text": [
      "\r",
      "Episode: 1269\tAverage Score: 0.00\tCurrent Score: 0.00\r",
      "Episode: 1270\tAverage Score: 0.00\tCurrent Score: 0.00\r",
      "Episode: 1270\tAverage Score: 0.00\tCurrent Score: 0.00\n"
     ]
    },
    {
     "name": "stdout",
     "output_type": "stream",
     "text": [
      "\r",
      "Episode: 1271\tAverage Score: 0.00\tCurrent Score: 0.00"
     ]
    },
    {
     "name": "stdout",
     "output_type": "stream",
     "text": [
      "\r",
      "Episode: 1272\tAverage Score: 0.00\tCurrent Score: 0.00"
     ]
    },
    {
     "name": "stdout",
     "output_type": "stream",
     "text": [
      "\r",
      "Episode: 1273\tAverage Score: 0.00\tCurrent Score: 0.00\r",
      "Episode: 1274\tAverage Score: 0.00\tCurrent Score: 0.00"
     ]
    },
    {
     "name": "stdout",
     "output_type": "stream",
     "text": [
      "\r",
      "Episode: 1275\tAverage Score: 0.00\tCurrent Score: 0.00"
     ]
    },
    {
     "name": "stdout",
     "output_type": "stream",
     "text": [
      "\r",
      "Episode: 1276\tAverage Score: 0.00\tCurrent Score: 0.00\r",
      "Episode: 1277\tAverage Score: 0.00\tCurrent Score: 0.00"
     ]
    },
    {
     "name": "stdout",
     "output_type": "stream",
     "text": [
      "\r",
      "Episode: 1278\tAverage Score: 0.00\tCurrent Score: 0.00"
     ]
    },
    {
     "name": "stdout",
     "output_type": "stream",
     "text": [
      "\r",
      "Episode: 1279\tAverage Score: 0.00\tCurrent Score: 0.00"
     ]
    },
    {
     "name": "stdout",
     "output_type": "stream",
     "text": [
      "\r",
      "Episode: 1280\tAverage Score: 0.00\tCurrent Score: 0.00\r",
      "Episode: 1280\tAverage Score: 0.00\tCurrent Score: 0.00\n",
      "\r",
      "Episode: 1281\tAverage Score: 0.00\tCurrent Score: 0.00"
     ]
    },
    {
     "name": "stdout",
     "output_type": "stream",
     "text": [
      "\r",
      "Episode: 1282\tAverage Score: 0.00\tCurrent Score: 0.00"
     ]
    },
    {
     "name": "stdout",
     "output_type": "stream",
     "text": [
      "\r",
      "Episode: 1283\tAverage Score: 0.00\tCurrent Score: 0.00\r",
      "Episode: 1284\tAverage Score: 0.00\tCurrent Score: 0.00"
     ]
    },
    {
     "name": "stdout",
     "output_type": "stream",
     "text": [
      "\r",
      "Episode: 1285\tAverage Score: 0.00\tCurrent Score: 0.00"
     ]
    },
    {
     "name": "stdout",
     "output_type": "stream",
     "text": [
      "\r",
      "Episode: 1286\tAverage Score: 0.00\tCurrent Score: 0.00"
     ]
    },
    {
     "name": "stdout",
     "output_type": "stream",
     "text": [
      "\r",
      "Episode: 1287\tAverage Score: 0.00\tCurrent Score: 0.00\r",
      "Episode: 1288\tAverage Score: 0.00\tCurrent Score: 0.00"
     ]
    },
    {
     "name": "stdout",
     "output_type": "stream",
     "text": [
      "\r",
      "Episode: 1289\tAverage Score: 0.00\tCurrent Score: 0.00"
     ]
    },
    {
     "name": "stdout",
     "output_type": "stream",
     "text": [
      "\r",
      "Episode: 1290\tAverage Score: 0.00\tCurrent Score: 0.00\r",
      "Episode: 1290\tAverage Score: 0.00\tCurrent Score: 0.00\n",
      "\r",
      "Episode: 1291\tAverage Score: 0.00\tCurrent Score: 0.00"
     ]
    },
    {
     "name": "stdout",
     "output_type": "stream",
     "text": [
      "\r",
      "Episode: 1292\tAverage Score: 0.00\tCurrent Score: 0.00"
     ]
    },
    {
     "name": "stdout",
     "output_type": "stream",
     "text": [
      "\r",
      "Episode: 1293\tAverage Score: 0.00\tCurrent Score: 0.00"
     ]
    },
    {
     "name": "stdout",
     "output_type": "stream",
     "text": [
      "\r",
      "Episode: 1294\tAverage Score: 0.00\tCurrent Score: 0.00\r",
      "Episode: 1295\tAverage Score: 0.00\tCurrent Score: 0.00"
     ]
    },
    {
     "name": "stdout",
     "output_type": "stream",
     "text": [
      "\r",
      "Episode: 1296\tAverage Score: 0.00\tCurrent Score: 0.00"
     ]
    },
    {
     "name": "stdout",
     "output_type": "stream",
     "text": [
      "\r",
      "Episode: 1297\tAverage Score: 0.00\tCurrent Score: 0.00\r",
      "Episode: 1298\tAverage Score: 0.00\tCurrent Score: 0.00"
     ]
    },
    {
     "name": "stdout",
     "output_type": "stream",
     "text": [
      "\r",
      "Episode: 1299\tAverage Score: 0.00\tCurrent Score: 0.00"
     ]
    },
    {
     "name": "stdout",
     "output_type": "stream",
     "text": [
      "\r",
      "Episode: 1300\tAverage Score: 0.00\tCurrent Score: 0.00\r",
      "Episode: 1300\tAverage Score: 0.00\tCurrent Score: 0.00\n"
     ]
    },
    {
     "name": "stdout",
     "output_type": "stream",
     "text": [
      "\r",
      "Episode: 1301\tAverage Score: 0.00\tCurrent Score: 0.00\r",
      "Episode: 1302\tAverage Score: 0.00\tCurrent Score: 0.00"
     ]
    },
    {
     "name": "stdout",
     "output_type": "stream",
     "text": [
      "\r",
      "Episode: 1303\tAverage Score: 0.00\tCurrent Score: 0.00"
     ]
    },
    {
     "name": "stdout",
     "output_type": "stream",
     "text": [
      "\r",
      "Episode: 1304\tAverage Score: 0.00\tCurrent Score: 0.00\r",
      "Episode: 1305\tAverage Score: 0.00\tCurrent Score: 0.00"
     ]
    },
    {
     "name": "stdout",
     "output_type": "stream",
     "text": [
      "\r",
      "Episode: 1306\tAverage Score: 0.00\tCurrent Score: 0.00"
     ]
    },
    {
     "name": "stdout",
     "output_type": "stream",
     "text": [
      "\r",
      "Episode: 1307\tAverage Score: 0.00\tCurrent Score: 0.00"
     ]
    },
    {
     "name": "stdout",
     "output_type": "stream",
     "text": [
      "\r",
      "Episode: 1308\tAverage Score: 0.00\tCurrent Score: 0.00\r",
      "Episode: 1309\tAverage Score: 0.00\tCurrent Score: 0.00"
     ]
    },
    {
     "name": "stdout",
     "output_type": "stream",
     "text": [
      "\r",
      "Episode: 1310\tAverage Score: 0.00\tCurrent Score: 0.00\r",
      "Episode: 1310\tAverage Score: 0.00\tCurrent Score: 0.00\n"
     ]
    },
    {
     "name": "stdout",
     "output_type": "stream",
     "text": [
      "\r",
      "Episode: 1311\tAverage Score: 0.00\tCurrent Score: 0.00\r",
      "Episode: 1312\tAverage Score: 0.00\tCurrent Score: 0.00"
     ]
    },
    {
     "name": "stdout",
     "output_type": "stream",
     "text": [
      "\r",
      "Episode: 1313\tAverage Score: 0.00\tCurrent Score: 0.00"
     ]
    },
    {
     "name": "stdout",
     "output_type": "stream",
     "text": [
      "\r",
      "Episode: 1314\tAverage Score: 0.00\tCurrent Score: 0.00"
     ]
    },
    {
     "name": "stdout",
     "output_type": "stream",
     "text": [
      "\r",
      "Episode: 1315\tAverage Score: 0.00\tCurrent Score: 0.00\r",
      "Episode: 1316\tAverage Score: 0.00\tCurrent Score: 0.00"
     ]
    },
    {
     "name": "stdout",
     "output_type": "stream",
     "text": [
      "\r",
      "Episode: 1317\tAverage Score: 0.00\tCurrent Score: 0.00"
     ]
    },
    {
     "name": "stdout",
     "output_type": "stream",
     "text": [
      "\r",
      "Episode: 1318\tAverage Score: 0.00\tCurrent Score: 0.00\r",
      "Episode: 1319\tAverage Score: 0.00\tCurrent Score: 0.00"
     ]
    },
    {
     "name": "stdout",
     "output_type": "stream",
     "text": [
      "\r",
      "Episode: 1320\tAverage Score: 0.00\tCurrent Score: 0.00\r",
      "Episode: 1320\tAverage Score: 0.00\tCurrent Score: 0.00\n"
     ]
    },
    {
     "name": "stdout",
     "output_type": "stream",
     "text": [
      "\r",
      "Episode: 1321\tAverage Score: 0.00\tCurrent Score: 0.00\r",
      "Episode: 1322\tAverage Score: 0.00\tCurrent Score: 0.00"
     ]
    },
    {
     "name": "stdout",
     "output_type": "stream",
     "text": [
      "\r",
      "Episode: 1323\tAverage Score: 0.00\tCurrent Score: 0.00"
     ]
    },
    {
     "name": "stdout",
     "output_type": "stream",
     "text": [
      "\r",
      "Episode: 1324\tAverage Score: 0.00\tCurrent Score: 0.00"
     ]
    },
    {
     "name": "stdout",
     "output_type": "stream",
     "text": [
      "\r",
      "Episode: 1325\tAverage Score: 0.00\tCurrent Score: 0.10"
     ]
    },
    {
     "name": "stdout",
     "output_type": "stream",
     "text": [
      "\r",
      "Episode: 1326\tAverage Score: 0.00\tCurrent Score: 0.00\r",
      "Episode: 1327\tAverage Score: 0.00\tCurrent Score: 0.00"
     ]
    },
    {
     "name": "stdout",
     "output_type": "stream",
     "text": [
      "\r",
      "Episode: 1328\tAverage Score: 0.00\tCurrent Score: 0.00"
     ]
    },
    {
     "name": "stdout",
     "output_type": "stream",
     "text": [
      "\r",
      "Episode: 1329\tAverage Score: 0.00\tCurrent Score: 0.00\r",
      "Episode: 1330\tAverage Score: 0.00\tCurrent Score: 0.00\r",
      "Episode: 1330\tAverage Score: 0.00\tCurrent Score: 0.00\n"
     ]
    },
    {
     "name": "stdout",
     "output_type": "stream",
     "text": [
      "\r",
      "Episode: 1331\tAverage Score: 0.00\tCurrent Score: 0.00"
     ]
    },
    {
     "name": "stdout",
     "output_type": "stream",
     "text": [
      "\r",
      "Episode: 1332\tAverage Score: 0.00\tCurrent Score: 0.00"
     ]
    },
    {
     "name": "stdout",
     "output_type": "stream",
     "text": [
      "\r",
      "Episode: 1333\tAverage Score: 0.00\tCurrent Score: 0.00\r",
      "Episode: 1334\tAverage Score: 0.00\tCurrent Score: 0.00"
     ]
    },
    {
     "name": "stdout",
     "output_type": "stream",
     "text": [
      "\r",
      "Episode: 1335\tAverage Score: 0.00\tCurrent Score: 0.00"
     ]
    },
    {
     "name": "stdout",
     "output_type": "stream",
     "text": [
      "\r",
      "Episode: 1336\tAverage Score: 0.00\tCurrent Score: 0.00\r",
      "Episode: 1337\tAverage Score: 0.00\tCurrent Score: 0.00"
     ]
    },
    {
     "name": "stdout",
     "output_type": "stream",
     "text": [
      "\r",
      "Episode: 1338\tAverage Score: 0.00\tCurrent Score: 0.00"
     ]
    },
    {
     "name": "stdout",
     "output_type": "stream",
     "text": [
      "\r",
      "Episode: 1339\tAverage Score: 0.00\tCurrent Score: 0.00"
     ]
    },
    {
     "name": "stdout",
     "output_type": "stream",
     "text": [
      "\r",
      "Episode: 1340\tAverage Score: 0.00\tCurrent Score: 0.00\r",
      "Episode: 1340\tAverage Score: 0.00\tCurrent Score: 0.00\n",
      "\r",
      "Episode: 1341\tAverage Score: 0.00\tCurrent Score: 0.00"
     ]
    },
    {
     "name": "stdout",
     "output_type": "stream",
     "text": [
      "\r",
      "Episode: 1342\tAverage Score: 0.00\tCurrent Score: 0.00"
     ]
    },
    {
     "name": "stdout",
     "output_type": "stream",
     "text": [
      "\r",
      "Episode: 1343\tAverage Score: 0.00\tCurrent Score: 0.00\r",
      "Episode: 1344\tAverage Score: 0.00\tCurrent Score: 0.00"
     ]
    },
    {
     "name": "stdout",
     "output_type": "stream",
     "text": [
      "\r",
      "Episode: 1345\tAverage Score: 0.00\tCurrent Score: 0.00"
     ]
    },
    {
     "name": "stdout",
     "output_type": "stream",
     "text": [
      "\r",
      "Episode: 1346\tAverage Score: 0.00\tCurrent Score: 0.00"
     ]
    },
    {
     "name": "stdout",
     "output_type": "stream",
     "text": [
      "\r",
      "Episode: 1347\tAverage Score: 0.00\tCurrent Score: 0.00\r",
      "Episode: 1348\tAverage Score: 0.00\tCurrent Score: 0.00"
     ]
    },
    {
     "name": "stdout",
     "output_type": "stream",
     "text": [
      "\r",
      "Episode: 1349\tAverage Score: 0.00\tCurrent Score: 0.00"
     ]
    },
    {
     "name": "stdout",
     "output_type": "stream",
     "text": [
      "\r",
      "Episode: 1350\tAverage Score: 0.00\tCurrent Score: 0.10\r",
      "Episode: 1350\tAverage Score: 0.00\tCurrent Score: 0.10\n"
     ]
    },
    {
     "name": "stdout",
     "output_type": "stream",
     "text": [
      "\r",
      "Episode: 1351\tAverage Score: 0.00\tCurrent Score: 0.10\r",
      "Episode: 1352\tAverage Score: 0.00\tCurrent Score: 0.00"
     ]
    },
    {
     "name": "stdout",
     "output_type": "stream",
     "text": [
      "\r",
      "Episode: 1353\tAverage Score: 0.00\tCurrent Score: 0.10"
     ]
    },
    {
     "name": "stdout",
     "output_type": "stream",
     "text": [
      "\r",
      "Episode: 1354\tAverage Score: 0.00\tCurrent Score: 0.00\r",
      "Episode: 1355\tAverage Score: 0.00\tCurrent Score: 0.00"
     ]
    },
    {
     "name": "stdout",
     "output_type": "stream",
     "text": [
      "\r",
      "Episode: 1356\tAverage Score: 0.00\tCurrent Score: 0.00"
     ]
    },
    {
     "name": "stdout",
     "output_type": "stream",
     "text": [
      "\r",
      "Episode: 1357\tAverage Score: 0.00\tCurrent Score: 0.00"
     ]
    },
    {
     "name": "stdout",
     "output_type": "stream",
     "text": [
      "\r",
      "Episode: 1358\tAverage Score: 0.01\tCurrent Score: 0.10"
     ]
    },
    {
     "name": "stdout",
     "output_type": "stream",
     "text": [
      "\r",
      "Episode: 1359\tAverage Score: 0.01\tCurrent Score: 0.00"
     ]
    },
    {
     "name": "stdout",
     "output_type": "stream",
     "text": [
      "\r",
      "Episode: 1360\tAverage Score: 0.01\tCurrent Score: 0.00\r",
      "Episode: 1360\tAverage Score: 0.01\tCurrent Score: 0.00\n"
     ]
    },
    {
     "name": "stdout",
     "output_type": "stream",
     "text": [
      "\r",
      "Episode: 1361\tAverage Score: 0.01\tCurrent Score: 0.10"
     ]
    },
    {
     "name": "stdout",
     "output_type": "stream",
     "text": [
      "\r",
      "Episode: 1362\tAverage Score: 0.01\tCurrent Score: 0.00"
     ]
    },
    {
     "name": "stdout",
     "output_type": "stream",
     "text": [
      "\r",
      "Episode: 1363\tAverage Score: 0.01\tCurrent Score: 0.00\r",
      "Episode: 1364\tAverage Score: 0.01\tCurrent Score: 0.00"
     ]
    },
    {
     "name": "stdout",
     "output_type": "stream",
     "text": [
      "\r",
      "Episode: 1365\tAverage Score: 0.01\tCurrent Score: 0.00"
     ]
    },
    {
     "name": "stdout",
     "output_type": "stream",
     "text": [
      "\r",
      "Episode: 1366\tAverage Score: 0.01\tCurrent Score: 0.00"
     ]
    },
    {
     "name": "stdout",
     "output_type": "stream",
     "text": [
      "\r",
      "Episode: 1367\tAverage Score: 0.01\tCurrent Score: 0.00\r",
      "Episode: 1368\tAverage Score: 0.01\tCurrent Score: 0.00"
     ]
    },
    {
     "name": "stdout",
     "output_type": "stream",
     "text": [
      "\r",
      "Episode: 1369\tAverage Score: 0.01\tCurrent Score: 0.00"
     ]
    },
    {
     "name": "stdout",
     "output_type": "stream",
     "text": [
      "\r",
      "Episode: 1370\tAverage Score: 0.01\tCurrent Score: 0.00\r",
      "Episode: 1370\tAverage Score: 0.01\tCurrent Score: 0.00\n"
     ]
    },
    {
     "name": "stdout",
     "output_type": "stream",
     "text": [
      "\r",
      "Episode: 1371\tAverage Score: 0.01\tCurrent Score: 0.00\r",
      "Episode: 1372\tAverage Score: 0.01\tCurrent Score: 0.00"
     ]
    },
    {
     "name": "stdout",
     "output_type": "stream",
     "text": [
      "\r",
      "Episode: 1373\tAverage Score: 0.01\tCurrent Score: 0.00"
     ]
    },
    {
     "name": "stdout",
     "output_type": "stream",
     "text": [
      "\r",
      "Episode: 1374\tAverage Score: 0.01\tCurrent Score: 0.00"
     ]
    },
    {
     "name": "stdout",
     "output_type": "stream",
     "text": [
      "\r",
      "Episode: 1375\tAverage Score: 0.01\tCurrent Score: 0.10"
     ]
    },
    {
     "name": "stdout",
     "output_type": "stream",
     "text": [
      "\r",
      "Episode: 1376\tAverage Score: 0.01\tCurrent Score: 0.00"
     ]
    },
    {
     "name": "stdout",
     "output_type": "stream",
     "text": [
      "\r",
      "Episode: 1377\tAverage Score: 0.01\tCurrent Score: 0.00"
     ]
    },
    {
     "name": "stdout",
     "output_type": "stream",
     "text": [
      "\r",
      "Episode: 1378\tAverage Score: 0.01\tCurrent Score: 0.10"
     ]
    },
    {
     "name": "stdout",
     "output_type": "stream",
     "text": [
      "\r",
      "Episode: 1379\tAverage Score: 0.01\tCurrent Score: 0.00"
     ]
    },
    {
     "name": "stdout",
     "output_type": "stream",
     "text": [
      "\r",
      "Episode: 1380\tAverage Score: 0.01\tCurrent Score: 0.00\r",
      "Episode: 1380\tAverage Score: 0.01\tCurrent Score: 0.00\n"
     ]
    },
    {
     "name": "stdout",
     "output_type": "stream",
     "text": [
      "\r",
      "Episode: 1381\tAverage Score: 0.01\tCurrent Score: 0.00\r",
      "Episode: 1382\tAverage Score: 0.01\tCurrent Score: 0.00"
     ]
    },
    {
     "name": "stdout",
     "output_type": "stream",
     "text": [
      "\r",
      "Episode: 1383\tAverage Score: 0.01\tCurrent Score: 0.00"
     ]
    },
    {
     "name": "stdout",
     "output_type": "stream",
     "text": [
      "\r",
      "Episode: 1384\tAverage Score: 0.01\tCurrent Score: 0.00\r",
      "Episode: 1385\tAverage Score: 0.01\tCurrent Score: 0.00"
     ]
    },
    {
     "name": "stdout",
     "output_type": "stream",
     "text": [
      "\r",
      "Episode: 1386\tAverage Score: 0.01\tCurrent Score: 0.00"
     ]
    },
    {
     "name": "stdout",
     "output_type": "stream",
     "text": [
      "\r",
      "Episode: 1387\tAverage Score: 0.01\tCurrent Score: 0.00\r",
      "Episode: 1388\tAverage Score: 0.01\tCurrent Score: 0.00"
     ]
    },
    {
     "name": "stdout",
     "output_type": "stream",
     "text": [
      "\r",
      "Episode: 1389\tAverage Score: 0.01\tCurrent Score: 0.00"
     ]
    },
    {
     "name": "stdout",
     "output_type": "stream",
     "text": [
      "\r",
      "Episode: 1390\tAverage Score: 0.01\tCurrent Score: 0.00\r",
      "Episode: 1390\tAverage Score: 0.01\tCurrent Score: 0.00\n"
     ]
    },
    {
     "name": "stdout",
     "output_type": "stream",
     "text": [
      "\r",
      "Episode: 1391\tAverage Score: 0.01\tCurrent Score: 0.10"
     ]
    },
    {
     "name": "stdout",
     "output_type": "stream",
     "text": [
      "\r",
      "Episode: 1392\tAverage Score: 0.01\tCurrent Score: 0.10"
     ]
    },
    {
     "name": "stdout",
     "output_type": "stream",
     "text": [
      "\r",
      "Episode: 1393\tAverage Score: 0.01\tCurrent Score: 0.00"
     ]
    },
    {
     "name": "stdout",
     "output_type": "stream",
     "text": [
      "\r",
      "Episode: 1394\tAverage Score: 0.01\tCurrent Score: 0.09\r",
      "Episode: 1395\tAverage Score: 0.01\tCurrent Score: 0.00"
     ]
    },
    {
     "name": "stdout",
     "output_type": "stream",
     "text": [
      "\r",
      "Episode: 1396\tAverage Score: 0.01\tCurrent Score: 0.09"
     ]
    },
    {
     "name": "stdout",
     "output_type": "stream",
     "text": [
      "\r",
      "Episode: 1397\tAverage Score: 0.01\tCurrent Score: 0.00"
     ]
    },
    {
     "name": "stdout",
     "output_type": "stream",
     "text": [
      "\r",
      "Episode: 1398\tAverage Score: 0.01\tCurrent Score: 0.10"
     ]
    },
    {
     "name": "stdout",
     "output_type": "stream",
     "text": [
      "\r",
      "Episode: 1399\tAverage Score: 0.01\tCurrent Score: 0.10"
     ]
    },
    {
     "name": "stdout",
     "output_type": "stream",
     "text": [
      "\r",
      "Episode: 1400\tAverage Score: 0.01\tCurrent Score: 0.00\r",
      "Episode: 1400\tAverage Score: 0.01\tCurrent Score: 0.00\n"
     ]
    },
    {
     "name": "stdout",
     "output_type": "stream",
     "text": [
      "\r",
      "Episode: 1401\tAverage Score: 0.01\tCurrent Score: 0.10"
     ]
    },
    {
     "name": "stdout",
     "output_type": "stream",
     "text": [
      "\r",
      "Episode: 1402\tAverage Score: 0.01\tCurrent Score: 0.00"
     ]
    },
    {
     "name": "stdout",
     "output_type": "stream",
     "text": [
      "\r",
      "Episode: 1403\tAverage Score: 0.01\tCurrent Score: 0.00\r",
      "Episode: 1404\tAverage Score: 0.01\tCurrent Score: 0.00"
     ]
    },
    {
     "name": "stdout",
     "output_type": "stream",
     "text": [
      "\r",
      "Episode: 1405\tAverage Score: 0.01\tCurrent Score: 0.00"
     ]
    },
    {
     "name": "stdout",
     "output_type": "stream",
     "text": [
      "\r",
      "Episode: 1406\tAverage Score: 0.01\tCurrent Score: 0.00"
     ]
    },
    {
     "name": "stdout",
     "output_type": "stream",
     "text": [
      "\r",
      "Episode: 1407\tAverage Score: 0.02\tCurrent Score: 0.10\r",
      "Episode: 1408\tAverage Score: 0.02\tCurrent Score: 0.00"
     ]
    },
    {
     "name": "stdout",
     "output_type": "stream",
     "text": [
      "\r",
      "Episode: 1409\tAverage Score: 0.02\tCurrent Score: 0.00"
     ]
    },
    {
     "name": "stdout",
     "output_type": "stream",
     "text": [
      "\r",
      "Episode: 1410\tAverage Score: 0.02\tCurrent Score: 0.00\r",
      "Episode: 1410\tAverage Score: 0.02\tCurrent Score: 0.00\n",
      "\r",
      "Episode: 1411\tAverage Score: 0.02\tCurrent Score: 0.00"
     ]
    },
    {
     "name": "stdout",
     "output_type": "stream",
     "text": [
      "\r",
      "Episode: 1412\tAverage Score: 0.02\tCurrent Score: 0.00"
     ]
    },
    {
     "name": "stdout",
     "output_type": "stream",
     "text": [
      "\r",
      "Episode: 1413\tAverage Score: 0.02\tCurrent Score: 0.00"
     ]
    },
    {
     "name": "stdout",
     "output_type": "stream",
     "text": [
      "\r",
      "Episode: 1414\tAverage Score: 0.02\tCurrent Score: 0.09"
     ]
    },
    {
     "name": "stdout",
     "output_type": "stream",
     "text": [
      "\r",
      "Episode: 1415\tAverage Score: 0.02\tCurrent Score: 0.10"
     ]
    },
    {
     "name": "stdout",
     "output_type": "stream",
     "text": [
      "\r",
      "Episode: 1416\tAverage Score: 0.02\tCurrent Score: 0.00"
     ]
    },
    {
     "name": "stdout",
     "output_type": "stream",
     "text": [
      "\r",
      "Episode: 1417\tAverage Score: 0.02\tCurrent Score: 0.10"
     ]
    },
    {
     "name": "stdout",
     "output_type": "stream",
     "text": [
      "\r",
      "Episode: 1418\tAverage Score: 0.02\tCurrent Score: 0.10"
     ]
    },
    {
     "name": "stdout",
     "output_type": "stream",
     "text": [
      "\r",
      "Episode: 1419\tAverage Score: 0.02\tCurrent Score: 0.00"
     ]
    },
    {
     "name": "stdout",
     "output_type": "stream",
     "text": [
      "\r",
      "Episode: 1420\tAverage Score: 0.02\tCurrent Score: 0.00\r",
      "Episode: 1420\tAverage Score: 0.02\tCurrent Score: 0.00\n"
     ]
    },
    {
     "name": "stdout",
     "output_type": "stream",
     "text": [
      "\r",
      "Episode: 1421\tAverage Score: 0.02\tCurrent Score: 0.10"
     ]
    },
    {
     "name": "stdout",
     "output_type": "stream",
     "text": [
      "\r",
      "Episode: 1422\tAverage Score: 0.02\tCurrent Score: 0.10"
     ]
    },
    {
     "name": "stdout",
     "output_type": "stream",
     "text": [
      "\r",
      "Episode: 1423\tAverage Score: 0.02\tCurrent Score: 0.10"
     ]
    },
    {
     "name": "stdout",
     "output_type": "stream",
     "text": [
      "\r",
      "Episode: 1424\tAverage Score: 0.02\tCurrent Score: 0.10"
     ]
    },
    {
     "name": "stdout",
     "output_type": "stream",
     "text": [
      "\r",
      "Episode: 1425\tAverage Score: 0.02\tCurrent Score: 0.00"
     ]
    },
    {
     "name": "stdout",
     "output_type": "stream",
     "text": [
      "\r",
      "Episode: 1426\tAverage Score: 0.02\tCurrent Score: 0.00"
     ]
    },
    {
     "name": "stdout",
     "output_type": "stream",
     "text": [
      "\r",
      "Episode: 1427\tAverage Score: 0.02\tCurrent Score: 0.00"
     ]
    },
    {
     "name": "stdout",
     "output_type": "stream",
     "text": [
      "\r",
      "Episode: 1428\tAverage Score: 0.02\tCurrent Score: 0.00"
     ]
    },
    {
     "name": "stdout",
     "output_type": "stream",
     "text": [
      "\r",
      "Episode: 1429\tAverage Score: 0.02\tCurrent Score: 0.09\r",
      "Episode: 1430\tAverage Score: 0.02\tCurrent Score: 0.00\r",
      "Episode: 1430\tAverage Score: 0.02\tCurrent Score: 0.00\n"
     ]
    },
    {
     "name": "stdout",
     "output_type": "stream",
     "text": [
      "\r",
      "Episode: 1431\tAverage Score: 0.02\tCurrent Score: 0.00"
     ]
    },
    {
     "name": "stdout",
     "output_type": "stream",
     "text": [
      "\r",
      "Episode: 1432\tAverage Score: 0.02\tCurrent Score: 0.00\r",
      "Episode: 1433\tAverage Score: 0.02\tCurrent Score: 0.00"
     ]
    },
    {
     "name": "stdout",
     "output_type": "stream",
     "text": [
      "\r",
      "Episode: 1434\tAverage Score: 0.02\tCurrent Score: 0.00"
     ]
    },
    {
     "name": "stdout",
     "output_type": "stream",
     "text": [
      "\r",
      "Episode: 1435\tAverage Score: 0.02\tCurrent Score: 0.00"
     ]
    },
    {
     "name": "stdout",
     "output_type": "stream",
     "text": [
      "\r",
      "Episode: 1436\tAverage Score: 0.02\tCurrent Score: 0.00\r",
      "Episode: 1437\tAverage Score: 0.02\tCurrent Score: 0.00"
     ]
    },
    {
     "name": "stdout",
     "output_type": "stream",
     "text": [
      "\r",
      "Episode: 1438\tAverage Score: 0.02\tCurrent Score: 0.00"
     ]
    },
    {
     "name": "stdout",
     "output_type": "stream",
     "text": [
      "\r",
      "Episode: 1439\tAverage Score: 0.02\tCurrent Score: 0.00\r",
      "Episode: 1440\tAverage Score: 0.02\tCurrent Score: 0.00\r",
      "Episode: 1440\tAverage Score: 0.02\tCurrent Score: 0.00\n"
     ]
    },
    {
     "name": "stdout",
     "output_type": "stream",
     "text": [
      "\r",
      "Episode: 1441\tAverage Score: 0.02\tCurrent Score: 0.00"
     ]
    },
    {
     "name": "stdout",
     "output_type": "stream",
     "text": [
      "\r",
      "Episode: 1442\tAverage Score: 0.02\tCurrent Score: 0.00"
     ]
    },
    {
     "name": "stdout",
     "output_type": "stream",
     "text": [
      "\r",
      "Episode: 1443\tAverage Score: 0.02\tCurrent Score: 0.00\r",
      "Episode: 1444\tAverage Score: 0.02\tCurrent Score: 0.00"
     ]
    },
    {
     "name": "stdout",
     "output_type": "stream",
     "text": [
      "\r",
      "Episode: 1445\tAverage Score: 0.02\tCurrent Score: 0.00"
     ]
    },
    {
     "name": "stdout",
     "output_type": "stream",
     "text": [
      "\r",
      "Episode: 1446\tAverage Score: 0.02\tCurrent Score: 0.00\r",
      "Episode: 1447\tAverage Score: 0.02\tCurrent Score: 0.00"
     ]
    },
    {
     "name": "stdout",
     "output_type": "stream",
     "text": [
      "\r",
      "Episode: 1448\tAverage Score: 0.02\tCurrent Score: 0.00"
     ]
    },
    {
     "name": "stdout",
     "output_type": "stream",
     "text": [
      "\r",
      "Episode: 1449\tAverage Score: 0.02\tCurrent Score: 0.00"
     ]
    },
    {
     "name": "stdout",
     "output_type": "stream",
     "text": [
      "\r",
      "Episode: 1450\tAverage Score: 0.02\tCurrent Score: 0.00\r",
      "Episode: 1450\tAverage Score: 0.02\tCurrent Score: 0.00\n"
     ]
    },
    {
     "name": "stdout",
     "output_type": "stream",
     "text": [
      "\r",
      "Episode: 1451\tAverage Score: 0.02\tCurrent Score: 0.00"
     ]
    },
    {
     "name": "stdout",
     "output_type": "stream",
     "text": [
      "\r",
      "Episode: 1452\tAverage Score: 0.02\tCurrent Score: 0.09"
     ]
    },
    {
     "name": "stdout",
     "output_type": "stream",
     "text": [
      "\r",
      "Episode: 1453\tAverage Score: 0.02\tCurrent Score: 0.00\r",
      "Episode: 1454\tAverage Score: 0.02\tCurrent Score: 0.00"
     ]
    },
    {
     "name": "stdout",
     "output_type": "stream",
     "text": [
      "\r",
      "Episode: 1455\tAverage Score: 0.02\tCurrent Score: 0.00"
     ]
    },
    {
     "name": "stdout",
     "output_type": "stream",
     "text": [
      "\r",
      "Episode: 1456\tAverage Score: 0.02\tCurrent Score: 0.00\r",
      "Episode: 1457\tAverage Score: 0.02\tCurrent Score: 0.00"
     ]
    },
    {
     "name": "stdout",
     "output_type": "stream",
     "text": [
      "\r",
      "Episode: 1458\tAverage Score: 0.02\tCurrent Score: 0.00"
     ]
    },
    {
     "name": "stdout",
     "output_type": "stream",
     "text": [
      "\r",
      "Episode: 1459\tAverage Score: 0.02\tCurrent Score: 0.00\r",
      "Episode: 1460\tAverage Score: 0.02\tCurrent Score: 0.00\r",
      "Episode: 1460\tAverage Score: 0.02\tCurrent Score: 0.00\n"
     ]
    },
    {
     "name": "stdout",
     "output_type": "stream",
     "text": [
      "\r",
      "Episode: 1461\tAverage Score: 0.02\tCurrent Score: 0.00"
     ]
    },
    {
     "name": "stdout",
     "output_type": "stream",
     "text": [
      "\r",
      "Episode: 1462\tAverage Score: 0.02\tCurrent Score: 0.00"
     ]
    },
    {
     "name": "stdout",
     "output_type": "stream",
     "text": [
      "\r",
      "Episode: 1463\tAverage Score: 0.02\tCurrent Score: 0.00\r",
      "Episode: 1464\tAverage Score: 0.02\tCurrent Score: 0.00"
     ]
    },
    {
     "name": "stdout",
     "output_type": "stream",
     "text": [
      "\r",
      "Episode: 1465\tAverage Score: 0.02\tCurrent Score: 0.00"
     ]
    },
    {
     "name": "stdout",
     "output_type": "stream",
     "text": [
      "\r",
      "Episode: 1466\tAverage Score: 0.02\tCurrent Score: 0.00\r",
      "Episode: 1467\tAverage Score: 0.02\tCurrent Score: 0.00"
     ]
    },
    {
     "name": "stdout",
     "output_type": "stream",
     "text": [
      "\r",
      "Episode: 1468\tAverage Score: 0.02\tCurrent Score: 0.00"
     ]
    },
    {
     "name": "stdout",
     "output_type": "stream",
     "text": [
      "\r",
      "Episode: 1469\tAverage Score: 0.02\tCurrent Score: 0.00"
     ]
    },
    {
     "name": "stdout",
     "output_type": "stream",
     "text": [
      "\r",
      "Episode: 1470\tAverage Score: 0.02\tCurrent Score: 0.00\r",
      "Episode: 1470\tAverage Score: 0.02\tCurrent Score: 0.00\n",
      "\r",
      "Episode: 1471\tAverage Score: 0.02\tCurrent Score: 0.00"
     ]
    },
    {
     "name": "stdout",
     "output_type": "stream",
     "text": [
      "\r",
      "Episode: 1472\tAverage Score: 0.02\tCurrent Score: 0.00"
     ]
    },
    {
     "name": "stdout",
     "output_type": "stream",
     "text": [
      "\r",
      "Episode: 1473\tAverage Score: 0.02\tCurrent Score: 0.00\r",
      "Episode: 1474\tAverage Score: 0.02\tCurrent Score: 0.00"
     ]
    },
    {
     "name": "stdout",
     "output_type": "stream",
     "text": [
      "\r",
      "Episode: 1475\tAverage Score: 0.02\tCurrent Score: 0.00"
     ]
    },
    {
     "name": "stdout",
     "output_type": "stream",
     "text": [
      "\r",
      "Episode: 1476\tAverage Score: 0.02\tCurrent Score: 0.00"
     ]
    },
    {
     "name": "stdout",
     "output_type": "stream",
     "text": [
      "\r",
      "Episode: 1477\tAverage Score: 0.02\tCurrent Score: 0.00\r",
      "Episode: 1478\tAverage Score: 0.02\tCurrent Score: 0.00"
     ]
    },
    {
     "name": "stdout",
     "output_type": "stream",
     "text": [
      "\r",
      "Episode: 1479\tAverage Score: 0.02\tCurrent Score: 0.00"
     ]
    },
    {
     "name": "stdout",
     "output_type": "stream",
     "text": [
      "\r",
      "Episode: 1480\tAverage Score: 0.02\tCurrent Score: 0.00\r",
      "Episode: 1480\tAverage Score: 0.02\tCurrent Score: 0.00\n",
      "\r",
      "Episode: 1481\tAverage Score: 0.02\tCurrent Score: 0.00"
     ]
    },
    {
     "name": "stdout",
     "output_type": "stream",
     "text": [
      "\r",
      "Episode: 1482\tAverage Score: 0.02\tCurrent Score: 0.00"
     ]
    },
    {
     "name": "stdout",
     "output_type": "stream",
     "text": [
      "\r",
      "Episode: 1483\tAverage Score: 0.02\tCurrent Score: 0.00"
     ]
    },
    {
     "name": "stdout",
     "output_type": "stream",
     "text": [
      "\r",
      "Episode: 1484\tAverage Score: 0.02\tCurrent Score: 0.00\r",
      "Episode: 1485\tAverage Score: 0.02\tCurrent Score: 0.00"
     ]
    },
    {
     "name": "stdout",
     "output_type": "stream",
     "text": [
      "\r",
      "Episode: 1486\tAverage Score: 0.02\tCurrent Score: 0.00"
     ]
    },
    {
     "name": "stdout",
     "output_type": "stream",
     "text": [
      "\r",
      "Episode: 1487\tAverage Score: 0.02\tCurrent Score: 0.00\r",
      "Episode: 1488\tAverage Score: 0.02\tCurrent Score: 0.00"
     ]
    },
    {
     "name": "stdout",
     "output_type": "stream",
     "text": [
      "\r",
      "Episode: 1489\tAverage Score: 0.02\tCurrent Score: 0.00"
     ]
    },
    {
     "name": "stdout",
     "output_type": "stream",
     "text": [
      "\r",
      "Episode: 1490\tAverage Score: 0.02\tCurrent Score: 0.00\r",
      "Episode: 1490\tAverage Score: 0.02\tCurrent Score: 0.00\n"
     ]
    },
    {
     "name": "stdout",
     "output_type": "stream",
     "text": [
      "\r",
      "Episode: 1491\tAverage Score: 0.02\tCurrent Score: 0.00\r",
      "Episode: 1492\tAverage Score: 0.02\tCurrent Score: 0.00"
     ]
    },
    {
     "name": "stdout",
     "output_type": "stream",
     "text": [
      "\r",
      "Episode: 1493\tAverage Score: 0.02\tCurrent Score: 0.00"
     ]
    },
    {
     "name": "stdout",
     "output_type": "stream",
     "text": [
      "\r",
      "Episode: 1494\tAverage Score: 0.01\tCurrent Score: 0.00\r",
      "Episode: 1495\tAverage Score: 0.01\tCurrent Score: 0.00"
     ]
    },
    {
     "name": "stdout",
     "output_type": "stream",
     "text": [
      "\r",
      "Episode: 1496\tAverage Score: 0.01\tCurrent Score: 0.00"
     ]
    },
    {
     "name": "stdout",
     "output_type": "stream",
     "text": [
      "\r",
      "Episode: 1497\tAverage Score: 0.01\tCurrent Score: 0.00\r",
      "Episode: 1498\tAverage Score: 0.01\tCurrent Score: 0.00"
     ]
    },
    {
     "name": "stdout",
     "output_type": "stream",
     "text": [
      "\r",
      "Episode: 1499\tAverage Score: 0.01\tCurrent Score: 0.00"
     ]
    },
    {
     "name": "stdout",
     "output_type": "stream",
     "text": [
      "\r",
      "Episode: 1500\tAverage Score: 0.01\tCurrent Score: 0.00\r",
      "Episode: 1500\tAverage Score: 0.01\tCurrent Score: 0.00\n"
     ]
    },
    {
     "name": "stdout",
     "output_type": "stream",
     "text": [
      "\r",
      "Episode: 1501\tAverage Score: 0.01\tCurrent Score: 0.00\r",
      "Episode: 1502\tAverage Score: 0.01\tCurrent Score: 0.00"
     ]
    },
    {
     "name": "stdout",
     "output_type": "stream",
     "text": [
      "\r",
      "Episode: 1503\tAverage Score: 0.01\tCurrent Score: 0.00"
     ]
    },
    {
     "name": "stdout",
     "output_type": "stream",
     "text": [
      "\r",
      "Episode: 1504\tAverage Score: 0.01\tCurrent Score: 0.00\r",
      "Episode: 1505\tAverage Score: 0.01\tCurrent Score: 0.00"
     ]
    },
    {
     "name": "stdout",
     "output_type": "stream",
     "text": [
      "\r",
      "Episode: 1506\tAverage Score: 0.01\tCurrent Score: 0.00"
     ]
    },
    {
     "name": "stdout",
     "output_type": "stream",
     "text": [
      "\r",
      "Episode: 1507\tAverage Score: 0.01\tCurrent Score: 0.00"
     ]
    },
    {
     "name": "stdout",
     "output_type": "stream",
     "text": [
      "\r",
      "Episode: 1508\tAverage Score: 0.01\tCurrent Score: 0.00\r",
      "Episode: 1509\tAverage Score: 0.01\tCurrent Score: 0.00"
     ]
    },
    {
     "name": "stdout",
     "output_type": "stream",
     "text": [
      "\r",
      "Episode: 1510\tAverage Score: 0.01\tCurrent Score: 0.00\r",
      "Episode: 1510\tAverage Score: 0.01\tCurrent Score: 0.00\n"
     ]
    },
    {
     "name": "stdout",
     "output_type": "stream",
     "text": [
      "\r",
      "Episode: 1511\tAverage Score: 0.01\tCurrent Score: 0.00\r",
      "Episode: 1512\tAverage Score: 0.01\tCurrent Score: 0.00"
     ]
    },
    {
     "name": "stdout",
     "output_type": "stream",
     "text": [
      "\r",
      "Episode: 1513\tAverage Score: 0.01\tCurrent Score: 0.00"
     ]
    },
    {
     "name": "stdout",
     "output_type": "stream",
     "text": [
      "\r",
      "Episode: 1514\tAverage Score: 0.01\tCurrent Score: 0.00"
     ]
    },
    {
     "name": "stdout",
     "output_type": "stream",
     "text": [
      "\r",
      "Episode: 1515\tAverage Score: 0.01\tCurrent Score: 0.00\r",
      "Episode: 1516\tAverage Score: 0.01\tCurrent Score: 0.00"
     ]
    },
    {
     "name": "stdout",
     "output_type": "stream",
     "text": [
      "\r",
      "Episode: 1517\tAverage Score: 0.01\tCurrent Score: 0.00"
     ]
    },
    {
     "name": "stdout",
     "output_type": "stream",
     "text": [
      "\r",
      "Episode: 1518\tAverage Score: 0.01\tCurrent Score: 0.00\r",
      "Episode: 1519\tAverage Score: 0.01\tCurrent Score: 0.00"
     ]
    },
    {
     "name": "stdout",
     "output_type": "stream",
     "text": [
      "\r",
      "Episode: 1520\tAverage Score: 0.01\tCurrent Score: 0.00\r",
      "Episode: 1520\tAverage Score: 0.01\tCurrent Score: 0.00\n"
     ]
    },
    {
     "name": "stdout",
     "output_type": "stream",
     "text": [
      "\r",
      "Episode: 1521\tAverage Score: 0.00\tCurrent Score: 0.00"
     ]
    },
    {
     "name": "stdout",
     "output_type": "stream",
     "text": [
      "\r",
      "Episode: 1522\tAverage Score: 0.00\tCurrent Score: 0.00\r",
      "Episode: 1523\tAverage Score: 0.00\tCurrent Score: 0.00"
     ]
    },
    {
     "name": "stdout",
     "output_type": "stream",
     "text": [
      "\r",
      "Episode: 1524\tAverage Score: 0.00\tCurrent Score: 0.00"
     ]
    },
    {
     "name": "stdout",
     "output_type": "stream",
     "text": [
      "\r",
      "Episode: 1525\tAverage Score: 0.00\tCurrent Score: 0.00\r",
      "Episode: 1526\tAverage Score: 0.00\tCurrent Score: 0.00"
     ]
    },
    {
     "name": "stdout",
     "output_type": "stream",
     "text": [
      "\r",
      "Episode: 1527\tAverage Score: 0.00\tCurrent Score: 0.00"
     ]
    },
    {
     "name": "stdout",
     "output_type": "stream",
     "text": [
      "\r",
      "Episode: 1528\tAverage Score: 0.00\tCurrent Score: 0.00\r",
      "Episode: 1529\tAverage Score: 0.00\tCurrent Score: 0.00"
     ]
    },
    {
     "name": "stdout",
     "output_type": "stream",
     "text": [
      "\r",
      "Episode: 1530\tAverage Score: 0.00\tCurrent Score: 0.00\r",
      "Episode: 1530\tAverage Score: 0.00\tCurrent Score: 0.00\n"
     ]
    },
    {
     "name": "stdout",
     "output_type": "stream",
     "text": [
      "\r",
      "Episode: 1531\tAverage Score: 0.00\tCurrent Score: 0.00"
     ]
    },
    {
     "name": "stdout",
     "output_type": "stream",
     "text": [
      "\r",
      "Episode: 1532\tAverage Score: 0.00\tCurrent Score: 0.00\r",
      "Episode: 1533\tAverage Score: 0.00\tCurrent Score: 0.00"
     ]
    },
    {
     "name": "stdout",
     "output_type": "stream",
     "text": [
      "\r",
      "Episode: 1534\tAverage Score: 0.00\tCurrent Score: 0.00"
     ]
    },
    {
     "name": "stdout",
     "output_type": "stream",
     "text": [
      "\r",
      "Episode: 1535\tAverage Score: 0.00\tCurrent Score: 0.00\r",
      "Episode: 1536\tAverage Score: 0.00\tCurrent Score: 0.00"
     ]
    },
    {
     "name": "stdout",
     "output_type": "stream",
     "text": [
      "\r",
      "Episode: 1537\tAverage Score: 0.00\tCurrent Score: 0.00"
     ]
    },
    {
     "name": "stdout",
     "output_type": "stream",
     "text": [
      "\r",
      "Episode: 1538\tAverage Score: 0.00\tCurrent Score: 0.00"
     ]
    },
    {
     "name": "stdout",
     "output_type": "stream",
     "text": [
      "\r",
      "Episode: 1539\tAverage Score: 0.00\tCurrent Score: 0.00\r",
      "Episode: 1540\tAverage Score: 0.00\tCurrent Score: 0.00\r",
      "Episode: 1540\tAverage Score: 0.00\tCurrent Score: 0.00\n"
     ]
    },
    {
     "name": "stdout",
     "output_type": "stream",
     "text": [
      "\r",
      "Episode: 1541\tAverage Score: 0.00\tCurrent Score: 0.00"
     ]
    },
    {
     "name": "stdout",
     "output_type": "stream",
     "text": [
      "\r",
      "Episode: 1542\tAverage Score: 0.00\tCurrent Score: 0.00\r",
      "Episode: 1543\tAverage Score: 0.00\tCurrent Score: 0.00"
     ]
    },
    {
     "name": "stdout",
     "output_type": "stream",
     "text": [
      "\r",
      "Episode: 1544\tAverage Score: 0.00\tCurrent Score: 0.00"
     ]
    },
    {
     "name": "stdout",
     "output_type": "stream",
     "text": [
      "\r",
      "Episode: 1545\tAverage Score: 0.00\tCurrent Score: 0.00"
     ]
    },
    {
     "name": "stdout",
     "output_type": "stream",
     "text": [
      "\r",
      "Episode: 1546\tAverage Score: 0.00\tCurrent Score: 0.00\r",
      "Episode: 1547\tAverage Score: 0.00\tCurrent Score: 0.00"
     ]
    },
    {
     "name": "stdout",
     "output_type": "stream",
     "text": [
      "\r",
      "Episode: 1548\tAverage Score: 0.00\tCurrent Score: 0.00"
     ]
    },
    {
     "name": "stdout",
     "output_type": "stream",
     "text": [
      "\r",
      "Episode: 1549\tAverage Score: 0.00\tCurrent Score: 0.00\r",
      "Episode: 1550\tAverage Score: 0.00\tCurrent Score: 0.00\r",
      "Episode: 1550\tAverage Score: 0.00\tCurrent Score: 0.00\n"
     ]
    },
    {
     "name": "stdout",
     "output_type": "stream",
     "text": [
      "\r",
      "Episode: 1551\tAverage Score: 0.00\tCurrent Score: 0.00"
     ]
    },
    {
     "name": "stdout",
     "output_type": "stream",
     "text": [
      "\r",
      "Episode: 1552\tAverage Score: 0.00\tCurrent Score: 0.00"
     ]
    },
    {
     "name": "stdout",
     "output_type": "stream",
     "text": [
      "\r",
      "Episode: 1553\tAverage Score: 0.00\tCurrent Score: 0.00\r",
      "Episode: 1554\tAverage Score: 0.00\tCurrent Score: 0.00"
     ]
    },
    {
     "name": "stdout",
     "output_type": "stream",
     "text": [
      "\r",
      "Episode: 1555\tAverage Score: 0.00\tCurrent Score: 0.00"
     ]
    },
    {
     "name": "stdout",
     "output_type": "stream",
     "text": [
      "\r",
      "Episode: 1556\tAverage Score: 0.00\tCurrent Score: 0.00\r",
      "Episode: 1557\tAverage Score: 0.00\tCurrent Score: 0.00"
     ]
    },
    {
     "name": "stdout",
     "output_type": "stream",
     "text": [
      "\r",
      "Episode: 1558\tAverage Score: 0.00\tCurrent Score: 0.00"
     ]
    },
    {
     "name": "stdout",
     "output_type": "stream",
     "text": [
      "\r",
      "Episode: 1559\tAverage Score: 0.00\tCurrent Score: 0.00\r",
      "Episode: 1560\tAverage Score: 0.00\tCurrent Score: 0.00\r",
      "Episode: 1560\tAverage Score: 0.00\tCurrent Score: 0.00\n"
     ]
    },
    {
     "name": "stdout",
     "output_type": "stream",
     "text": [
      "\r",
      "Episode: 1561\tAverage Score: 0.00\tCurrent Score: 0.00"
     ]
    },
    {
     "name": "stdout",
     "output_type": "stream",
     "text": [
      "\r",
      "Episode: 1562\tAverage Score: 0.00\tCurrent Score: 0.00"
     ]
    },
    {
     "name": "stdout",
     "output_type": "stream",
     "text": [
      "\r",
      "Episode: 1563\tAverage Score: 0.00\tCurrent Score: 0.00\r",
      "Episode: 1564\tAverage Score: 0.00\tCurrent Score: 0.00"
     ]
    },
    {
     "name": "stdout",
     "output_type": "stream",
     "text": [
      "\r",
      "Episode: 1565\tAverage Score: 0.00\tCurrent Score: 0.00"
     ]
    },
    {
     "name": "stdout",
     "output_type": "stream",
     "text": [
      "\r",
      "Episode: 1566\tAverage Score: 0.00\tCurrent Score: 0.00\r",
      "Episode: 1567\tAverage Score: 0.00\tCurrent Score: 0.00"
     ]
    },
    {
     "name": "stdout",
     "output_type": "stream",
     "text": [
      "\r",
      "Episode: 1568\tAverage Score: 0.00\tCurrent Score: 0.00"
     ]
    },
    {
     "name": "stdout",
     "output_type": "stream",
     "text": [
      "\r",
      "Episode: 1569\tAverage Score: 0.00\tCurrent Score: 0.00"
     ]
    },
    {
     "name": "stdout",
     "output_type": "stream",
     "text": [
      "\r",
      "Episode: 1570\tAverage Score: 0.00\tCurrent Score: 0.00\r",
      "Episode: 1570\tAverage Score: 0.00\tCurrent Score: 0.00\n",
      "\r",
      "Episode: 1571\tAverage Score: 0.00\tCurrent Score: 0.00"
     ]
    },
    {
     "name": "stdout",
     "output_type": "stream",
     "text": [
      "\r",
      "Episode: 1572\tAverage Score: 0.00\tCurrent Score: 0.00"
     ]
    }
   ],
   "source": [
    "#AGENT\n",
    "import ddpg_agent\n",
    "\n",
    "\n",
    "def ddpg(max_t = 1000, window_size=100, score_threshold=0.5, \n",
    "         print_interval=10, epochs=3000):\n",
    "\n",
    "    scores_deque = deque(maxlen=window_size) \n",
    "    scores = []        \n",
    "    best_average_score = -np.inf\n",
    "    print(\"Training on {} started...\".format(agent.device))\n",
    "    \n",
    "    for i_episode in range(1, epochs+1):\n",
    "        \n",
    "        env_info = env.reset(train_mode=True)[brain_name]\n",
    "        states = env_info.vector_observations\n",
    "        \n",
    "        agent.reset()\n",
    "        episode_scores = np.zeros(num_agents) \n",
    "\n",
    "        for t in range(max_t):\n",
    "            actions = agent.act(states)\n",
    "            env_info = env.step(actions)[brain_name]\n",
    "            next_states = env_info.vector_observations\n",
    "            rewards = env_info.rewards\n",
    "            dones = env_info.local_done\n",
    "\n",
    "            agent.step(states=states, actions=actions, rewards=rewards, next_states=next_states, dones=dones)\n",
    "            episode_scores += np.array(rewards)\n",
    "            states = next_states\n",
    "            if np.any(dones):\n",
    "                break\n",
    "\n",
    "        episode_score = np.max(episode_scores) # Summary of scores for this episode\n",
    "        scores_deque.append(episode_score)\n",
    "        scores.append(episode_score)\n",
    "        average_score = np.mean(scores_deque)\n",
    "\n",
    "        print('\\rEpisode: {}\\tAverage Score: {:.2f}\\tCurrent Score: {:.2f}'.format(i_episode, average_score, episode_score), end=\"\")\n",
    "        if i_episode % print_interval == 0:\n",
    "            print('\\rEpisode: {}\\tAverage Score: {:.2f}\\tCurrent Score: {:.2f}'.format(i_episode, average_score, episode_score))\n",
    "            torch.save(agent.actor_local.state_dict(), 'checkpoint_actor.pth')\n",
    "            torch.save(agent.critic_local.state_dict(), 'checkpoint_critic.pth')\n",
    "            \n",
    "        if average_score >= score_threshold:\n",
    "            print('\\nEnvironment solved in {} episodes!\\tAverage Score: {:.2f}'.format(i_episode-window_size, average_score))\n",
    "            torch.save(agent.actor_local.state_dict(), 'checkpoint_actor.pth')\n",
    "            torch.save(agent.critic_local.state_dict(), 'checkpoint_critic.pth')\n",
    "            break\n",
    "    np.save('scores.npy', scores)\n",
    "    return scores\n",
    "\n",
    "scores = ddpg(max_t=1000, epochs=2000)\n"
   ]
  },
  {
   "cell_type": "code",
   "execution_count": null,
   "metadata": {
    "collapsed": false
   },
   "outputs": [],
   "source": [
    "episode_score"
   ]
  },
  {
   "cell_type": "code",
   "execution_count": null,
   "metadata": {
    "collapsed": false
   },
   "outputs": [],
   "source": [
    "from matplotlib import pyplot as plt\n",
    "plt.plot(scores)\n",
    "plt.show()\n",
    "d"
   ]
  }
 ],
 "metadata": {
  "kernelspec": {
   "argv": [
    "/Library/Frameworks/Python.framework/Versions/3.7/bin/python3.7",
    "-m",
    "ipykernel_launcher",
    "-f",
    "{connection_file}"
   ],
   "display_name": "drlnd",
   "env": null,
   "interrupt_mode": "signal",
   "language": "python",
   "metadata": null,
   "name": "drlnd"
  },
  "language_info": {
   "codemirror_mode": {
    "name": "ipython",
    "version": 3
   },
   "file_extension": ".py",
   "mimetype": "text/x-python",
   "name": "python",
   "nbconvert_exporter": "python",
   "pygments_lexer": "ipython3",
   "version": "3.6.4"
  },
  "name": "Tennis.ipynb"
 },
 "nbformat": 4,
 "nbformat_minor": 2
}
